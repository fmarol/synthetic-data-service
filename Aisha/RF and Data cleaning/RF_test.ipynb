{
 "cells": [
  {
   "cell_type": "code",
   "execution_count": 1,
   "metadata": {},
   "outputs": [],
   "source": [
    "import pandas as pd\n",
    "import numpy as np\n",
    "df = pd.read_csv('observations.csv')"
   ]
  },
  {
   "cell_type": "code",
   "execution_count": 2,
   "metadata": {},
   "outputs": [],
   "source": [
    "related_columns = ['Subjective fever [EUPATH_0000100]','Febrile [EUPATH_0000097]','Asexual Plasmodium parasites present, by microscopy [EUPATH_0000048]'\\\n",
    "                   ,'Submicroscopic Plasmodium present, by LAMP [EUPATH_0000487]',\\\n",
    "                   'Complicated malaria [EUPATH_0000040]','Basis of complicated diagnosis [EUPATH_0000316]','Malaria treatment [EUPATH_0000740]',\\\n",
    "                   'Malaria diagnosis and parasite status [EUPATH_0000338]']\n",
    "target_columns = ['Malaria diagnosis [EUPATH_0000090]']"
   ]
  },
  {
   "cell_type": "code",
   "execution_count": 3,
   "metadata": {},
   "outputs": [],
   "source": [
    "df_rel_col = df.loc[:,related_columns]\n",
    "df_tar_col = df.loc[:,target_columns]"
   ]
  },
  {
   "cell_type": "code",
   "execution_count": 4,
   "metadata": {},
   "outputs": [
    {
     "data": {
      "text/plain": [
       "OrdinalEncoder(categories='auto', dtype=<class 'numpy.float64'>)"
      ]
     },
     "execution_count": 4,
     "metadata": {},
     "output_type": "execute_result"
    }
   ],
   "source": [
    "from sklearn.preprocessing import OrdinalEncoder\n",
    "enc_r = OrdinalEncoder()\n",
    "enc_t = OrdinalEncoder()\n",
    "data_ral_col = df_rel_col.values\n",
    "data_tar_col = df_tar_col.values\n",
    "data_ral_col = data_ral_col.astype(str)\n",
    "data_tar_col = data_tar_col.astype(str)\n",
    "enc_r.fit(data_ral_col)\n",
    "enc_t.fit(data_tar_col)"
   ]
  },
  {
   "cell_type": "code",
   "execution_count": 5,
   "metadata": {},
   "outputs": [
    {
     "data": {
      "text/plain": [
       "array(['Blood smear indicated but not done',\n",
       "       'Blood smear negative / LAMP negative',\n",
       "       'Blood smear negative / LAMP not done',\n",
       "       'Blood smear negative / LAMP positive',\n",
       "       'Blood smear not indicated', 'Blood smear positive / no malaria',\n",
       "       'Symptomatic malaria', 'nan'], dtype='<U84')"
      ]
     },
     "execution_count": 5,
     "metadata": {},
     "output_type": "execute_result"
    }
   ],
   "source": [
    "enc_r.categories_[-1].astype(str)"
   ]
  },
  {
   "cell_type": "code",
   "execution_count": 6,
   "metadata": {},
   "outputs": [
    {
     "data": {
      "text/plain": [
       "array([['No', 'No', 'nan', ..., 'nan', 'No malaria medications given',\n",
       "        'Blood smear not indicated'],\n",
       "       ['No', 'No', 'Negative', ..., 'nan',\n",
       "        'No malaria medications given',\n",
       "        'Blood smear negative / LAMP not done'],\n",
       "       ['No', 'No', 'Negative', ..., 'nan',\n",
       "        'No malaria medications given',\n",
       "        'Blood smear negative / LAMP not done'],\n",
       "       ...,\n",
       "       ['No', 'No', 'Negative', ..., 'nan',\n",
       "        'No malaria medications given',\n",
       "        'Blood smear negative / LAMP negative'],\n",
       "       ['No', 'No', 'Negative', ..., 'nan',\n",
       "        'No malaria medications given',\n",
       "        'Blood smear negative / LAMP negative'],\n",
       "       ['No', 'No', 'Negative', ..., 'nan',\n",
       "        'No malaria medications given',\n",
       "        'Blood smear negative / LAMP negative']], dtype='<U84')"
      ]
     },
     "execution_count": 6,
     "metadata": {},
     "output_type": "execute_result"
    }
   ],
   "source": [
    "data_ral_col"
   ]
  },
  {
   "cell_type": "code",
   "execution_count": 7,
   "metadata": {},
   "outputs": [
    {
     "data": {
      "text/plain": [
       "array(['No', 'Yes', 'nan'], dtype='<U3')"
      ]
     },
     "execution_count": 7,
     "metadata": {},
     "output_type": "execute_result"
    }
   ],
   "source": [
    "target_names = np.array(['No', 'Yes', 'nan'])\n",
    "target_names"
   ]
  },
  {
   "cell_type": "code",
   "execution_count": 8,
   "metadata": {},
   "outputs": [],
   "source": [
    "# import sys\n",
    "# import numpy\n",
    "# numpy.set_printoptions(threshold=1000)\n",
    "enc_ral = enc_r.transform(data_ral_col)\n",
    "enc_tar = enc_t.transform(data_tar_col)"
   ]
  },
  {
   "cell_type": "code",
   "execution_count": 10,
   "metadata": {},
   "outputs": [
    {
     "data": {
      "text/plain": [
       "DecisionTreeClassifier(ccp_alpha=0.0, class_weight=None, criterion='gini',\n",
       "                       max_depth=None, max_features=None, max_leaf_nodes=None,\n",
       "                       min_impurity_decrease=0.0, min_impurity_split=None,\n",
       "                       min_samples_leaf=1, min_samples_split=2,\n",
       "                       min_weight_fraction_leaf=0.0, presort='deprecated',\n",
       "                       random_state=None, splitter='best')"
      ]
     },
     "execution_count": 10,
     "metadata": {},
     "output_type": "execute_result"
    }
   ],
   "source": [
    "from sklearn.tree import DecisionTreeClassifier\n",
    "X = enc_ral\n",
    "tree_simple = DecisionTreeClassifier()\n",
    "tree_simple.fit(X,enc_tar)"
   ]
  },
  {
   "cell_type": "code",
   "execution_count": 13,
   "metadata": {},
   "outputs": [],
   "source": [
    "from sklearn.tree import export_graphviz\n",
    "export_graphviz(tree_simple, out_file =\"RF_test.dot\",feature_names=related_columns,\\\n",
    "                class_names = target_names,rounded = True,filled = True)\n",
    "#To view the dot graph, type the following\n",
    "# dot -Tpng RF_test.dot -o RF_test.png\n",
    "# in the terminal (make sure you are in the directory of the dot file)\n"
   ]
  },
  {
   "cell_type": "markdown",
   "metadata": {},
   "source": [
    "The problem here is the prediction is just 'cheating' from the column 'Malaria Diagnosis and parasite density'"
   ]
  }
 ],
 "metadata": {
  "kernelspec": {
   "display_name": "Python 3",
   "language": "python",
   "name": "python3"
  },
  "language_info": {
   "codemirror_mode": {
    "name": "ipython",
    "version": 3
   },
   "file_extension": ".py",
   "mimetype": "text/x-python",
   "name": "python",
   "nbconvert_exporter": "python",
   "pygments_lexer": "ipython3",
   "version": "3.7.6"
  }
 },
 "nbformat": 4,
 "nbformat_minor": 4
}
