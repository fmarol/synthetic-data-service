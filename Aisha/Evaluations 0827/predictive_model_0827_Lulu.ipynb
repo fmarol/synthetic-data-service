{
  "nbformat": 4,
  "nbformat_minor": 0,
  "metadata": {
    "kernelspec": {
      "display_name": "Python 3",
      "language": "python",
      "name": "python3"
    },
    "language_info": {
      "codemirror_mode": {
        "name": "ipython",
        "version": 3
      },
      "file_extension": ".py",
      "mimetype": "text/x-python",
      "name": "python",
      "nbconvert_exporter": "python",
      "pygments_lexer": "ipython3",
      "version": "3.7.6"
    },
    "colab": {
      "name": "predictive_model_0827_Lulu.ipynb",
      "provenance": [],
      "collapsed_sections": [
        "oOvYtvF6uLkc"
      ]
    },
    "accelerator": "GPU"
  },
  "cells": [
    {
      "cell_type": "code",
      "metadata": {
        "id": "5cnmew5WVB9Q",
        "colab_type": "code",
        "colab": {}
      },
      "source": [
        "import tensorflow as tf\n",
        "import numpy as np\n",
        "import matplotlib.pyplot as plt\n",
        "import pandas as pd\n",
        "from sklearn.model_selection import train_test_split, ShuffleSplit"
      ],
      "execution_count": 1,
      "outputs": []
    },
    {
      "cell_type": "markdown",
      "metadata": {
        "id": "TWhpX5TCP5bv",
        "colab_type": "text"
      },
      "source": [
        "Add image here"
      ]
    },
    {
      "cell_type": "markdown",
      "metadata": {
        "id": "FGmG1Pm8T1Xl",
        "colab_type": "text"
      },
      "source": [
        "# Data Loading Tools"
      ]
    },
    {
      "cell_type": "markdown",
      "metadata": {
        "id": "2_yYT5LVqn0k",
        "colab_type": "text"
      },
      "source": [
        "Steps 1 and 2\n",
        "\n",
        "Lulu: make_time_windows and make_x_y is similar to Aisha's data_label_split and data_divide. Differences:\n",
        "* make_x_y requires a single column to be selected and builds y's from it\n",
        "* make_time_windows fixes the sequence length and drags the window down each participant's timeseries (not the concatenated npy with all visits)\n",
        "\n",
        "To do:\n",
        "* Normalisation/Scaling"
      ]
    },
    {
      "cell_type": "code",
      "metadata": {
        "id": "WRKremqAScNs",
        "colab_type": "code",
        "colab": {}
      },
      "source": [
        "def load_DoppelGANger():\n",
        "  ori_data = pd.read_csv('/content/cat_time_5abovevisits_all.csv') # max timeseries length = 130\n",
        "  # gen_data = pd.read_csv('/content/gen_doptf2_cat_5abovevisits_e100_lstm.csv') # max timeseries length = 107\n",
        "  gen_data = pd.read_csv('/content/gen_doptf2_cat_5abovevisits_e200_lstm.csv') # max timeseries length = 111\n",
        "  ori_data = ori_data.drop(columns=['diar_No', 'diar_Yes', 'head_No', 'head_Yes'])\n",
        "  gen_data = gen_data.drop(columns=['diar_No', 'diar_Yes', 'head_No', 'head_Yes'])\n",
        "  ori_data = cat_df_to_3d_array(ori_data, 130) # array (1347, 130, 10)\n",
        "  gen_data = cat_df_to_3d_array(gen_data, 130) # array (1347, 130, 10)\n",
        "  return ori_data, gen_data \n",
        "\n",
        "def cat_df_to_3d_array(data, max_length):\n",
        "  data.fillna(0)\n",
        "  # max_length = data['id'].value_counts().max() # if you want to get it from the data, but ori/gen may have different max lengths\n",
        "  lst = []\n",
        "  for i in data.id.unique():\n",
        "    timeseries = data[data['id']==i].drop(columns='id').to_numpy()\n",
        "    length, _ = np.shape(timeseries)\n",
        "    timeseries = np.pad(timeseries, pad_width=((0,max_length-length), (0,0)), mode='constant') # fill remaining rows with zeros\n",
        "    lst.append(timeseries)\n",
        "  array = np.stack(lst)\n",
        "  return array\n",
        "\n",
        "\n",
        "def make_time_windows(dataset, w):\n",
        "  \"\"\"replaces each participant's 130 long timeseries with all their w length window timeseries\n",
        "  \"\"\"\n",
        "  num_participants, full_length, _ = np.shape(dataset)\n",
        "  time_windows = []\n",
        "\n",
        "  for i in list(range(num_participants)): # i = participant's position in dataset\n",
        "\n",
        "    for j in list(range(full_length-w+1)): # j = row number of first row in window\n",
        "      time_windows.append(dataset[i,j:j+w,:])\n",
        "\n",
        "  return np.stack(time_windows)\n",
        "\n",
        "\n",
        "def make_x_y(dataset, y_index, w):\n",
        "  \"\"\"make inputs for model. Note the returned data's sequence length = w-1\n",
        "    Choose w less than time window length!\n",
        "  \"\"\"\n",
        "  dataset = make_time_windows(dataset, w)\n",
        "  x = np.delete(dataset, obj=y_index, axis=2) # remove y column from all time series\n",
        "  x = np.delete(x, obj=-1, axis=1) # remove last row from all time series\n",
        "  y = dataset[:,1:,[y_index]] # take only y column and remove its earliest cell\n",
        "  return x, y"
      ],
      "execution_count": 10,
      "outputs": []
    },
    {
      "cell_type": "markdown",
      "metadata": {
        "id": "TuBlDdaZ1dhT",
        "colab_type": "text"
      },
      "source": [
        "Shape Checks:"
      ]
    },
    {
      "cell_type": "code",
      "metadata": {
        "id": "l36b9S8hplHs",
        "colab_type": "code",
        "colab": {
          "base_uri": "https://localhost:8080/",
          "height": 34
        },
        "outputId": "16220d41-8536-4aa4-f3eb-719b90f9c04a"
      },
      "source": [
        "data = pd.read_csv('/content/gen_doptf2_cat_5abovevisits_e200_lstm.csv')\n",
        "data['id'].value_counts().max()"
      ],
      "execution_count": 3,
      "outputs": [
        {
          "output_type": "execute_result",
          "data": {
            "text/plain": [
              "111"
            ]
          },
          "metadata": {
            "tags": []
          },
          "execution_count": 3
        }
      ]
    },
    {
      "cell_type": "code",
      "metadata": {
        "id": "S0mUtPj0eu5w",
        "colab_type": "code",
        "colab": {
          "base_uri": "https://localhost:8080/",
          "height": 70
        },
        "outputId": "19156ad9-5487-46d1-9fdf-76adc93d683e"
      },
      "source": [
        "ori_set, gen_set = load_DoppelGANger()\n",
        "print([np.shape(_set) for _set in [ori_set, gen_set]])\n",
        "\n",
        "x, y = make_x_y(ori_set, 0, 129)\n",
        "print([np.shape(_set) for _set in [x, y]])\n",
        "print([type(_set) for _set in [x, y]])"
      ],
      "execution_count": 11,
      "outputs": [
        {
          "output_type": "stream",
          "text": [
            "[(1347, 130, 6), (1347, 130, 6)]\n",
            "[(2694, 128, 5), (2694, 128, 1)]\n",
            "[<class 'numpy.ndarray'>, <class 'numpy.ndarray'>]\n"
          ],
          "name": "stdout"
        }
      ]
    },
    {
      "cell_type": "code",
      "metadata": {
        "id": "Hzf3ij54rASU",
        "colab_type": "code",
        "colab": {
          "base_uri": "https://localhost:8080/",
          "height": 247
        },
        "outputId": "70a59675-66bf-490b-fe19-c835f607c874"
      },
      "source": [
        "gen_set[0]"
      ],
      "execution_count": 7,
      "outputs": [
        {
          "output_type": "execute_result",
          "data": {
            "text/plain": [
              "array([[2.87951003e+01, 1.05582377e+02, 2.12656174e+01, ...,\n",
              "        2.68436465e-02, 9.66183603e-01, 3.38163525e-02],\n",
              "       [2.61913285e+01, 1.13313898e+02, 1.95270626e+01, ...,\n",
              "        4.74381968e-02, 7.71803737e-01, 2.28196263e-01],\n",
              "       [2.58570886e+01, 1.20022170e+02, 2.29951503e+01, ...,\n",
              "        1.56752869e-01, 8.60333860e-01, 1.39666155e-01],\n",
              "       ...,\n",
              "       [0.00000000e+00, 0.00000000e+00, 0.00000000e+00, ...,\n",
              "        0.00000000e+00, 0.00000000e+00, 0.00000000e+00],\n",
              "       [0.00000000e+00, 0.00000000e+00, 0.00000000e+00, ...,\n",
              "        0.00000000e+00, 0.00000000e+00, 0.00000000e+00],\n",
              "       [0.00000000e+00, 0.00000000e+00, 0.00000000e+00, ...,\n",
              "        0.00000000e+00, 0.00000000e+00, 0.00000000e+00]])"
            ]
          },
          "metadata": {
            "tags": []
          },
          "execution_count": 7
        }
      ]
    },
    {
      "cell_type": "markdown",
      "metadata": {
        "id": "4WB7Bs0yXO_l",
        "colab_type": "text"
      },
      "source": [
        "# Define Predictive Model"
      ]
    },
    {
      "cell_type": "markdown",
      "metadata": {
        "id": "9Ng6XoqPrv2e",
        "colab_type": "text"
      },
      "source": [
        "Lulu: moved import statements out of functions and to the top of the document"
      ]
    },
    {
      "cell_type": "code",
      "metadata": {
        "id": "8GfrppLTP6vJ",
        "colab_type": "code",
        "colab": {}
      },
      "source": [
        "def last_time_step_mae(Y_true, Y_pred):\n",
        "  return tf.keras.metrics.MAE(Y_true[:, -1], Y_pred[:, -1])\n",
        "\n",
        "def make_predictive_model(num_cols):\n",
        "  input_size = [None,num_cols-1] #\n",
        "  hidden_dim = num_cols//2 #\n",
        "\n",
        "  model = tf.keras.Sequential()\n",
        "  model.add(tf.keras.layers.InputLayer(input_shape=input_size)) # shape = [#timesteps -1, #features=dim-1] per \n",
        "  model.add(tf.keras.layers.GRU(hidden_dim, return_sequences=True)) # shape = [#timesteps -1, hidden_dim]\n",
        "  model.add(tf.keras.layers.TimeDistributed(tf.keras.layers.Dense(hidden_dim, activation = \"sigmoid\")))  # shape = [#timesteps -1, hidden_dim]\n",
        "  model.add(tf.keras.layers.TimeDistributed(tf.keras.layers.Dense(1, activation = \"linear\")))  # output shape = [#timesteps -1, 1]\n",
        "\n",
        "  model.compile(optimizer = \"adam\", loss = tf.keras.losses.MeanAbsoluteError(), metrics=[last_time_step_mae])\n",
        "\n",
        "  return model"
      ],
      "execution_count": 17,
      "outputs": []
    },
    {
      "cell_type": "markdown",
      "metadata": {
        "id": "aywblpy7Xfgl",
        "colab_type": "text"
      },
      "source": [
        "# Define Evaluation Scheme"
      ]
    },
    {
      "cell_type": "markdown",
      "metadata": {
        "id": "Eizu7mVOn3O2",
        "colab_type": "text"
      },
      "source": [
        "Lulu to do: \n",
        "* change args to list//tuple//dict type for easier looping through sets of prameters\n",
        "* is loss working right? seems proportional to window length. Must normalise beforehand?"
      ]
    },
    {
      "cell_type": "code",
      "metadata": {
        "id": "LrCFRfVXXtBM",
        "colab_type": "code",
        "colab": {}
      },
      "source": [
        "def predictive_train_test(train_set, test_set, y_cols='all', windows='max', val_ratio=0.2, batch_size=64, epochs=15, show_training=True):\n",
        "  \"\"\" does the T_T_ portion of the scheme\n",
        "\n",
        "  Args:\n",
        "    - train_set, test_set: ori_data, gen_data in order of T_T_ (labels NOT yet split off)\n",
        "      Make sure train and test are disjoint!\n",
        "      If doing TSTSvsTRTR then use this function twice\n",
        "    - y_cols: list of columns to use as target\n",
        "    - windows: list contains lengths of windows to be used in order of y columns\n",
        "              NOTE length of input sequences is actually window_length - 1 because of make_x_y\n",
        "    - val_ratio: validation set ratio split from train_set for use during training\n",
        "    - batch_size\n",
        "    - epochs\n",
        "\n",
        "  Returns:\n",
        "   - results:\n",
        "   \"\"\"\n",
        "\n",
        "\n",
        "\n",
        "  results = []\n",
        "  histories = []\n",
        "  _, max_window, num_columns = np.shape(train_set)\n",
        "  \n",
        "  #### for convenience when not tuning parameters\n",
        "  if y_cols=='all':\n",
        "    y_cols = list(range(num_columns))\n",
        "\n",
        "  if windows=='max':\n",
        "    windows=[max_window]*len(y_cols)\n",
        "  elif isinstance(windows, int):\n",
        "      windows=[windows]*len(y_cols)\n",
        "\n",
        "  for k in range(len(y_cols)): # step 5 (repeating steps 2-4 for each column)\n",
        "    print('\\nPredictive model running for column ', str(y_cols[k]), ' with window length ', str(windows[k]))\n",
        "    train_x, train_y = make_x_y(train_set, y_cols[k], windows[k]) # step 2\n",
        "    test_x, test_y = make_x_y(test_set, y_cols[k], windows[k])\n",
        "    train_x, val_x, train_y, val_y = train_test_split(train_x, train_y, test_size=val_ratio)\n",
        "\n",
        "    model = make_predictive_model(num_columns)\n",
        "    hist = model.fit(np.asarray(train_x), np.asarray(train_y), batch_size=batch_size, epochs=epochs, validation_data=(val_x, val_y)) # step 4\n",
        "    print('Getting results for column ', str(y_cols[k]), ' with window length ', str(windows[k]))\n",
        "\n",
        "    results.append([y_cols[k], windows[k], batch_size, epochs]+model.evaluate(test_x, test_y, batch_size=batch_size))\n",
        "    histories.append(hist)\n",
        "\n",
        "    if show_training:\n",
        "      plt.plot(hist.history['loss'])\n",
        "      plt.plot(hist.history['val_loss'])\n",
        "      plt.title('model loss')\n",
        "      plt.ylabel('loss')\n",
        "      plt.xlabel('epoch')\n",
        "      plt.legend(['train loss', 'val loss'], loc='upper right')\n",
        "      plt.show()\n",
        "\n",
        "  results_df = pd.DataFrame(results, columns=['y_col', 'window_length', 'batch_size', 'epochs', 'test_loss', 'test_metric'])\n",
        "\n",
        "  return results_df, histories"
      ],
      "execution_count": null,
      "outputs": []
    },
    {
      "cell_type": "markdown",
      "metadata": {
        "id": "J5cVgdKSo5EN",
        "colab_type": "text"
      },
      "source": [
        "# TRTS Example"
      ]
    },
    {
      "cell_type": "code",
      "metadata": {
        "id": "kX0XyPIN72x8",
        "colab_type": "code",
        "colab": {
          "base_uri": "https://localhost:8080/",
          "height": 405
        },
        "outputId": "6fc614ff-bdf3-4abd-98b6-90d9e7ceb1b8"
      },
      "source": [
        "TRTS_results, TRTS_histories = predictive_train_test(ori_set, gen_set, windows=[65,65,65,65,65, 65])"
      ],
      "execution_count": 16,
      "outputs": [
        {
          "output_type": "stream",
          "text": [
            "\n",
            "Predictive model running for column  0  with window length  65\n",
            "Epoch 1/15\n",
            " 254/1112 [=====>........................] - ETA: 9s - loss: nan - last_time_step_mae: nan"
          ],
          "name": "stdout"
        },
        {
          "output_type": "error",
          "ename": "KeyboardInterrupt",
          "evalue": "ignored",
          "traceback": [
            "\u001b[0;31m---------------------------------------------------------------------------\u001b[0m",
            "\u001b[0;31mKeyboardInterrupt\u001b[0m                         Traceback (most recent call last)",
            "\u001b[0;32m<ipython-input-16-15976e7199a5>\u001b[0m in \u001b[0;36m<module>\u001b[0;34m()\u001b[0m\n\u001b[0;32m----> 1\u001b[0;31m \u001b[0mTRTS_results\u001b[0m\u001b[0;34m,\u001b[0m \u001b[0mTRTS_histories\u001b[0m \u001b[0;34m=\u001b[0m \u001b[0mpredictive_train_test\u001b[0m\u001b[0;34m(\u001b[0m\u001b[0mori_set\u001b[0m\u001b[0;34m,\u001b[0m \u001b[0mgen_set\u001b[0m\u001b[0;34m,\u001b[0m \u001b[0mwindows\u001b[0m\u001b[0;34m=\u001b[0m\u001b[0;34m[\u001b[0m\u001b[0;36m65\u001b[0m\u001b[0;34m,\u001b[0m\u001b[0;36m65\u001b[0m\u001b[0;34m,\u001b[0m\u001b[0;36m65\u001b[0m\u001b[0;34m,\u001b[0m\u001b[0;36m65\u001b[0m\u001b[0;34m,\u001b[0m\u001b[0;36m65\u001b[0m\u001b[0;34m,\u001b[0m \u001b[0;36m65\u001b[0m\u001b[0;34m]\u001b[0m\u001b[0;34m)\u001b[0m\u001b[0;34m\u001b[0m\u001b[0;34m\u001b[0m\u001b[0m\n\u001b[0m",
            "\u001b[0;32m<ipython-input-14-e6d1fa51965f>\u001b[0m in \u001b[0;36mpredictive_train_test\u001b[0;34m(train_set, test_set, y_cols, windows, val_ratio, batch_size, epochs, show_training)\u001b[0m\n\u001b[1;32m     39\u001b[0m \u001b[0;34m\u001b[0m\u001b[0m\n\u001b[1;32m     40\u001b[0m     \u001b[0mmodel\u001b[0m \u001b[0;34m=\u001b[0m \u001b[0mmake_predictive_model\u001b[0m\u001b[0;34m(\u001b[0m\u001b[0mnum_columns\u001b[0m\u001b[0;34m)\u001b[0m\u001b[0;34m\u001b[0m\u001b[0;34m\u001b[0m\u001b[0m\n\u001b[0;32m---> 41\u001b[0;31m     \u001b[0mhist\u001b[0m \u001b[0;34m=\u001b[0m \u001b[0mmodel\u001b[0m\u001b[0;34m.\u001b[0m\u001b[0mfit\u001b[0m\u001b[0;34m(\u001b[0m\u001b[0mnp\u001b[0m\u001b[0;34m.\u001b[0m\u001b[0masarray\u001b[0m\u001b[0;34m(\u001b[0m\u001b[0mtrain_x\u001b[0m\u001b[0;34m)\u001b[0m\u001b[0;34m,\u001b[0m \u001b[0mnp\u001b[0m\u001b[0;34m.\u001b[0m\u001b[0masarray\u001b[0m\u001b[0;34m(\u001b[0m\u001b[0mtrain_y\u001b[0m\u001b[0;34m)\u001b[0m\u001b[0;34m,\u001b[0m \u001b[0mbatch_size\u001b[0m\u001b[0;34m=\u001b[0m\u001b[0mbatch_size\u001b[0m\u001b[0;34m,\u001b[0m \u001b[0mepochs\u001b[0m\u001b[0;34m=\u001b[0m\u001b[0mepochs\u001b[0m\u001b[0;34m,\u001b[0m \u001b[0mvalidation_data\u001b[0m\u001b[0;34m=\u001b[0m\u001b[0;34m(\u001b[0m\u001b[0mval_x\u001b[0m\u001b[0;34m,\u001b[0m \u001b[0mval_y\u001b[0m\u001b[0;34m)\u001b[0m\u001b[0;34m)\u001b[0m \u001b[0;31m# step 4\u001b[0m\u001b[0;34m\u001b[0m\u001b[0;34m\u001b[0m\u001b[0m\n\u001b[0m\u001b[1;32m     42\u001b[0m     \u001b[0mprint\u001b[0m\u001b[0;34m(\u001b[0m\u001b[0;34m'Getting results for column '\u001b[0m\u001b[0;34m,\u001b[0m \u001b[0mstr\u001b[0m\u001b[0;34m(\u001b[0m\u001b[0my_cols\u001b[0m\u001b[0;34m[\u001b[0m\u001b[0mk\u001b[0m\u001b[0;34m]\u001b[0m\u001b[0;34m)\u001b[0m\u001b[0;34m,\u001b[0m \u001b[0;34m' with window length '\u001b[0m\u001b[0;34m,\u001b[0m \u001b[0mstr\u001b[0m\u001b[0;34m(\u001b[0m\u001b[0mwindows\u001b[0m\u001b[0;34m[\u001b[0m\u001b[0mk\u001b[0m\u001b[0;34m]\u001b[0m\u001b[0;34m)\u001b[0m\u001b[0;34m)\u001b[0m\u001b[0;34m\u001b[0m\u001b[0;34m\u001b[0m\u001b[0m\n\u001b[1;32m     43\u001b[0m \u001b[0;34m\u001b[0m\u001b[0m\n",
            "\u001b[0;32m/usr/local/lib/python3.6/dist-packages/tensorflow/python/keras/engine/training.py\u001b[0m in \u001b[0;36m_method_wrapper\u001b[0;34m(self, *args, **kwargs)\u001b[0m\n\u001b[1;32m    106\u001b[0m   \u001b[0;32mdef\u001b[0m \u001b[0m_method_wrapper\u001b[0m\u001b[0;34m(\u001b[0m\u001b[0mself\u001b[0m\u001b[0;34m,\u001b[0m \u001b[0;34m*\u001b[0m\u001b[0margs\u001b[0m\u001b[0;34m,\u001b[0m \u001b[0;34m**\u001b[0m\u001b[0mkwargs\u001b[0m\u001b[0;34m)\u001b[0m\u001b[0;34m:\u001b[0m\u001b[0;34m\u001b[0m\u001b[0;34m\u001b[0m\u001b[0m\n\u001b[1;32m    107\u001b[0m     \u001b[0;32mif\u001b[0m \u001b[0;32mnot\u001b[0m \u001b[0mself\u001b[0m\u001b[0;34m.\u001b[0m\u001b[0m_in_multi_worker_mode\u001b[0m\u001b[0;34m(\u001b[0m\u001b[0;34m)\u001b[0m\u001b[0;34m:\u001b[0m  \u001b[0;31m# pylint: disable=protected-access\u001b[0m\u001b[0;34m\u001b[0m\u001b[0;34m\u001b[0m\u001b[0m\n\u001b[0;32m--> 108\u001b[0;31m       \u001b[0;32mreturn\u001b[0m \u001b[0mmethod\u001b[0m\u001b[0;34m(\u001b[0m\u001b[0mself\u001b[0m\u001b[0;34m,\u001b[0m \u001b[0;34m*\u001b[0m\u001b[0margs\u001b[0m\u001b[0;34m,\u001b[0m \u001b[0;34m**\u001b[0m\u001b[0mkwargs\u001b[0m\u001b[0;34m)\u001b[0m\u001b[0;34m\u001b[0m\u001b[0;34m\u001b[0m\u001b[0m\n\u001b[0m\u001b[1;32m    109\u001b[0m \u001b[0;34m\u001b[0m\u001b[0m\n\u001b[1;32m    110\u001b[0m     \u001b[0;31m# Running inside `run_distribute_coordinator` already.\u001b[0m\u001b[0;34m\u001b[0m\u001b[0;34m\u001b[0m\u001b[0;34m\u001b[0m\u001b[0m\n",
            "\u001b[0;32m/usr/local/lib/python3.6/dist-packages/tensorflow/python/keras/engine/training.py\u001b[0m in \u001b[0;36mfit\u001b[0;34m(self, x, y, batch_size, epochs, verbose, callbacks, validation_split, validation_data, shuffle, class_weight, sample_weight, initial_epoch, steps_per_epoch, validation_steps, validation_batch_size, validation_freq, max_queue_size, workers, use_multiprocessing)\u001b[0m\n\u001b[1;32m   1096\u001b[0m                 batch_size=batch_size):\n\u001b[1;32m   1097\u001b[0m               \u001b[0mcallbacks\u001b[0m\u001b[0;34m.\u001b[0m\u001b[0mon_train_batch_begin\u001b[0m\u001b[0;34m(\u001b[0m\u001b[0mstep\u001b[0m\u001b[0;34m)\u001b[0m\u001b[0;34m\u001b[0m\u001b[0;34m\u001b[0m\u001b[0m\n\u001b[0;32m-> 1098\u001b[0;31m               \u001b[0mtmp_logs\u001b[0m \u001b[0;34m=\u001b[0m \u001b[0mtrain_function\u001b[0m\u001b[0;34m(\u001b[0m\u001b[0miterator\u001b[0m\u001b[0;34m)\u001b[0m\u001b[0;34m\u001b[0m\u001b[0;34m\u001b[0m\u001b[0m\n\u001b[0m\u001b[1;32m   1099\u001b[0m               \u001b[0;32mif\u001b[0m \u001b[0mdata_handler\u001b[0m\u001b[0;34m.\u001b[0m\u001b[0mshould_sync\u001b[0m\u001b[0;34m:\u001b[0m\u001b[0;34m\u001b[0m\u001b[0;34m\u001b[0m\u001b[0m\n\u001b[1;32m   1100\u001b[0m                 \u001b[0mcontext\u001b[0m\u001b[0;34m.\u001b[0m\u001b[0masync_wait\u001b[0m\u001b[0;34m(\u001b[0m\u001b[0;34m)\u001b[0m\u001b[0;34m\u001b[0m\u001b[0;34m\u001b[0m\u001b[0m\n",
            "\u001b[0;32m/usr/local/lib/python3.6/dist-packages/tensorflow/python/eager/def_function.py\u001b[0m in \u001b[0;36m__call__\u001b[0;34m(self, *args, **kwds)\u001b[0m\n\u001b[1;32m    778\u001b[0m       \u001b[0;32melse\u001b[0m\u001b[0;34m:\u001b[0m\u001b[0;34m\u001b[0m\u001b[0;34m\u001b[0m\u001b[0m\n\u001b[1;32m    779\u001b[0m         \u001b[0mcompiler\u001b[0m \u001b[0;34m=\u001b[0m \u001b[0;34m\"nonXla\"\u001b[0m\u001b[0;34m\u001b[0m\u001b[0;34m\u001b[0m\u001b[0m\n\u001b[0;32m--> 780\u001b[0;31m         \u001b[0mresult\u001b[0m \u001b[0;34m=\u001b[0m \u001b[0mself\u001b[0m\u001b[0;34m.\u001b[0m\u001b[0m_call\u001b[0m\u001b[0;34m(\u001b[0m\u001b[0;34m*\u001b[0m\u001b[0margs\u001b[0m\u001b[0;34m,\u001b[0m \u001b[0;34m**\u001b[0m\u001b[0mkwds\u001b[0m\u001b[0;34m)\u001b[0m\u001b[0;34m\u001b[0m\u001b[0;34m\u001b[0m\u001b[0m\n\u001b[0m\u001b[1;32m    781\u001b[0m \u001b[0;34m\u001b[0m\u001b[0m\n\u001b[1;32m    782\u001b[0m       \u001b[0mnew_tracing_count\u001b[0m \u001b[0;34m=\u001b[0m \u001b[0mself\u001b[0m\u001b[0;34m.\u001b[0m\u001b[0m_get_tracing_count\u001b[0m\u001b[0;34m(\u001b[0m\u001b[0;34m)\u001b[0m\u001b[0;34m\u001b[0m\u001b[0;34m\u001b[0m\u001b[0m\n",
            "\u001b[0;32m/usr/local/lib/python3.6/dist-packages/tensorflow/python/eager/def_function.py\u001b[0m in \u001b[0;36m_call\u001b[0;34m(self, *args, **kwds)\u001b[0m\n\u001b[1;32m    805\u001b[0m       \u001b[0;31m# In this case we have created variables on the first call, so we run the\u001b[0m\u001b[0;34m\u001b[0m\u001b[0;34m\u001b[0m\u001b[0;34m\u001b[0m\u001b[0m\n\u001b[1;32m    806\u001b[0m       \u001b[0;31m# defunned version which is guaranteed to never create variables.\u001b[0m\u001b[0;34m\u001b[0m\u001b[0;34m\u001b[0m\u001b[0;34m\u001b[0m\u001b[0m\n\u001b[0;32m--> 807\u001b[0;31m       \u001b[0;32mreturn\u001b[0m \u001b[0mself\u001b[0m\u001b[0;34m.\u001b[0m\u001b[0m_stateless_fn\u001b[0m\u001b[0;34m(\u001b[0m\u001b[0;34m*\u001b[0m\u001b[0margs\u001b[0m\u001b[0;34m,\u001b[0m \u001b[0;34m**\u001b[0m\u001b[0mkwds\u001b[0m\u001b[0;34m)\u001b[0m  \u001b[0;31m# pylint: disable=not-callable\u001b[0m\u001b[0;34m\u001b[0m\u001b[0;34m\u001b[0m\u001b[0m\n\u001b[0m\u001b[1;32m    808\u001b[0m     \u001b[0;32melif\u001b[0m \u001b[0mself\u001b[0m\u001b[0;34m.\u001b[0m\u001b[0m_stateful_fn\u001b[0m \u001b[0;32mis\u001b[0m \u001b[0;32mnot\u001b[0m \u001b[0;32mNone\u001b[0m\u001b[0;34m:\u001b[0m\u001b[0;34m\u001b[0m\u001b[0;34m\u001b[0m\u001b[0m\n\u001b[1;32m    809\u001b[0m       \u001b[0;31m# Release the lock early so that multiple threads can perform the call\u001b[0m\u001b[0;34m\u001b[0m\u001b[0;34m\u001b[0m\u001b[0;34m\u001b[0m\u001b[0m\n",
            "\u001b[0;32m/usr/local/lib/python3.6/dist-packages/tensorflow/python/eager/function.py\u001b[0m in \u001b[0;36m__call__\u001b[0;34m(self, *args, **kwargs)\u001b[0m\n\u001b[1;32m   2827\u001b[0m     \u001b[0;32mwith\u001b[0m \u001b[0mself\u001b[0m\u001b[0;34m.\u001b[0m\u001b[0m_lock\u001b[0m\u001b[0;34m:\u001b[0m\u001b[0;34m\u001b[0m\u001b[0;34m\u001b[0m\u001b[0m\n\u001b[1;32m   2828\u001b[0m       \u001b[0mgraph_function\u001b[0m\u001b[0;34m,\u001b[0m \u001b[0margs\u001b[0m\u001b[0;34m,\u001b[0m \u001b[0mkwargs\u001b[0m \u001b[0;34m=\u001b[0m \u001b[0mself\u001b[0m\u001b[0;34m.\u001b[0m\u001b[0m_maybe_define_function\u001b[0m\u001b[0;34m(\u001b[0m\u001b[0margs\u001b[0m\u001b[0;34m,\u001b[0m \u001b[0mkwargs\u001b[0m\u001b[0;34m)\u001b[0m\u001b[0;34m\u001b[0m\u001b[0;34m\u001b[0m\u001b[0m\n\u001b[0;32m-> 2829\u001b[0;31m     \u001b[0;32mreturn\u001b[0m \u001b[0mgraph_function\u001b[0m\u001b[0;34m.\u001b[0m\u001b[0m_filtered_call\u001b[0m\u001b[0;34m(\u001b[0m\u001b[0margs\u001b[0m\u001b[0;34m,\u001b[0m \u001b[0mkwargs\u001b[0m\u001b[0;34m)\u001b[0m  \u001b[0;31m# pylint: disable=protected-access\u001b[0m\u001b[0;34m\u001b[0m\u001b[0;34m\u001b[0m\u001b[0m\n\u001b[0m\u001b[1;32m   2830\u001b[0m \u001b[0;34m\u001b[0m\u001b[0m\n\u001b[1;32m   2831\u001b[0m   \u001b[0;34m@\u001b[0m\u001b[0mproperty\u001b[0m\u001b[0;34m\u001b[0m\u001b[0;34m\u001b[0m\u001b[0m\n",
            "\u001b[0;32m/usr/local/lib/python3.6/dist-packages/tensorflow/python/eager/function.py\u001b[0m in \u001b[0;36m_filtered_call\u001b[0;34m(self, args, kwargs, cancellation_manager)\u001b[0m\n\u001b[1;32m   1846\u001b[0m                            resource_variable_ops.BaseResourceVariable))],\n\u001b[1;32m   1847\u001b[0m         \u001b[0mcaptured_inputs\u001b[0m\u001b[0;34m=\u001b[0m\u001b[0mself\u001b[0m\u001b[0;34m.\u001b[0m\u001b[0mcaptured_inputs\u001b[0m\u001b[0;34m,\u001b[0m\u001b[0;34m\u001b[0m\u001b[0;34m\u001b[0m\u001b[0m\n\u001b[0;32m-> 1848\u001b[0;31m         cancellation_manager=cancellation_manager)\n\u001b[0m\u001b[1;32m   1849\u001b[0m \u001b[0;34m\u001b[0m\u001b[0m\n\u001b[1;32m   1850\u001b[0m   \u001b[0;32mdef\u001b[0m \u001b[0m_call_flat\u001b[0m\u001b[0;34m(\u001b[0m\u001b[0mself\u001b[0m\u001b[0;34m,\u001b[0m \u001b[0margs\u001b[0m\u001b[0;34m,\u001b[0m \u001b[0mcaptured_inputs\u001b[0m\u001b[0;34m,\u001b[0m \u001b[0mcancellation_manager\u001b[0m\u001b[0;34m=\u001b[0m\u001b[0;32mNone\u001b[0m\u001b[0;34m)\u001b[0m\u001b[0;34m:\u001b[0m\u001b[0;34m\u001b[0m\u001b[0;34m\u001b[0m\u001b[0m\n",
            "\u001b[0;32m/usr/local/lib/python3.6/dist-packages/tensorflow/python/eager/function.py\u001b[0m in \u001b[0;36m_call_flat\u001b[0;34m(self, args, captured_inputs, cancellation_manager)\u001b[0m\n\u001b[1;32m   1922\u001b[0m       \u001b[0;31m# No tape is watching; skip to running the function.\u001b[0m\u001b[0;34m\u001b[0m\u001b[0;34m\u001b[0m\u001b[0;34m\u001b[0m\u001b[0m\n\u001b[1;32m   1923\u001b[0m       return self._build_call_outputs(self._inference_function.call(\n\u001b[0;32m-> 1924\u001b[0;31m           ctx, args, cancellation_manager=cancellation_manager))\n\u001b[0m\u001b[1;32m   1925\u001b[0m     forward_backward = self._select_forward_and_backward_functions(\n\u001b[1;32m   1926\u001b[0m         \u001b[0margs\u001b[0m\u001b[0;34m,\u001b[0m\u001b[0;34m\u001b[0m\u001b[0;34m\u001b[0m\u001b[0m\n",
            "\u001b[0;32m/usr/local/lib/python3.6/dist-packages/tensorflow/python/eager/function.py\u001b[0m in \u001b[0;36mcall\u001b[0;34m(self, ctx, args, cancellation_manager)\u001b[0m\n\u001b[1;32m    548\u001b[0m               \u001b[0minputs\u001b[0m\u001b[0;34m=\u001b[0m\u001b[0margs\u001b[0m\u001b[0;34m,\u001b[0m\u001b[0;34m\u001b[0m\u001b[0;34m\u001b[0m\u001b[0m\n\u001b[1;32m    549\u001b[0m               \u001b[0mattrs\u001b[0m\u001b[0;34m=\u001b[0m\u001b[0mattrs\u001b[0m\u001b[0;34m,\u001b[0m\u001b[0;34m\u001b[0m\u001b[0;34m\u001b[0m\u001b[0m\n\u001b[0;32m--> 550\u001b[0;31m               ctx=ctx)\n\u001b[0m\u001b[1;32m    551\u001b[0m         \u001b[0;32melse\u001b[0m\u001b[0;34m:\u001b[0m\u001b[0;34m\u001b[0m\u001b[0;34m\u001b[0m\u001b[0m\n\u001b[1;32m    552\u001b[0m           outputs = execute.execute_with_cancellation(\n",
            "\u001b[0;32m/usr/local/lib/python3.6/dist-packages/tensorflow/python/eager/execute.py\u001b[0m in \u001b[0;36mquick_execute\u001b[0;34m(op_name, num_outputs, inputs, attrs, ctx, name)\u001b[0m\n\u001b[1;32m     58\u001b[0m     \u001b[0mctx\u001b[0m\u001b[0;34m.\u001b[0m\u001b[0mensure_initialized\u001b[0m\u001b[0;34m(\u001b[0m\u001b[0;34m)\u001b[0m\u001b[0;34m\u001b[0m\u001b[0;34m\u001b[0m\u001b[0m\n\u001b[1;32m     59\u001b[0m     tensors = pywrap_tfe.TFE_Py_Execute(ctx._handle, device_name, op_name,\n\u001b[0;32m---> 60\u001b[0;31m                                         inputs, attrs, num_outputs)\n\u001b[0m\u001b[1;32m     61\u001b[0m   \u001b[0;32mexcept\u001b[0m \u001b[0mcore\u001b[0m\u001b[0;34m.\u001b[0m\u001b[0m_NotOkStatusException\u001b[0m \u001b[0;32mas\u001b[0m \u001b[0me\u001b[0m\u001b[0;34m:\u001b[0m\u001b[0;34m\u001b[0m\u001b[0;34m\u001b[0m\u001b[0m\n\u001b[1;32m     62\u001b[0m     \u001b[0;32mif\u001b[0m \u001b[0mname\u001b[0m \u001b[0;32mis\u001b[0m \u001b[0;32mnot\u001b[0m \u001b[0;32mNone\u001b[0m\u001b[0;34m:\u001b[0m\u001b[0;34m\u001b[0m\u001b[0;34m\u001b[0m\u001b[0m\n",
            "\u001b[0;31mKeyboardInterrupt\u001b[0m: "
          ]
        }
      ]
    },
    {
      "cell_type": "code",
      "metadata": {
        "id": "3TBzFo02jroh",
        "colab_type": "code",
        "colab": {
          "base_uri": "https://localhost:8080/",
          "height": 191
        },
        "outputId": "f99107b8-3485-42dc-e1ba-e5ef8dcbde2d"
      },
      "source": [
        "TRTS_results"
      ],
      "execution_count": null,
      "outputs": [
        {
          "output_type": "execute_result",
          "data": {
            "text/html": [
              "<div>\n",
              "<style scoped>\n",
              "    .dataframe tbody tr th:only-of-type {\n",
              "        vertical-align: middle;\n",
              "    }\n",
              "\n",
              "    .dataframe tbody tr th {\n",
              "        vertical-align: top;\n",
              "    }\n",
              "\n",
              "    .dataframe thead th {\n",
              "        text-align: right;\n",
              "    }\n",
              "</style>\n",
              "<table border=\"1\" class=\"dataframe\">\n",
              "  <thead>\n",
              "    <tr style=\"text-align: right;\">\n",
              "      <th></th>\n",
              "      <th>y_col</th>\n",
              "      <th>window_length</th>\n",
              "      <th>batch_size</th>\n",
              "      <th>epochs</th>\n",
              "      <th>test_loss</th>\n",
              "      <th>test_metric</th>\n",
              "    </tr>\n",
              "  </thead>\n",
              "  <tbody>\n",
              "    <tr>\n",
              "      <th>0</th>\n",
              "      <td>0</td>\n",
              "      <td>65</td>\n",
              "      <td>64</td>\n",
              "      <td>15</td>\n",
              "      <td>6.726365</td>\n",
              "      <td>1.083900</td>\n",
              "    </tr>\n",
              "    <tr>\n",
              "      <th>1</th>\n",
              "      <td>1</td>\n",
              "      <td>65</td>\n",
              "      <td>64</td>\n",
              "      <td>15</td>\n",
              "      <td>4.044926</td>\n",
              "      <td>0.509953</td>\n",
              "    </tr>\n",
              "    <tr>\n",
              "      <th>2</th>\n",
              "      <td>2</td>\n",
              "      <td>65</td>\n",
              "      <td>64</td>\n",
              "      <td>15</td>\n",
              "      <td>20.597420</td>\n",
              "      <td>2.934123</td>\n",
              "    </tr>\n",
              "    <tr>\n",
              "      <th>3</th>\n",
              "      <td>3</td>\n",
              "      <td>65</td>\n",
              "      <td>64</td>\n",
              "      <td>15</td>\n",
              "      <td>1.434082</td>\n",
              "      <td>0.178937</td>\n",
              "    </tr>\n",
              "    <tr>\n",
              "      <th>4</th>\n",
              "      <td>4</td>\n",
              "      <td>65</td>\n",
              "      <td>64</td>\n",
              "      <td>15</td>\n",
              "      <td>4.037988</td>\n",
              "      <td>0.608182</td>\n",
              "    </tr>\n",
              "  </tbody>\n",
              "</table>\n",
              "</div>"
            ],
            "text/plain": [
              "   y_col  window_length  batch_size  epochs  test_loss  test_metric\n",
              "0      0             65          64      15   6.726365     1.083900\n",
              "1      1             65          64      15   4.044926     0.509953\n",
              "2      2             65          64      15  20.597420     2.934123\n",
              "3      3             65          64      15   1.434082     0.178937\n",
              "4      4             65          64      15   4.037988     0.608182"
            ]
          },
          "metadata": {
            "tags": []
          },
          "execution_count": 8
        }
      ]
    },
    {
      "cell_type": "code",
      "metadata": {
        "id": "8TPmImzDM221",
        "colab_type": "code",
        "colab": {}
      },
      "source": [
        "TRTS_results.to_csv('dp_predictive_trts_results.csv', index=False)"
      ],
      "execution_count": null,
      "outputs": []
    },
    {
      "cell_type": "markdown",
      "metadata": {
        "id": "oOvYtvF6uLkc",
        "colab_type": "text"
      },
      "source": [
        "# TSTR Example"
      ]
    },
    {
      "cell_type": "code",
      "metadata": {
        "id": "yZuVrJscuRHr",
        "colab_type": "code",
        "colab": {
          "base_uri": "https://localhost:8080/",
          "height": 1000
        },
        "outputId": "08526fc4-1373-483d-87f4-184d4cbc247e"
      },
      "source": [
        "TSTR_results, TSTR_histories = predictive_train_test(gen_set, ori_set, windows=[65,65,65,65,65])"
      ],
      "execution_count": null,
      "outputs": [
        {
          "output_type": "stream",
          "text": [
            "\n",
            "Predictive model running for column  0  with window length  65\n",
            "Epoch 1/15\n",
            "1112/1112 [==============================] - 7s 7ms/step - loss: 7.9275 - last_time_step_mae: 1.3213 - val_loss: 7.7680 - val_last_time_step_mae: 1.2843\n",
            "Epoch 2/15\n",
            "1112/1112 [==============================] - 7s 6ms/step - loss: 7.7561 - last_time_step_mae: 1.2350 - val_loss: 7.6263 - val_last_time_step_mae: 1.2634\n",
            "Epoch 3/15\n",
            "1112/1112 [==============================] - 7s 7ms/step - loss: 7.5954 - last_time_step_mae: 1.2104 - val_loss: 7.4578 - val_last_time_step_mae: 1.2373\n",
            "Epoch 4/15\n",
            "1112/1112 [==============================] - 7s 6ms/step - loss: 7.4194 - last_time_step_mae: 1.1828 - val_loss: 7.2855 - val_last_time_step_mae: 1.2108\n",
            "Epoch 5/15\n",
            "1112/1112 [==============================] - 7s 6ms/step - loss: 7.2456 - last_time_step_mae: 1.1564 - val_loss: 7.1209 - val_last_time_step_mae: 1.1851\n",
            "Epoch 6/15\n",
            "1112/1112 [==============================] - 7s 6ms/step - loss: 7.0835 - last_time_step_mae: 1.1308 - val_loss: 6.9716 - val_last_time_step_mae: 1.1615\n",
            "Epoch 7/15\n",
            "1112/1112 [==============================] - 7s 6ms/step - loss: 6.9399 - last_time_step_mae: 1.1085 - val_loss: 6.8434 - val_last_time_step_mae: 1.1412\n",
            "Epoch 8/15\n",
            "1112/1112 [==============================] - 7s 6ms/step - loss: 6.8157 - last_time_step_mae: 1.0890 - val_loss: 6.7337 - val_last_time_step_mae: 1.1241\n",
            "Epoch 9/15\n",
            "1112/1112 [==============================] - 7s 6ms/step - loss: 6.7102 - last_time_step_mae: 1.0724 - val_loss: 6.6428 - val_last_time_step_mae: 1.1117\n",
            "Epoch 10/15\n",
            "1112/1112 [==============================] - 7s 6ms/step - loss: 6.6227 - last_time_step_mae: 1.0588 - val_loss: 6.5677 - val_last_time_step_mae: 1.1017\n",
            "Epoch 11/15\n",
            "1112/1112 [==============================] - 7s 6ms/step - loss: 6.5513 - last_time_step_mae: 1.0473 - val_loss: 6.5071 - val_last_time_step_mae: 1.0933\n",
            "Epoch 12/15\n",
            "1112/1112 [==============================] - 7s 6ms/step - loss: 6.4959 - last_time_step_mae: 1.0379 - val_loss: 6.4614 - val_last_time_step_mae: 1.0870\n",
            "Epoch 13/15\n",
            "1112/1112 [==============================] - 7s 6ms/step - loss: 6.4537 - last_time_step_mae: 1.0303 - val_loss: 6.4275 - val_last_time_step_mae: 1.0828\n",
            "Epoch 14/15\n",
            "1112/1112 [==============================] - 7s 7ms/step - loss: 6.4232 - last_time_step_mae: 1.0251 - val_loss: 6.4041 - val_last_time_step_mae: 1.0809\n",
            "Epoch 15/15\n",
            "1112/1112 [==============================] - 7s 6ms/step - loss: 6.4022 - last_time_step_mae: 1.0214 - val_loss: 6.3885 - val_last_time_step_mae: 1.0800\n",
            "Getting results for column  0  with window length  65\n",
            "1390/1390 [==============================] - 5s 3ms/step - loss: 4.5483 - last_time_step_mae: 0.5801\n"
          ],
          "name": "stdout"
        },
        {
          "output_type": "display_data",
          "data": {
            "image/png": "[encoded data removed]",
            "text/plain": [
              "<Figure size 432x288 with 1 Axes>"
            ]
          },
          "metadata": {
            "tags": [],
            "needs_background": "light"
          }
        },
        {
          "output_type": "stream",
          "text": [
            "\n",
            "Predictive model running for column  1  with window length  65\n",
            "Epoch 1/15\n",
            "1112/1112 [==============================] - 7s 7ms/step - loss: 6.3096 - last_time_step_mae: 0.8332 - val_loss: 6.2755 - val_last_time_step_mae: 0.8600\n",
            "Epoch 2/15\n",
            "1112/1112 [==============================] - 7s 7ms/step - loss: 6.1712 - last_time_step_mae: 0.8031 - val_loss: 6.1252 - val_last_time_step_mae: 0.8393\n",
            "Epoch 3/15\n",
            "1112/1112 [==============================] - 8s 7ms/step - loss: 6.0043 - last_time_step_mae: 0.7789 - val_loss: 5.9528 - val_last_time_step_mae: 0.8147\n",
            "Epoch 4/15\n",
            "1112/1112 [==============================] - 7s 7ms/step - loss: 5.8209 - last_time_step_mae: 0.7522 - val_loss: 5.7563 - val_last_time_step_mae: 0.7861\n",
            "Epoch 5/15\n",
            "1112/1112 [==============================] - 7s 6ms/step - loss: 5.6155 - last_time_step_mae: 0.7222 - val_loss: 5.5424 - val_last_time_step_mae: 0.7561\n",
            "Epoch 6/15\n",
            "1112/1112 [==============================] - 7s 6ms/step - loss: 5.4053 - last_time_step_mae: 0.6919 - val_loss: 5.3400 - val_last_time_step_mae: 0.7263\n",
            "Epoch 7/15\n",
            "1112/1112 [==============================] - 7s 6ms/step - loss: 5.2154 - last_time_step_mae: 0.6648 - val_loss: 5.1555 - val_last_time_step_mae: 0.6994\n",
            "Epoch 8/15\n",
            "1112/1112 [==============================] - 7s 6ms/step - loss: 5.0380 - last_time_step_mae: 0.6395 - val_loss: 4.9829 - val_last_time_step_mae: 0.6740\n",
            "Epoch 9/15\n",
            "1112/1112 [==============================] - 7s 6ms/step - loss: 4.8738 - last_time_step_mae: 0.6163 - val_loss: 4.8248 - val_last_time_step_mae: 0.6514\n",
            "Epoch 10/15\n",
            "1112/1112 [==============================] - 7s 6ms/step - loss: 4.7228 - last_time_step_mae: 0.5946 - val_loss: 4.6779 - val_last_time_step_mae: 0.6294\n",
            "Epoch 11/15\n",
            "1112/1112 [==============================] - 7s 6ms/step - loss: 4.5849 - last_time_step_mae: 0.5748 - val_loss: 4.5452 - val_last_time_step_mae: 0.6101\n",
            "Epoch 12/15\n",
            "1112/1112 [==============================] - 7s 6ms/step - loss: 4.4595 - last_time_step_mae: 0.5567 - val_loss: 4.4238 - val_last_time_step_mae: 0.5928\n",
            "Epoch 13/15\n",
            "1112/1112 [==============================] - 7s 6ms/step - loss: 4.3449 - last_time_step_mae: 0.5399 - val_loss: 4.3130 - val_last_time_step_mae: 0.5769\n",
            "Epoch 14/15\n",
            "1112/1112 [==============================] - 7s 7ms/step - loss: 4.2429 - last_time_step_mae: 0.5252 - val_loss: 4.2170 - val_last_time_step_mae: 0.5639\n",
            "Epoch 15/15\n",
            "1112/1112 [==============================] - 7s 7ms/step - loss: 4.1576 - last_time_step_mae: 0.5135 - val_loss: 4.1368 - val_last_time_step_mae: 0.5538\n",
            "Getting results for column  1  with window length  65\n",
            "1390/1390 [==============================] - 4s 3ms/step - loss: 2.5800 - last_time_step_mae: 0.3569\n"
          ],
          "name": "stdout"
        },
        {
          "output_type": "display_data",
          "data": {
            "image/png": "[encoded data removed]",
            "text/plain": [
              "<Figure size 432x288 with 1 Axes>"
            ]
          },
          "metadata": {
            "tags": [],
            "needs_background": "light"
          }
        },
        {
          "output_type": "stream",
          "text": [
            "\n",
            "Predictive model running for column  2  with window length  65\n",
            "Epoch 1/15\n",
            "1112/1112 [==============================] - 7s 6ms/step - loss: 23.4587 - last_time_step_mae: 3.3648 - val_loss: 22.9405 - val_last_time_step_mae: 3.3463\n",
            "Epoch 2/15\n",
            "1112/1112 [==============================] - 7s 6ms/step - loss: 23.3537 - last_time_step_mae: 3.3240 - val_loss: 22.8267 - val_last_time_step_mae: 3.3290\n",
            "Epoch 3/15\n",
            "1112/1112 [==============================] - 7s 6ms/step - loss: 23.2107 - last_time_step_mae: 3.3034 - val_loss: 22.6625 - val_last_time_step_mae: 3.3043\n",
            "Epoch 4/15\n",
            "1112/1112 [==============================] - 7s 6ms/step - loss: 23.0255 - last_time_step_mae: 3.2765 - val_loss: 22.4633 - val_last_time_step_mae: 3.2744\n",
            "Epoch 5/15\n",
            "1112/1112 [==============================] - 7s 6ms/step - loss: 22.8136 - last_time_step_mae: 3.2458 - val_loss: 22.2460 - val_last_time_step_mae: 3.2417\n",
            "Epoch 6/15\n",
            "1112/1112 [==============================] - 7s 6ms/step - loss: 22.5895 - last_time_step_mae: 3.2134 - val_loss: 22.0218 - val_last_time_step_mae: 3.2078\n",
            "Epoch 7/15\n",
            "1112/1112 [==============================] - 7s 6ms/step - loss: 22.3620 - last_time_step_mae: 3.1804 - val_loss: 21.7968 - val_last_time_step_mae: 3.1740\n",
            "Epoch 8/15\n",
            "1112/1112 [==============================] - 7s 6ms/step - loss: 22.1344 - last_time_step_mae: 3.1477 - val_loss: 21.5721 - val_last_time_step_mae: 3.1401\n",
            "Epoch 9/15\n",
            "1112/1112 [==============================] - 7s 6ms/step - loss: 21.9068 - last_time_step_mae: 3.1146 - val_loss: 21.3477 - val_last_time_step_mae: 3.1068\n",
            "Epoch 10/15\n",
            "1112/1112 [==============================] - 7s 6ms/step - loss: 21.6799 - last_time_step_mae: 3.0821 - val_loss: 21.1236 - val_last_time_step_mae: 3.0727\n",
            "Epoch 11/15\n",
            "1112/1112 [==============================] - 7s 7ms/step - loss: 21.4537 - last_time_step_mae: 3.0491 - val_loss: 20.9002 - val_last_time_step_mae: 3.0389\n",
            "Epoch 12/15\n",
            "1112/1112 [==============================] - 7s 7ms/step - loss: 21.2280 - last_time_step_mae: 3.0168 - val_loss: 20.6773 - val_last_time_step_mae: 3.0054\n",
            "Epoch 13/15\n",
            "1112/1112 [==============================] - 7s 6ms/step - loss: 21.0028 - last_time_step_mae: 2.9843 - val_loss: 20.4552 - val_last_time_step_mae: 2.9722\n",
            "Epoch 14/15\n",
            "1112/1112 [==============================] - 7s 6ms/step - loss: 20.7775 - last_time_step_mae: 2.9515 - val_loss: 20.2325 - val_last_time_step_mae: 2.9386\n",
            "Epoch 15/15\n",
            "1112/1112 [==============================] - 7s 6ms/step - loss: 20.5525 - last_time_step_mae: 2.9192 - val_loss: 20.0105 - val_last_time_step_mae: 2.9053\n",
            "Getting results for column  2  with window length  65\n",
            "1390/1390 [==============================] - 5s 3ms/step - loss: 20.9813 - last_time_step_mae: 3.5359\n"
          ],
          "name": "stdout"
        },
        {
          "output_type": "display_data",
          "data": {
            "image/png": "[encoded data removed]",
            "text/plain": [
              "<Figure size 432x288 with 1 Axes>"
            ]
          },
          "metadata": {
            "tags": [],
            "needs_background": "light"
          }
        },
        {
          "output_type": "stream",
          "text": [
            "\n",
            "Predictive model running for column  3  with window length  65\n",
            "Epoch 1/15\n",
            "1112/1112 [==============================] - 8s 7ms/step - loss: 2.0730 - last_time_step_mae: 0.2925 - val_loss: 2.0870 - val_last_time_step_mae: 0.2636\n",
            "Epoch 2/15\n",
            "1112/1112 [==============================] - 7s 7ms/step - loss: 1.9502 - last_time_step_mae: 0.2421 - val_loss: 1.9570 - val_last_time_step_mae: 0.2458\n",
            "Epoch 3/15\n",
            "1112/1112 [==============================] - 7s 7ms/step - loss: 1.8232 - last_time_step_mae: 0.2236 - val_loss: 1.8300 - val_last_time_step_mae: 0.2297\n",
            "Epoch 4/15\n",
            "1112/1112 [==============================] - 7s 7ms/step - loss: 1.7028 - last_time_step_mae: 0.2067 - val_loss: 1.7124 - val_last_time_step_mae: 0.2136\n",
            "Epoch 5/15\n",
            "1112/1112 [==============================] - 7s 7ms/step - loss: 1.5996 - last_time_step_mae: 0.1914 - val_loss: 1.6193 - val_last_time_step_mae: 0.2024\n",
            "Epoch 6/15\n",
            "1112/1112 [==============================] - 7s 6ms/step - loss: 1.5172 - last_time_step_mae: 0.1809 - val_loss: 1.5431 - val_last_time_step_mae: 0.1955\n",
            "Epoch 7/15\n",
            "1112/1112 [==============================] - 7s 6ms/step - loss: 1.4509 - last_time_step_mae: 0.1746 - val_loss: 1.4797 - val_last_time_step_mae: 0.1894\n",
            "Epoch 8/15\n",
            "1112/1112 [==============================] - 7s 6ms/step - loss: 1.3964 - last_time_step_mae: 0.1691 - val_loss: 1.4297 - val_last_time_step_mae: 0.1821\n",
            "Epoch 9/15\n",
            "1112/1112 [==============================] - 7s 6ms/step - loss: 1.3499 - last_time_step_mae: 0.1644 - val_loss: 1.3796 - val_last_time_step_mae: 0.1767\n",
            "Epoch 10/15\n",
            "1112/1112 [==============================] - 7s 6ms/step - loss: 1.3089 - last_time_step_mae: 0.1606 - val_loss: 1.3438 - val_last_time_step_mae: 0.1717\n",
            "Epoch 11/15\n",
            "1112/1112 [==============================] - 7s 6ms/step - loss: 1.2724 - last_time_step_mae: 0.1581 - val_loss: 1.3015 - val_last_time_step_mae: 0.1703\n",
            "Epoch 12/15\n",
            "1112/1112 [==============================] - 7s 6ms/step - loss: 1.2400 - last_time_step_mae: 0.1550 - val_loss: 1.2679 - val_last_time_step_mae: 0.1632\n",
            "Epoch 13/15\n",
            "1112/1112 [==============================] - 7s 6ms/step - loss: 1.2124 - last_time_step_mae: 0.1525 - val_loss: 1.2423 - val_last_time_step_mae: 0.1584\n",
            "Epoch 14/15\n",
            "1112/1112 [==============================] - 7s 6ms/step - loss: 1.1883 - last_time_step_mae: 0.1507 - val_loss: 1.2188 - val_last_time_step_mae: 0.1615\n",
            "Epoch 15/15\n",
            "1112/1112 [==============================] - 7s 7ms/step - loss: 1.1684 - last_time_step_mae: 0.1490 - val_loss: 1.1946 - val_last_time_step_mae: 0.1536\n",
            "Getting results for column  3  with window length  65\n",
            "1390/1390 [==============================] - 5s 3ms/step - loss: 1.5425 - last_time_step_mae: 0.2030\n"
          ],
          "name": "stdout"
        },
        {
          "output_type": "display_data",
          "data": {
            "image/png": "[encoded data removed]",
            "text/plain": [
              "<Figure size 432x288 with 1 Axes>"
            ]
          },
          "metadata": {
            "tags": [],
            "needs_background": "light"
          }
        },
        {
          "output_type": "stream",
          "text": [
            "\n",
            "Predictive model running for column  4  with window length  65\n",
            "Epoch 1/15\n",
            "1112/1112 [==============================] - 7s 6ms/step - loss: 7.1488 - last_time_step_mae: 1.1634 - val_loss: 6.8464 - val_last_time_step_mae: 1.0479\n",
            "Epoch 2/15\n",
            "1112/1112 [==============================] - 7s 6ms/step - loss: 6.9838 - last_time_step_mae: 1.0297 - val_loss: 6.8029 - val_last_time_step_mae: 1.0413\n",
            "Epoch 3/15\n",
            "1112/1112 [==============================] - 7s 6ms/step - loss: 6.9420 - last_time_step_mae: 1.0239 - val_loss: 6.7634 - val_last_time_step_mae: 1.0351\n",
            "Epoch 4/15\n",
            "1112/1112 [==============================] - 7s 6ms/step - loss: 6.9024 - last_time_step_mae: 1.0182 - val_loss: 6.7259 - val_last_time_step_mae: 1.0301\n",
            "Epoch 5/15\n",
            "1112/1112 [==============================] - 7s 6ms/step - loss: 6.8637 - last_time_step_mae: 1.0125 - val_loss: 6.6884 - val_last_time_step_mae: 1.0245\n",
            "Epoch 6/15\n",
            "1112/1112 [==============================] - 7s 6ms/step - loss: 6.8251 - last_time_step_mae: 1.0069 - val_loss: 6.6499 - val_last_time_step_mae: 1.0179\n",
            "Epoch 7/15\n",
            "1112/1112 [==============================] - 7s 6ms/step - loss: 6.7864 - last_time_step_mae: 1.0014 - val_loss: 6.6133 - val_last_time_step_mae: 1.0137\n",
            "Epoch 8/15\n",
            "1112/1112 [==============================] - 7s 6ms/step - loss: 6.7481 - last_time_step_mae: 0.9959 - val_loss: 6.5756 - val_last_time_step_mae: 1.0069\n",
            "Epoch 9/15\n",
            "1112/1112 [==============================] - 7s 6ms/step - loss: 6.7113 - last_time_step_mae: 0.9905 - val_loss: 6.5402 - val_last_time_step_mae: 1.0015\n",
            "Epoch 10/15\n",
            "1112/1112 [==============================] - 7s 6ms/step - loss: 6.6754 - last_time_step_mae: 0.9853 - val_loss: 6.5055 - val_last_time_step_mae: 0.9963\n",
            "Epoch 11/15\n",
            "1112/1112 [==============================] - 7s 6ms/step - loss: 6.6402 - last_time_step_mae: 0.9802 - val_loss: 6.4718 - val_last_time_step_mae: 0.9916\n",
            "Epoch 12/15\n",
            "1112/1112 [==============================] - 7s 6ms/step - loss: 6.6055 - last_time_step_mae: 0.9752 - val_loss: 6.4382 - val_last_time_step_mae: 0.9866\n",
            "Epoch 13/15\n",
            "1112/1112 [==============================] - 7s 6ms/step - loss: 6.5712 - last_time_step_mae: 0.9701 - val_loss: 6.4050 - val_last_time_step_mae: 0.9817\n",
            "Epoch 14/15\n",
            "1112/1112 [==============================] - 7s 6ms/step - loss: 6.5372 - last_time_step_mae: 0.9653 - val_loss: 6.3713 - val_last_time_step_mae: 0.9759\n",
            "Epoch 15/15\n",
            "1112/1112 [==============================] - 7s 6ms/step - loss: 6.5036 - last_time_step_mae: 0.9605 - val_loss: 6.3393 - val_last_time_step_mae: 0.9717\n",
            "Getting results for column  4  with window length  65\n",
            "1390/1390 [==============================] - 4s 3ms/step - loss: 6.6895 - last_time_step_mae: 1.1087\n"
          ],
          "name": "stdout"
        },
        {
          "output_type": "display_data",
          "data": {
            "image/png": "[encoded data removed]",
            "text/plain": [
              "<Figure size 432x288 with 1 Axes>"
            ]
          },
          "metadata": {
            "tags": [],
            "needs_background": "light"
          }
        }
      ]
    },
    {
      "cell_type": "code",
      "metadata": {
        "id": "eu_gfatbFBV9",
        "colab_type": "code",
        "colab": {
          "base_uri": "https://localhost:8080/",
          "height": 191
        },
        "outputId": "7566bc46-1af9-46f5-d5d7-573b8596386d"
      },
      "source": [
        "TSTR_results"
      ],
      "execution_count": null,
      "outputs": [
        {
          "output_type": "execute_result",
          "data": {
            "text/html": [
              "<div>\n",
              "<style scoped>\n",
              "    .dataframe tbody tr th:only-of-type {\n",
              "        vertical-align: middle;\n",
              "    }\n",
              "\n",
              "    .dataframe tbody tr th {\n",
              "        vertical-align: top;\n",
              "    }\n",
              "\n",
              "    .dataframe thead th {\n",
              "        text-align: right;\n",
              "    }\n",
              "</style>\n",
              "<table border=\"1\" class=\"dataframe\">\n",
              "  <thead>\n",
              "    <tr style=\"text-align: right;\">\n",
              "      <th></th>\n",
              "      <th>y_col</th>\n",
              "      <th>window_length</th>\n",
              "      <th>batch_size</th>\n",
              "      <th>epochs</th>\n",
              "      <th>test_loss</th>\n",
              "      <th>test_metric</th>\n",
              "    </tr>\n",
              "  </thead>\n",
              "  <tbody>\n",
              "    <tr>\n",
              "      <th>0</th>\n",
              "      <td>0</td>\n",
              "      <td>65</td>\n",
              "      <td>64</td>\n",
              "      <td>15</td>\n",
              "      <td>4.548269</td>\n",
              "      <td>0.580051</td>\n",
              "    </tr>\n",
              "    <tr>\n",
              "      <th>1</th>\n",
              "      <td>1</td>\n",
              "      <td>65</td>\n",
              "      <td>64</td>\n",
              "      <td>15</td>\n",
              "      <td>2.580028</td>\n",
              "      <td>0.356853</td>\n",
              "    </tr>\n",
              "    <tr>\n",
              "      <th>2</th>\n",
              "      <td>2</td>\n",
              "      <td>65</td>\n",
              "      <td>64</td>\n",
              "      <td>15</td>\n",
              "      <td>20.981253</td>\n",
              "      <td>3.535945</td>\n",
              "    </tr>\n",
              "    <tr>\n",
              "      <th>3</th>\n",
              "      <td>3</td>\n",
              "      <td>65</td>\n",
              "      <td>64</td>\n",
              "      <td>15</td>\n",
              "      <td>1.542471</td>\n",
              "      <td>0.203011</td>\n",
              "    </tr>\n",
              "    <tr>\n",
              "      <th>4</th>\n",
              "      <td>4</td>\n",
              "      <td>65</td>\n",
              "      <td>64</td>\n",
              "      <td>15</td>\n",
              "      <td>6.689484</td>\n",
              "      <td>1.108748</td>\n",
              "    </tr>\n",
              "  </tbody>\n",
              "</table>\n",
              "</div>"
            ],
            "text/plain": [
              "   y_col  window_length  batch_size  epochs  test_loss  test_metric\n",
              "0      0             65          64      15   4.548269     0.580051\n",
              "1      1             65          64      15   2.580028     0.356853\n",
              "2      2             65          64      15  20.981253     3.535945\n",
              "3      3             65          64      15   1.542471     0.203011\n",
              "4      4             65          64      15   6.689484     1.108748"
            ]
          },
          "metadata": {
            "tags": []
          },
          "execution_count": 16
        }
      ]
    },
    {
      "cell_type": "code",
      "metadata": {
        "id": "GmmgivOaUIGd",
        "colab_type": "code",
        "colab": {}
      },
      "source": [
        "TSTR_results.to_csv('dp_predictive_tstr_results.csv', index=False)"
      ],
      "execution_count": null,
      "outputs": []
    },
    {
      "cell_type": "markdown",
      "metadata": {
        "id": "eJjUKuuIo7-L",
        "colab_type": "text"
      },
      "source": [
        "# TRTR vs TSTS Example"
      ]
    },
    {
      "cell_type": "code",
      "metadata": {
        "id": "SUJLBHbko_aw",
        "colab_type": "code",
        "colab": {
          "base_uri": "https://localhost:8080/",
          "height": 1000
        },
        "outputId": "3cfa2f50-bb65-4e2c-f5f4-49bbf60e3979"
      },
      "source": [
        "train_ori_set, test_ori_set = train_test_split(ori_set, train_size=0.5)\n",
        "TRTR_results, TRTR_histories = predictive_train_test(train_ori_set, test_ori_set, windows=130, epochs=20)\n",
        "\n",
        "train_gen_set, test_gen_set = train_test_split(gen_set, train_size=0.5)\n",
        "TSTS_results, TSTS_histories = predictive_train_test(train_gen_set, test_gen_set, windows=130, epochs=20)"
      ],
      "execution_count": 18,
      "outputs": [
        {
          "output_type": "stream",
          "text": [
            "\n",
            "Predictive model running for column  0  with window length  130\n",
            "Epoch 1/20\n",
            "9/9 [==============================] - 1s 66ms/step - loss: nan - last_time_step_mae: nan - val_loss: nan - val_last_time_step_mae: nan\n",
            "Epoch 2/20\n",
            "9/9 [==============================] - 0s 22ms/step - loss: nan - last_time_step_mae: nan - val_loss: nan - val_last_time_step_mae: nan\n",
            "Epoch 3/20\n",
            "9/9 [==============================] - 0s 22ms/step - loss: nan - last_time_step_mae: nan - val_loss: nan - val_last_time_step_mae: nan\n",
            "Epoch 4/20\n",
            "9/9 [==============================] - 0s 23ms/step - loss: nan - last_time_step_mae: nan - val_loss: nan - val_last_time_step_mae: nan\n",
            "Epoch 5/20\n",
            "9/9 [==============================] - 0s 22ms/step - loss: nan - last_time_step_mae: nan - val_loss: nan - val_last_time_step_mae: nan\n",
            "Epoch 6/20\n",
            "9/9 [==============================] - 0s 22ms/step - loss: nan - last_time_step_mae: nan - val_loss: nan - val_last_time_step_mae: nan\n",
            "Epoch 7/20\n",
            "9/9 [==============================] - 0s 22ms/step - loss: nan - last_time_step_mae: nan - val_loss: nan - val_last_time_step_mae: nan\n",
            "Epoch 8/20\n",
            "9/9 [==============================] - 0s 23ms/step - loss: nan - last_time_step_mae: nan - val_loss: nan - val_last_time_step_mae: nan\n",
            "Epoch 9/20\n",
            "9/9 [==============================] - 0s 22ms/step - loss: nan - last_time_step_mae: nan - val_loss: nan - val_last_time_step_mae: nan\n",
            "Epoch 10/20\n",
            "9/9 [==============================] - 0s 22ms/step - loss: nan - last_time_step_mae: nan - val_loss: nan - val_last_time_step_mae: nan\n",
            "Epoch 11/20\n",
            "9/9 [==============================] - 0s 22ms/step - loss: nan - last_time_step_mae: nan - val_loss: nan - val_last_time_step_mae: nan\n",
            "Epoch 12/20\n",
            "9/9 [==============================] - 0s 22ms/step - loss: nan - last_time_step_mae: nan - val_loss: nan - val_last_time_step_mae: nan\n",
            "Epoch 13/20\n",
            "9/9 [==============================] - 0s 22ms/step - loss: nan - last_time_step_mae: nan - val_loss: nan - val_last_time_step_mae: nan\n",
            "Epoch 14/20\n",
            "9/9 [==============================] - 0s 22ms/step - loss: nan - last_time_step_mae: nan - val_loss: nan - val_last_time_step_mae: nan\n",
            "Epoch 15/20\n",
            "9/9 [==============================] - 0s 22ms/step - loss: nan - last_time_step_mae: nan - val_loss: nan - val_last_time_step_mae: nan\n",
            "Epoch 16/20\n",
            "9/9 [==============================] - 0s 22ms/step - loss: nan - last_time_step_mae: nan - val_loss: nan - val_last_time_step_mae: nan\n",
            "Epoch 17/20\n",
            "9/9 [==============================] - 0s 22ms/step - loss: nan - last_time_step_mae: nan - val_loss: nan - val_last_time_step_mae: nan\n",
            "Epoch 18/20\n",
            "9/9 [==============================] - 0s 22ms/step - loss: nan - last_time_step_mae: nan - val_loss: nan - val_last_time_step_mae: nan\n",
            "Epoch 19/20\n",
            "9/9 [==============================] - 0s 22ms/step - loss: nan - last_time_step_mae: nan - val_loss: nan - val_last_time_step_mae: nan\n",
            "Epoch 20/20\n",
            "9/9 [==============================] - 0s 21ms/step - loss: nan - last_time_step_mae: nan - val_loss: nan - val_last_time_step_mae: nan\n",
            "Getting results for column  0  with window length  130\n",
            "11/11 [==============================] - 0s 8ms/step - loss: nan - last_time_step_mae: nan\n"
          ],
          "name": "stdout"
        },
        {
          "output_type": "display_data",
          "data": {
            "image/png": "[encoded data removed]",
            "text/plain": [
              "<Figure size 432x288 with 1 Axes>"
            ]
          },
          "metadata": {
            "tags": [],
            "needs_background": "light"
          }
        },
        {
          "output_type": "stream",
          "text": [
            "\n",
            "Predictive model running for column  1  with window length  130\n",
            "Epoch 1/20\n",
            "9/9 [==============================] - 1s 66ms/step - loss: nan - last_time_step_mae: nan - val_loss: nan - val_last_time_step_mae: nan\n",
            "Epoch 2/20\n",
            "9/9 [==============================] - 0s 21ms/step - loss: nan - last_time_step_mae: nan - val_loss: nan - val_last_time_step_mae: nan\n",
            "Epoch 3/20\n",
            "9/9 [==============================] - 0s 21ms/step - loss: nan - last_time_step_mae: nan - val_loss: nan - val_last_time_step_mae: nan\n",
            "Epoch 4/20\n",
            "9/9 [==============================] - 0s 21ms/step - loss: nan - last_time_step_mae: nan - val_loss: nan - val_last_time_step_mae: nan\n",
            "Epoch 5/20\n",
            "9/9 [==============================] - 0s 21ms/step - loss: nan - last_time_step_mae: nan - val_loss: nan - val_last_time_step_mae: nan\n",
            "Epoch 6/20\n",
            "9/9 [==============================] - 0s 22ms/step - loss: nan - last_time_step_mae: nan - val_loss: nan - val_last_time_step_mae: nan\n",
            "Epoch 7/20\n",
            "9/9 [==============================] - 0s 21ms/step - loss: nan - last_time_step_mae: nan - val_loss: nan - val_last_time_step_mae: nan\n",
            "Epoch 8/20\n",
            "9/9 [==============================] - 0s 22ms/step - loss: nan - last_time_step_mae: nan - val_loss: nan - val_last_time_step_mae: nan\n",
            "Epoch 9/20\n",
            "9/9 [==============================] - 0s 21ms/step - loss: nan - last_time_step_mae: nan - val_loss: nan - val_last_time_step_mae: nan\n",
            "Epoch 10/20\n",
            "9/9 [==============================] - 0s 22ms/step - loss: nan - last_time_step_mae: nan - val_loss: nan - val_last_time_step_mae: nan\n",
            "Epoch 11/20\n",
            "9/9 [==============================] - 0s 22ms/step - loss: nan - last_time_step_mae: nan - val_loss: nan - val_last_time_step_mae: nan\n",
            "Epoch 12/20\n",
            "9/9 [==============================] - 0s 21ms/step - loss: nan - last_time_step_mae: nan - val_loss: nan - val_last_time_step_mae: nan\n",
            "Epoch 13/20\n",
            "9/9 [==============================] - 0s 22ms/step - loss: nan - last_time_step_mae: nan - val_loss: nan - val_last_time_step_mae: nan\n",
            "Epoch 14/20\n",
            "9/9 [==============================] - 0s 22ms/step - loss: nan - last_time_step_mae: nan - val_loss: nan - val_last_time_step_mae: nan\n",
            "Epoch 15/20\n",
            "9/9 [==============================] - 0s 23ms/step - loss: nan - last_time_step_mae: nan - val_loss: nan - val_last_time_step_mae: nan\n",
            "Epoch 16/20\n",
            "9/9 [==============================] - 0s 22ms/step - loss: nan - last_time_step_mae: nan - val_loss: nan - val_last_time_step_mae: nan\n",
            "Epoch 17/20\n",
            "7/9 [======================>.......] - ETA: 0s - loss: nan - last_time_step_mae: nan"
          ],
          "name": "stdout"
        },
        {
          "output_type": "error",
          "ename": "KeyboardInterrupt",
          "evalue": "ignored",
          "traceback": [
            "\u001b[0;31m---------------------------------------------------------------------------\u001b[0m",
            "\u001b[0;31mKeyboardInterrupt\u001b[0m                         Traceback (most recent call last)",
            "\u001b[0;32m<ipython-input-18-2b18e02b2c10>\u001b[0m in \u001b[0;36m<module>\u001b[0;34m()\u001b[0m\n\u001b[1;32m      1\u001b[0m \u001b[0mtrain_ori_set\u001b[0m\u001b[0;34m,\u001b[0m \u001b[0mtest_ori_set\u001b[0m \u001b[0;34m=\u001b[0m \u001b[0mtrain_test_split\u001b[0m\u001b[0;34m(\u001b[0m\u001b[0mori_set\u001b[0m\u001b[0;34m,\u001b[0m \u001b[0mtrain_size\u001b[0m\u001b[0;34m=\u001b[0m\u001b[0;36m0.5\u001b[0m\u001b[0;34m)\u001b[0m\u001b[0;34m\u001b[0m\u001b[0;34m\u001b[0m\u001b[0m\n\u001b[0;32m----> 2\u001b[0;31m \u001b[0mTRTR_results\u001b[0m\u001b[0;34m,\u001b[0m \u001b[0mTRTR_histories\u001b[0m \u001b[0;34m=\u001b[0m \u001b[0mpredictive_train_test\u001b[0m\u001b[0;34m(\u001b[0m\u001b[0mtrain_ori_set\u001b[0m\u001b[0;34m,\u001b[0m \u001b[0mtest_ori_set\u001b[0m\u001b[0;34m,\u001b[0m \u001b[0mwindows\u001b[0m\u001b[0;34m=\u001b[0m\u001b[0;36m130\u001b[0m\u001b[0;34m,\u001b[0m \u001b[0mepochs\u001b[0m\u001b[0;34m=\u001b[0m\u001b[0;36m20\u001b[0m\u001b[0;34m)\u001b[0m\u001b[0;34m\u001b[0m\u001b[0;34m\u001b[0m\u001b[0m\n\u001b[0m\u001b[1;32m      3\u001b[0m \u001b[0;34m\u001b[0m\u001b[0m\n\u001b[1;32m      4\u001b[0m \u001b[0mtrain_gen_set\u001b[0m\u001b[0;34m,\u001b[0m \u001b[0mtest_gen_set\u001b[0m \u001b[0;34m=\u001b[0m \u001b[0mtrain_test_split\u001b[0m\u001b[0;34m(\u001b[0m\u001b[0mgen_set\u001b[0m\u001b[0;34m,\u001b[0m \u001b[0mtrain_size\u001b[0m\u001b[0;34m=\u001b[0m\u001b[0;36m0.5\u001b[0m\u001b[0;34m)\u001b[0m\u001b[0;34m\u001b[0m\u001b[0;34m\u001b[0m\u001b[0m\n\u001b[1;32m      5\u001b[0m \u001b[0mTSTS_results\u001b[0m\u001b[0;34m,\u001b[0m \u001b[0mTSTS_histories\u001b[0m \u001b[0;34m=\u001b[0m \u001b[0mpredictive_train_test\u001b[0m\u001b[0;34m(\u001b[0m\u001b[0mtrain_gen_set\u001b[0m\u001b[0;34m,\u001b[0m \u001b[0mtest_gen_set\u001b[0m\u001b[0;34m,\u001b[0m \u001b[0mwindows\u001b[0m\u001b[0;34m=\u001b[0m\u001b[0;36m130\u001b[0m\u001b[0;34m,\u001b[0m \u001b[0mepochs\u001b[0m\u001b[0;34m=\u001b[0m\u001b[0;36m20\u001b[0m\u001b[0;34m)\u001b[0m\u001b[0;34m\u001b[0m\u001b[0;34m\u001b[0m\u001b[0m\n",
            "\u001b[0;32m<ipython-input-14-e6d1fa51965f>\u001b[0m in \u001b[0;36mpredictive_train_test\u001b[0;34m(train_set, test_set, y_cols, windows, val_ratio, batch_size, epochs, show_training)\u001b[0m\n\u001b[1;32m     39\u001b[0m \u001b[0;34m\u001b[0m\u001b[0m\n\u001b[1;32m     40\u001b[0m     \u001b[0mmodel\u001b[0m \u001b[0;34m=\u001b[0m \u001b[0mmake_predictive_model\u001b[0m\u001b[0;34m(\u001b[0m\u001b[0mnum_columns\u001b[0m\u001b[0;34m)\u001b[0m\u001b[0;34m\u001b[0m\u001b[0;34m\u001b[0m\u001b[0m\n\u001b[0;32m---> 41\u001b[0;31m     \u001b[0mhist\u001b[0m \u001b[0;34m=\u001b[0m \u001b[0mmodel\u001b[0m\u001b[0;34m.\u001b[0m\u001b[0mfit\u001b[0m\u001b[0;34m(\u001b[0m\u001b[0mnp\u001b[0m\u001b[0;34m.\u001b[0m\u001b[0masarray\u001b[0m\u001b[0;34m(\u001b[0m\u001b[0mtrain_x\u001b[0m\u001b[0;34m)\u001b[0m\u001b[0;34m,\u001b[0m \u001b[0mnp\u001b[0m\u001b[0;34m.\u001b[0m\u001b[0masarray\u001b[0m\u001b[0;34m(\u001b[0m\u001b[0mtrain_y\u001b[0m\u001b[0;34m)\u001b[0m\u001b[0;34m,\u001b[0m \u001b[0mbatch_size\u001b[0m\u001b[0;34m=\u001b[0m\u001b[0mbatch_size\u001b[0m\u001b[0;34m,\u001b[0m \u001b[0mepochs\u001b[0m\u001b[0;34m=\u001b[0m\u001b[0mepochs\u001b[0m\u001b[0;34m,\u001b[0m \u001b[0mvalidation_data\u001b[0m\u001b[0;34m=\u001b[0m\u001b[0;34m(\u001b[0m\u001b[0mval_x\u001b[0m\u001b[0;34m,\u001b[0m \u001b[0mval_y\u001b[0m\u001b[0;34m)\u001b[0m\u001b[0;34m)\u001b[0m \u001b[0;31m# step 4\u001b[0m\u001b[0;34m\u001b[0m\u001b[0;34m\u001b[0m\u001b[0m\n\u001b[0m\u001b[1;32m     42\u001b[0m     \u001b[0mprint\u001b[0m\u001b[0;34m(\u001b[0m\u001b[0;34m'Getting results for column '\u001b[0m\u001b[0;34m,\u001b[0m \u001b[0mstr\u001b[0m\u001b[0;34m(\u001b[0m\u001b[0my_cols\u001b[0m\u001b[0;34m[\u001b[0m\u001b[0mk\u001b[0m\u001b[0;34m]\u001b[0m\u001b[0;34m)\u001b[0m\u001b[0;34m,\u001b[0m \u001b[0;34m' with window length '\u001b[0m\u001b[0;34m,\u001b[0m \u001b[0mstr\u001b[0m\u001b[0;34m(\u001b[0m\u001b[0mwindows\u001b[0m\u001b[0;34m[\u001b[0m\u001b[0mk\u001b[0m\u001b[0;34m]\u001b[0m\u001b[0;34m)\u001b[0m\u001b[0;34m)\u001b[0m\u001b[0;34m\u001b[0m\u001b[0;34m\u001b[0m\u001b[0m\n\u001b[1;32m     43\u001b[0m \u001b[0;34m\u001b[0m\u001b[0m\n",
            "\u001b[0;32m/usr/local/lib/python3.6/dist-packages/tensorflow/python/keras/engine/training.py\u001b[0m in \u001b[0;36m_method_wrapper\u001b[0;34m(self, *args, **kwargs)\u001b[0m\n\u001b[1;32m    106\u001b[0m   \u001b[0;32mdef\u001b[0m \u001b[0m_method_wrapper\u001b[0m\u001b[0;34m(\u001b[0m\u001b[0mself\u001b[0m\u001b[0;34m,\u001b[0m \u001b[0;34m*\u001b[0m\u001b[0margs\u001b[0m\u001b[0;34m,\u001b[0m \u001b[0;34m**\u001b[0m\u001b[0mkwargs\u001b[0m\u001b[0;34m)\u001b[0m\u001b[0;34m:\u001b[0m\u001b[0;34m\u001b[0m\u001b[0;34m\u001b[0m\u001b[0m\n\u001b[1;32m    107\u001b[0m     \u001b[0;32mif\u001b[0m \u001b[0;32mnot\u001b[0m \u001b[0mself\u001b[0m\u001b[0;34m.\u001b[0m\u001b[0m_in_multi_worker_mode\u001b[0m\u001b[0;34m(\u001b[0m\u001b[0;34m)\u001b[0m\u001b[0;34m:\u001b[0m  \u001b[0;31m# pylint: disable=protected-access\u001b[0m\u001b[0;34m\u001b[0m\u001b[0;34m\u001b[0m\u001b[0m\n\u001b[0;32m--> 108\u001b[0;31m       \u001b[0;32mreturn\u001b[0m \u001b[0mmethod\u001b[0m\u001b[0;34m(\u001b[0m\u001b[0mself\u001b[0m\u001b[0;34m,\u001b[0m \u001b[0;34m*\u001b[0m\u001b[0margs\u001b[0m\u001b[0;34m,\u001b[0m \u001b[0;34m**\u001b[0m\u001b[0mkwargs\u001b[0m\u001b[0;34m)\u001b[0m\u001b[0;34m\u001b[0m\u001b[0;34m\u001b[0m\u001b[0m\n\u001b[0m\u001b[1;32m    109\u001b[0m \u001b[0;34m\u001b[0m\u001b[0m\n\u001b[1;32m    110\u001b[0m     \u001b[0;31m# Running inside `run_distribute_coordinator` already.\u001b[0m\u001b[0;34m\u001b[0m\u001b[0;34m\u001b[0m\u001b[0;34m\u001b[0m\u001b[0m\n",
            "\u001b[0;32m/usr/local/lib/python3.6/dist-packages/tensorflow/python/keras/engine/training.py\u001b[0m in \u001b[0;36mfit\u001b[0;34m(self, x, y, batch_size, epochs, verbose, callbacks, validation_split, validation_data, shuffle, class_weight, sample_weight, initial_epoch, steps_per_epoch, validation_steps, validation_batch_size, validation_freq, max_queue_size, workers, use_multiprocessing)\u001b[0m\n\u001b[1;32m   1131\u001b[0m               \u001b[0mworkers\u001b[0m\u001b[0;34m=\u001b[0m\u001b[0mworkers\u001b[0m\u001b[0;34m,\u001b[0m\u001b[0;34m\u001b[0m\u001b[0;34m\u001b[0m\u001b[0m\n\u001b[1;32m   1132\u001b[0m               \u001b[0muse_multiprocessing\u001b[0m\u001b[0;34m=\u001b[0m\u001b[0muse_multiprocessing\u001b[0m\u001b[0;34m,\u001b[0m\u001b[0;34m\u001b[0m\u001b[0;34m\u001b[0m\u001b[0m\n\u001b[0;32m-> 1133\u001b[0;31m               return_dict=True)\n\u001b[0m\u001b[1;32m   1134\u001b[0m           \u001b[0mval_logs\u001b[0m \u001b[0;34m=\u001b[0m \u001b[0;34m{\u001b[0m\u001b[0;34m'val_'\u001b[0m \u001b[0;34m+\u001b[0m \u001b[0mname\u001b[0m\u001b[0;34m:\u001b[0m \u001b[0mval\u001b[0m \u001b[0;32mfor\u001b[0m \u001b[0mname\u001b[0m\u001b[0;34m,\u001b[0m \u001b[0mval\u001b[0m \u001b[0;32min\u001b[0m \u001b[0mval_logs\u001b[0m\u001b[0;34m.\u001b[0m\u001b[0mitems\u001b[0m\u001b[0;34m(\u001b[0m\u001b[0;34m)\u001b[0m\u001b[0;34m}\u001b[0m\u001b[0;34m\u001b[0m\u001b[0;34m\u001b[0m\u001b[0m\n\u001b[1;32m   1135\u001b[0m           \u001b[0mepoch_logs\u001b[0m\u001b[0;34m.\u001b[0m\u001b[0mupdate\u001b[0m\u001b[0;34m(\u001b[0m\u001b[0mval_logs\u001b[0m\u001b[0;34m)\u001b[0m\u001b[0;34m\u001b[0m\u001b[0;34m\u001b[0m\u001b[0m\n",
            "\u001b[0;32m/usr/local/lib/python3.6/dist-packages/tensorflow/python/keras/engine/training.py\u001b[0m in \u001b[0;36m_method_wrapper\u001b[0;34m(self, *args, **kwargs)\u001b[0m\n\u001b[1;32m    106\u001b[0m   \u001b[0;32mdef\u001b[0m \u001b[0m_method_wrapper\u001b[0m\u001b[0;34m(\u001b[0m\u001b[0mself\u001b[0m\u001b[0;34m,\u001b[0m \u001b[0;34m*\u001b[0m\u001b[0margs\u001b[0m\u001b[0;34m,\u001b[0m \u001b[0;34m**\u001b[0m\u001b[0mkwargs\u001b[0m\u001b[0;34m)\u001b[0m\u001b[0;34m:\u001b[0m\u001b[0;34m\u001b[0m\u001b[0;34m\u001b[0m\u001b[0m\n\u001b[1;32m    107\u001b[0m     \u001b[0;32mif\u001b[0m \u001b[0;32mnot\u001b[0m \u001b[0mself\u001b[0m\u001b[0;34m.\u001b[0m\u001b[0m_in_multi_worker_mode\u001b[0m\u001b[0;34m(\u001b[0m\u001b[0;34m)\u001b[0m\u001b[0;34m:\u001b[0m  \u001b[0;31m# pylint: disable=protected-access\u001b[0m\u001b[0;34m\u001b[0m\u001b[0;34m\u001b[0m\u001b[0m\n\u001b[0;32m--> 108\u001b[0;31m       \u001b[0;32mreturn\u001b[0m \u001b[0mmethod\u001b[0m\u001b[0;34m(\u001b[0m\u001b[0mself\u001b[0m\u001b[0;34m,\u001b[0m \u001b[0;34m*\u001b[0m\u001b[0margs\u001b[0m\u001b[0;34m,\u001b[0m \u001b[0;34m**\u001b[0m\u001b[0mkwargs\u001b[0m\u001b[0;34m)\u001b[0m\u001b[0;34m\u001b[0m\u001b[0;34m\u001b[0m\u001b[0m\n\u001b[0m\u001b[1;32m    109\u001b[0m \u001b[0;34m\u001b[0m\u001b[0m\n\u001b[1;32m    110\u001b[0m     \u001b[0;31m# Running inside `run_distribute_coordinator` already.\u001b[0m\u001b[0;34m\u001b[0m\u001b[0;34m\u001b[0m\u001b[0;34m\u001b[0m\u001b[0m\n",
            "\u001b[0;32m/usr/local/lib/python3.6/dist-packages/tensorflow/python/keras/engine/training.py\u001b[0m in \u001b[0;36mevaluate\u001b[0;34m(self, x, y, batch_size, verbose, sample_weight, steps, callbacks, max_queue_size, workers, use_multiprocessing, return_dict)\u001b[0m\n\u001b[1;32m   1371\u001b[0m       \u001b[0mself\u001b[0m\u001b[0;34m.\u001b[0m\u001b[0m_test_counter\u001b[0m\u001b[0;34m.\u001b[0m\u001b[0massign\u001b[0m\u001b[0;34m(\u001b[0m\u001b[0;36m0\u001b[0m\u001b[0;34m)\u001b[0m\u001b[0;34m\u001b[0m\u001b[0;34m\u001b[0m\u001b[0m\n\u001b[1;32m   1372\u001b[0m       \u001b[0mcallbacks\u001b[0m\u001b[0;34m.\u001b[0m\u001b[0mon_test_begin\u001b[0m\u001b[0;34m(\u001b[0m\u001b[0;34m)\u001b[0m\u001b[0;34m\u001b[0m\u001b[0;34m\u001b[0m\u001b[0m\n\u001b[0;32m-> 1373\u001b[0;31m       \u001b[0;32mfor\u001b[0m \u001b[0m_\u001b[0m\u001b[0;34m,\u001b[0m \u001b[0miterator\u001b[0m \u001b[0;32min\u001b[0m \u001b[0mdata_handler\u001b[0m\u001b[0;34m.\u001b[0m\u001b[0menumerate_epochs\u001b[0m\u001b[0;34m(\u001b[0m\u001b[0;34m)\u001b[0m\u001b[0;34m:\u001b[0m  \u001b[0;31m# Single epoch.\u001b[0m\u001b[0;34m\u001b[0m\u001b[0;34m\u001b[0m\u001b[0m\n\u001b[0m\u001b[1;32m   1374\u001b[0m         \u001b[0mself\u001b[0m\u001b[0;34m.\u001b[0m\u001b[0mreset_metrics\u001b[0m\u001b[0;34m(\u001b[0m\u001b[0;34m)\u001b[0m\u001b[0;34m\u001b[0m\u001b[0;34m\u001b[0m\u001b[0m\n\u001b[1;32m   1375\u001b[0m         \u001b[0;32mwith\u001b[0m \u001b[0mdata_handler\u001b[0m\u001b[0;34m.\u001b[0m\u001b[0mcatch_stop_iteration\u001b[0m\u001b[0;34m(\u001b[0m\u001b[0;34m)\u001b[0m\u001b[0;34m:\u001b[0m\u001b[0;34m\u001b[0m\u001b[0;34m\u001b[0m\u001b[0m\n",
            "\u001b[0;32m/usr/local/lib/python3.6/dist-packages/tensorflow/python/keras/engine/data_adapter.py\u001b[0m in \u001b[0;36menumerate_epochs\u001b[0;34m(self)\u001b[0m\n\u001b[1;32m   1136\u001b[0m     \u001b[0;34m\"\"\"Yields `(epoch, tf.data.Iterator)`.\"\"\"\u001b[0m\u001b[0;34m\u001b[0m\u001b[0;34m\u001b[0m\u001b[0m\n\u001b[1;32m   1137\u001b[0m     \u001b[0;32mwith\u001b[0m \u001b[0mself\u001b[0m\u001b[0;34m.\u001b[0m\u001b[0m_truncate_execution_to_epoch\u001b[0m\u001b[0;34m(\u001b[0m\u001b[0;34m)\u001b[0m\u001b[0;34m:\u001b[0m\u001b[0;34m\u001b[0m\u001b[0;34m\u001b[0m\u001b[0m\n\u001b[0;32m-> 1138\u001b[0;31m       \u001b[0mdata_iterator\u001b[0m \u001b[0;34m=\u001b[0m \u001b[0miter\u001b[0m\u001b[0;34m(\u001b[0m\u001b[0mself\u001b[0m\u001b[0;34m.\u001b[0m\u001b[0m_dataset\u001b[0m\u001b[0;34m)\u001b[0m\u001b[0;34m\u001b[0m\u001b[0;34m\u001b[0m\u001b[0m\n\u001b[0m\u001b[1;32m   1139\u001b[0m       \u001b[0;32mfor\u001b[0m \u001b[0mepoch\u001b[0m \u001b[0;32min\u001b[0m \u001b[0mrange\u001b[0m\u001b[0;34m(\u001b[0m\u001b[0mself\u001b[0m\u001b[0;34m.\u001b[0m\u001b[0m_initial_epoch\u001b[0m\u001b[0;34m,\u001b[0m \u001b[0mself\u001b[0m\u001b[0;34m.\u001b[0m\u001b[0m_epochs\u001b[0m\u001b[0;34m)\u001b[0m\u001b[0;34m:\u001b[0m\u001b[0;34m\u001b[0m\u001b[0;34m\u001b[0m\u001b[0m\n\u001b[1;32m   1140\u001b[0m         \u001b[0;32mif\u001b[0m \u001b[0mself\u001b[0m\u001b[0;34m.\u001b[0m\u001b[0m_insufficient_data\u001b[0m\u001b[0;34m:\u001b[0m  \u001b[0;31m# Set by `catch_stop_iteration`.\u001b[0m\u001b[0;34m\u001b[0m\u001b[0;34m\u001b[0m\u001b[0m\n",
            "\u001b[0;32m/usr/local/lib/python3.6/dist-packages/tensorflow/python/data/ops/dataset_ops.py\u001b[0m in \u001b[0;36m__iter__\u001b[0;34m(self)\u001b[0m\n\u001b[1;32m    413\u001b[0m     \"\"\"\n\u001b[1;32m    414\u001b[0m     \u001b[0;32mif\u001b[0m \u001b[0mcontext\u001b[0m\u001b[0;34m.\u001b[0m\u001b[0mexecuting_eagerly\u001b[0m\u001b[0;34m(\u001b[0m\u001b[0;34m)\u001b[0m \u001b[0;32mor\u001b[0m \u001b[0mops\u001b[0m\u001b[0;34m.\u001b[0m\u001b[0minside_function\u001b[0m\u001b[0;34m(\u001b[0m\u001b[0;34m)\u001b[0m\u001b[0;34m:\u001b[0m\u001b[0;34m\u001b[0m\u001b[0;34m\u001b[0m\u001b[0m\n\u001b[0;32m--> 415\u001b[0;31m       \u001b[0;32mreturn\u001b[0m \u001b[0miterator_ops\u001b[0m\u001b[0;34m.\u001b[0m\u001b[0mOwnedIterator\u001b[0m\u001b[0;34m(\u001b[0m\u001b[0mself\u001b[0m\u001b[0;34m)\u001b[0m\u001b[0;34m\u001b[0m\u001b[0;34m\u001b[0m\u001b[0m\n\u001b[0m\u001b[1;32m    416\u001b[0m     \u001b[0;32melse\u001b[0m\u001b[0;34m:\u001b[0m\u001b[0;34m\u001b[0m\u001b[0;34m\u001b[0m\u001b[0m\n\u001b[1;32m    417\u001b[0m       raise RuntimeError(\"__iter__() is only supported inside of tf.function \"\n",
            "\u001b[0;32m/usr/local/lib/python3.6/dist-packages/tensorflow/python/data/ops/iterator_ops.py\u001b[0m in \u001b[0;36m__init__\u001b[0;34m(self, dataset, components, element_spec, job_token)\u001b[0m\n\u001b[1;32m    694\u001b[0m           context.context().device_spec.device_type != \"CPU\"):\n\u001b[1;32m    695\u001b[0m         \u001b[0;32mwith\u001b[0m \u001b[0mops\u001b[0m\u001b[0;34m.\u001b[0m\u001b[0mdevice\u001b[0m\u001b[0;34m(\u001b[0m\u001b[0;34m\"/cpu:0\"\u001b[0m\u001b[0;34m)\u001b[0m\u001b[0;34m:\u001b[0m\u001b[0;34m\u001b[0m\u001b[0;34m\u001b[0m\u001b[0m\n\u001b[0;32m--> 696\u001b[0;31m           \u001b[0mself\u001b[0m\u001b[0;34m.\u001b[0m\u001b[0m_create_iterator\u001b[0m\u001b[0;34m(\u001b[0m\u001b[0mdataset\u001b[0m\u001b[0;34m)\u001b[0m\u001b[0;34m\u001b[0m\u001b[0;34m\u001b[0m\u001b[0m\n\u001b[0m\u001b[1;32m    697\u001b[0m       \u001b[0;32melse\u001b[0m\u001b[0;34m:\u001b[0m\u001b[0;34m\u001b[0m\u001b[0;34m\u001b[0m\u001b[0m\n\u001b[1;32m    698\u001b[0m         \u001b[0mself\u001b[0m\u001b[0;34m.\u001b[0m\u001b[0m_create_iterator\u001b[0m\u001b[0;34m(\u001b[0m\u001b[0mdataset\u001b[0m\u001b[0;34m)\u001b[0m\u001b[0;34m\u001b[0m\u001b[0;34m\u001b[0m\u001b[0m\n",
            "\u001b[0;32m/usr/local/lib/python3.6/dist-packages/tensorflow/python/data/ops/iterator_ops.py\u001b[0m in \u001b[0;36m_create_iterator\u001b[0;34m(self, dataset)\u001b[0m\n\u001b[1;32m    720\u001b[0m               output_shapes=self._flat_output_shapes))\n\u001b[1;32m    721\u001b[0m       \u001b[0;32mif\u001b[0m \u001b[0mself\u001b[0m\u001b[0;34m.\u001b[0m\u001b[0m_job_token\u001b[0m \u001b[0;32mis\u001b[0m \u001b[0;32mNone\u001b[0m\u001b[0;34m:\u001b[0m\u001b[0;34m\u001b[0m\u001b[0;34m\u001b[0m\u001b[0m\n\u001b[0;32m--> 722\u001b[0;31m         \u001b[0mgen_dataset_ops\u001b[0m\u001b[0;34m.\u001b[0m\u001b[0mmake_iterator\u001b[0m\u001b[0;34m(\u001b[0m\u001b[0mds_variant\u001b[0m\u001b[0;34m,\u001b[0m \u001b[0mself\u001b[0m\u001b[0;34m.\u001b[0m\u001b[0m_iterator_resource\u001b[0m\u001b[0;34m)\u001b[0m\u001b[0;34m\u001b[0m\u001b[0;34m\u001b[0m\u001b[0m\n\u001b[0m\u001b[1;32m    723\u001b[0m       \u001b[0;32melse\u001b[0m\u001b[0;34m:\u001b[0m\u001b[0;34m\u001b[0m\u001b[0;34m\u001b[0m\u001b[0m\n\u001b[1;32m    724\u001b[0m         gen_experimental_dataset_ops.make_data_service_iterator(\n",
            "\u001b[0;32m/usr/local/lib/python3.6/dist-packages/tensorflow/python/ops/gen_dataset_ops.py\u001b[0m in \u001b[0;36mmake_iterator\u001b[0;34m(dataset, iterator, name)\u001b[0m\n\u001b[1;32m   3005\u001b[0m       _result = pywrap_tfe.TFE_Py_FastPathExecute(\n\u001b[1;32m   3006\u001b[0m         \u001b[0m_ctx\u001b[0m\u001b[0;34m.\u001b[0m\u001b[0m_context_handle\u001b[0m\u001b[0;34m,\u001b[0m \u001b[0mtld\u001b[0m\u001b[0;34m.\u001b[0m\u001b[0mdevice_name\u001b[0m\u001b[0;34m,\u001b[0m \u001b[0;34m\"MakeIterator\"\u001b[0m\u001b[0;34m,\u001b[0m \u001b[0mname\u001b[0m\u001b[0;34m,\u001b[0m\u001b[0;34m\u001b[0m\u001b[0;34m\u001b[0m\u001b[0m\n\u001b[0;32m-> 3007\u001b[0;31m         tld.op_callbacks, dataset, iterator)\n\u001b[0m\u001b[1;32m   3008\u001b[0m       \u001b[0;32mreturn\u001b[0m \u001b[0m_result\u001b[0m\u001b[0;34m\u001b[0m\u001b[0;34m\u001b[0m\u001b[0m\n\u001b[1;32m   3009\u001b[0m     \u001b[0;32mexcept\u001b[0m \u001b[0m_core\u001b[0m\u001b[0;34m.\u001b[0m\u001b[0m_NotOkStatusException\u001b[0m \u001b[0;32mas\u001b[0m \u001b[0me\u001b[0m\u001b[0;34m:\u001b[0m\u001b[0;34m\u001b[0m\u001b[0;34m\u001b[0m\u001b[0m\n",
            "\u001b[0;31mKeyboardInterrupt\u001b[0m: "
          ]
        }
      ]
    },
    {
      "cell_type": "code",
      "metadata": {
        "id": "SaZgjLf8o--9",
        "colab_type": "code",
        "colab": {
          "base_uri": "https://localhost:8080/",
          "height": 191
        },
        "outputId": "48aa23f7-f98e-4b20-f8d7-e4a6fb4fd2a7"
      },
      "source": [
        "TRTR_results"
      ],
      "execution_count": null,
      "outputs": [
        {
          "output_type": "execute_result",
          "data": {
            "text/html": [
              "<div>\n",
              "<style scoped>\n",
              "    .dataframe tbody tr th:only-of-type {\n",
              "        vertical-align: middle;\n",
              "    }\n",
              "\n",
              "    .dataframe tbody tr th {\n",
              "        vertical-align: top;\n",
              "    }\n",
              "\n",
              "    .dataframe thead th {\n",
              "        text-align: right;\n",
              "    }\n",
              "</style>\n",
              "<table border=\"1\" class=\"dataframe\">\n",
              "  <thead>\n",
              "    <tr style=\"text-align: right;\">\n",
              "      <th></th>\n",
              "      <th>y_col</th>\n",
              "      <th>window_length</th>\n",
              "      <th>batch_size</th>\n",
              "      <th>epochs</th>\n",
              "      <th>test_loss</th>\n",
              "      <th>test_metric</th>\n",
              "    </tr>\n",
              "  </thead>\n",
              "  <tbody>\n",
              "    <tr>\n",
              "      <th>0</th>\n",
              "      <td>0</td>\n",
              "      <td>65</td>\n",
              "      <td>64</td>\n",
              "      <td>20</td>\n",
              "      <td>5.357162</td>\n",
              "      <td>0.711760</td>\n",
              "    </tr>\n",
              "    <tr>\n",
              "      <th>1</th>\n",
              "      <td>1</td>\n",
              "      <td>65</td>\n",
              "      <td>64</td>\n",
              "      <td>20</td>\n",
              "      <td>3.354212</td>\n",
              "      <td>0.558199</td>\n",
              "    </tr>\n",
              "    <tr>\n",
              "      <th>2</th>\n",
              "      <td>2</td>\n",
              "      <td>65</td>\n",
              "      <td>64</td>\n",
              "      <td>20</td>\n",
              "      <td>20.354578</td>\n",
              "      <td>3.518324</td>\n",
              "    </tr>\n",
              "    <tr>\n",
              "      <th>3</th>\n",
              "      <td>3</td>\n",
              "      <td>65</td>\n",
              "      <td>64</td>\n",
              "      <td>20</td>\n",
              "      <td>1.838769</td>\n",
              "      <td>0.246920</td>\n",
              "    </tr>\n",
              "    <tr>\n",
              "      <th>4</th>\n",
              "      <td>4</td>\n",
              "      <td>65</td>\n",
              "      <td>64</td>\n",
              "      <td>20</td>\n",
              "      <td>6.998713</td>\n",
              "      <td>1.168536</td>\n",
              "    </tr>\n",
              "  </tbody>\n",
              "</table>\n",
              "</div>"
            ],
            "text/plain": [
              "   y_col  window_length  batch_size  epochs  test_loss  test_metric\n",
              "0      0             65          64      20   5.357162     0.711760\n",
              "1      1             65          64      20   3.354212     0.558199\n",
              "2      2             65          64      20  20.354578     3.518324\n",
              "3      3             65          64      20   1.838769     0.246920\n",
              "4      4             65          64      20   6.998713     1.168536"
            ]
          },
          "metadata": {
            "tags": []
          },
          "execution_count": 27
        }
      ]
    },
    {
      "cell_type": "code",
      "metadata": {
        "id": "m0JGOWEqNSuR",
        "colab_type": "code",
        "colab": {}
      },
      "source": [
        "TRTR_results.to_csv('dp_predictive_trtr_results0827.csv', index=False)"
      ],
      "execution_count": null,
      "outputs": []
    },
    {
      "cell_type": "code",
      "metadata": {
        "id": "EpebhKHTo8qw",
        "colab_type": "code",
        "colab": {
          "base_uri": "https://localhost:8080/",
          "height": 191
        },
        "outputId": "4a1d3628-7bd8-4202-91dd-8dd39b2f109d"
      },
      "source": [
        "TSTS_results"
      ],
      "execution_count": null,
      "outputs": [
        {
          "output_type": "execute_result",
          "data": {
            "text/html": [
              "<div>\n",
              "<style scoped>\n",
              "    .dataframe tbody tr th:only-of-type {\n",
              "        vertical-align: middle;\n",
              "    }\n",
              "\n",
              "    .dataframe tbody tr th {\n",
              "        vertical-align: top;\n",
              "    }\n",
              "\n",
              "    .dataframe thead th {\n",
              "        text-align: right;\n",
              "    }\n",
              "</style>\n",
              "<table border=\"1\" class=\"dataframe\">\n",
              "  <thead>\n",
              "    <tr style=\"text-align: right;\">\n",
              "      <th></th>\n",
              "      <th>y_col</th>\n",
              "      <th>window_length</th>\n",
              "      <th>batch_size</th>\n",
              "      <th>epochs</th>\n",
              "      <th>test_loss</th>\n",
              "      <th>test_metric</th>\n",
              "    </tr>\n",
              "  </thead>\n",
              "  <tbody>\n",
              "    <tr>\n",
              "      <th>0</th>\n",
              "      <td>0</td>\n",
              "      <td>65</td>\n",
              "      <td>64</td>\n",
              "      <td>20</td>\n",
              "      <td>7.385734</td>\n",
              "      <td>1.044242</td>\n",
              "    </tr>\n",
              "    <tr>\n",
              "      <th>1</th>\n",
              "      <td>1</td>\n",
              "      <td>65</td>\n",
              "      <td>64</td>\n",
              "      <td>20</td>\n",
              "      <td>4.519409</td>\n",
              "      <td>0.513693</td>\n",
              "    </tr>\n",
              "    <tr>\n",
              "      <th>2</th>\n",
              "      <td>2</td>\n",
              "      <td>65</td>\n",
              "      <td>64</td>\n",
              "      <td>20</td>\n",
              "      <td>18.541113</td>\n",
              "      <td>2.581589</td>\n",
              "    </tr>\n",
              "    <tr>\n",
              "      <th>3</th>\n",
              "      <td>3</td>\n",
              "      <td>65</td>\n",
              "      <td>64</td>\n",
              "      <td>20</td>\n",
              "      <td>1.559514</td>\n",
              "      <td>0.181012</td>\n",
              "    </tr>\n",
              "    <tr>\n",
              "      <th>4</th>\n",
              "      <td>4</td>\n",
              "      <td>65</td>\n",
              "      <td>64</td>\n",
              "      <td>20</td>\n",
              "      <td>4.623684</td>\n",
              "      <td>0.694531</td>\n",
              "    </tr>\n",
              "  </tbody>\n",
              "</table>\n",
              "</div>"
            ],
            "text/plain": [
              "   y_col  window_length  batch_size  epochs  test_loss  test_metric\n",
              "0      0             65          64      20   7.385734     1.044242\n",
              "1      1             65          64      20   4.519409     0.513693\n",
              "2      2             65          64      20  18.541113     2.581589\n",
              "3      3             65          64      20   1.559514     0.181012\n",
              "4      4             65          64      20   4.623684     0.694531"
            ]
          },
          "metadata": {
            "tags": []
          },
          "execution_count": 29
        }
      ]
    },
    {
      "cell_type": "code",
      "metadata": {
        "id": "YBcOrG4iNg3o",
        "colab_type": "code",
        "colab": {}
      },
      "source": [
        "TSTS_results.to_csv('dp_predictive_tsts_results0827.csv', index=False)"
      ],
      "execution_count": null,
      "outputs": []
    },
    {
      "cell_type": "markdown",
      "metadata": {
        "id": "XuXA_CAGegHu",
        "colab_type": "text"
      },
      "source": [
        "### Comparing TRTR vs TSTS results"
      ]
    },
    {
      "cell_type": "code",
      "metadata": {
        "id": "ailh1gDAORJR",
        "colab_type": "code",
        "colab": {
          "base_uri": "https://localhost:8080/",
          "height": 541
        },
        "outputId": "e86d0bf8-2bda-4286-e999-83bbe1b2b502"
      },
      "source": [
        "plt.scatter(TRTR_results['test_loss'], TSTS_results['test_loss'])\n",
        "plt.xlabel('TRTR test loss')\n",
        "plt.ylabel('TSTS test loss')\n",
        "plt.axis('square')\n",
        "plt.show()\n",
        "\n",
        "plt.scatter(TRTR_results['test_metric'], TSTS_results['test_metric'])\n",
        "plt.xlabel('TRTR test metric')\n",
        "plt.ylabel('TSTS test metric ')\n",
        "plt.axis('square')\n",
        "plt.show()"
      ],
      "execution_count": null,
      "outputs": [
        {
          "output_type": "display_data",
          "data": {
            "image/png": "[encoded data removed]",
            "text/plain": [
              "<Figure size 432x288 with 1 Axes>"
            ]
          },
          "metadata": {
            "tags": [],
            "needs_background": "light"
          }
        },
        {
          "output_type": "display_data",
          "data": {
            "image/png": "[encoded data removed]",
            "text/plain": [
              "<Figure size 432x288 with 1 Axes>"
            ]
          },
          "metadata": {
            "tags": [],
            "needs_background": "light"
          }
        }
      ]
    },
    {
      "cell_type": "markdown",
      "metadata": {
        "id": "XIOyn5ZGwQgG",
        "colab_type": "text"
      },
      "source": [
        "### SRA"
      ]
    }
  ]
}