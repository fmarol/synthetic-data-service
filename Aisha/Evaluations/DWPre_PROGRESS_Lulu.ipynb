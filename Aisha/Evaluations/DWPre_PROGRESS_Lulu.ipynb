{
  "nbformat": 4,
  "nbformat_minor": 0,
  "metadata": {
    "colab": {
      "name": "DWPre_PROGRESS_Lulu.ipynb",
      "provenance": [],
      "collapsed_sections": [],
      "authorship_tag": "ABX9TyO6OQbKsQ3vvCFx+ISuVbUC",
      "include_colab_link": true
    },
    "kernelspec": {
      "name": "python3",
      "display_name": "Python 3"
    },
    "accelerator": "GPU"
  },
  "cells": [
    {
      "cell_type": "markdown",
      "metadata": {
        "id": "view-in-github",
        "colab_type": "text"
      },
      "source": [
        "<a href=\"https://colab.research.google.com/github/noo-rashbass/synthetic-data-service/blob/Aisha/Aisha/Evaluations/DWPre_PROGRESS_Lulu.ipynb\" target=\"_parent\"><img src=\"https://colab.research.google.com/assets/colab-badge.svg\" alt=\"Open In Colab\"/></a>"
      ]
    },
    {
      "cell_type": "code",
      "metadata": {
        "id": "NRBk3Ndhi3c2",
        "colab_type": "code",
        "colab": {}
      },
      "source": [
        "import numpy as np\n",
        "import pandas as pd\n",
        "import matplotlib.pyplot as plt\n",
        "\n",
        "\n",
        "from sklearn.neighbors import KNeighborsClassifier, KNeighborsRegressor\n",
        "from sklearn.model_selection import train_test_split"
      ],
      "execution_count": 25,
      "outputs": []
    },
    {
      "cell_type": "markdown",
      "metadata": {
        "id": "QfVgjgCD2K9C",
        "colab_type": "text"
      },
      "source": [
        "# Data Loading"
      ]
    },
    {
      "cell_type": "code",
      "metadata": {
        "id": "OiBu5hRSnlNe",
        "colab_type": "code",
        "colab": {}
      },
      "source": [
        "def load_DoppelGANger(expand=False):\n",
        "  ori_features = np.load('ori_features_prism.npy') # np.shape = (1347 participants, 130 visits, 5 features)\n",
        "  ori_attributes = np.load('ori_attributes_prism.npy') # np.shape = (1347 participants, 330 one-hot attributes)\n",
        "\n",
        "  gen_features = np.load('features_600.npy') # np.shape = (1347 participants, 130 visits, 5 features)\n",
        "  gen_attributes = np.load('attributes_600.npy') # np.shape = (1347 participants, 330 one-hot attributes)\n",
        "\n",
        "  if expand:\n",
        "    ori_features, ori_attributes = expand_data(ori_features, ori_attributes)\n",
        "    gen_features, gen_attributes = expand_data(gen_features, gen_attributes)\n",
        "\n",
        "  return ori_features, ori_attributes, gen_features, gen_attributes\n",
        "\n",
        "def expand_data(features, attributes):\n",
        "  attributes = np.repeat(attributes, repeats=np.shape(features)[1], axis=0) # shape = (130*1347, 330)\n",
        "  features = np.concatenate(tuple(features)) # shape = (130*1347, 5)\n",
        "  # data = np.hstack((features, attributes)) # shape = (130*1347, 330+5)\n",
        "  return features, attributes"
      ],
      "execution_count": 2,
      "outputs": []
    },
    {
      "cell_type": "markdown",
      "metadata": {
        "id": "uDPtYgC42VyC",
        "colab_type": "text"
      },
      "source": [
        "# K-Nearest Neighbours Classification of attributes"
      ]
    },
    {
      "cell_type": "markdown",
      "metadata": {
        "id": "yW_uTAIzCkNP",
        "colab_type": "text"
      },
      "source": [
        "Lulu: Using each one-hot encoded vector as a target category (I think). Maybe I should transform to integer categories."
      ]
    },
    {
      "cell_type": "code",
      "metadata": {
        "id": "qS1CqdjopSf7",
        "colab_type": "code",
        "colab": {}
      },
      "source": [
        "ori_features, ori_attributes, gen_features, gen_attributes = load_DoppelGANger(expand=True)\n",
        "ori_features_train, ori_features_test, ori_attributes_train, ori_attributes_test = train_test_split(ori_features, ori_attributes, test_size=0.2, random_state=0)\n",
        "gen_features_train, gen_features_test, gen_attributes_train, gen_attributes_test = train_test_split(gen_features, gen_attributes, test_size=0.2, random_state=0)"
      ],
      "execution_count": 4,
      "outputs": []
    },
    {
      "cell_type": "markdown",
      "metadata": {
        "id": "hbAYKUrBCLat",
        "colab_type": "text"
      },
      "source": [
        "### TRTR"
      ]
    },
    {
      "cell_type": "code",
      "metadata": {
        "id": "VdTNysc55pxt",
        "colab_type": "code",
        "colab": {
          "base_uri": "https://localhost:8080/",
          "height": 66
        },
        "outputId": "ad935091-a866-4d5a-9270-6a61852c0e63"
      },
      "source": [
        "ori_classifier = KNeighborsClassifier()\n",
        "ori_classifier.fit(ori_features_train, ori_attributes_train)\n"
      ],
      "execution_count": 4,
      "outputs": [
        {
          "output_type": "execute_result",
          "data": {
            "text/plain": [
              "KNeighborsClassifier(algorithm='auto', leaf_size=30, metric='minkowski',\n",
              "                     metric_params=None, n_jobs=None, n_neighbors=5, p=2,\n",
              "                     weights='uniform')"
            ]
          },
          "metadata": {
            "tags": []
          },
          "execution_count": 4
        }
      ]
    },
    {
      "cell_type": "code",
      "metadata": {
        "id": "901Yxzxb7ny0",
        "colab_type": "code",
        "colab": {
          "base_uri": "https://localhost:8080/",
          "height": 33
        },
        "outputId": "c56afcba-c930-4ed7-e339-9108068f0bb8"
      },
      "source": [
        "ori_classifier.score(ori_features_test, ori_attributes_test)"
      ],
      "execution_count": 5,
      "outputs": [
        {
          "output_type": "execute_result",
          "data": {
            "text/plain": [
              "0.021557877905316658"
            ]
          },
          "metadata": {
            "tags": []
          },
          "execution_count": 5
        }
      ]
    },
    {
      "cell_type": "markdown",
      "metadata": {
        "id": "kM9N1e-FCOec",
        "colab_type": "text"
      },
      "source": [
        "### TSTS"
      ]
    },
    {
      "cell_type": "code",
      "metadata": {
        "id": "kh8cseqkA7iz",
        "colab_type": "code",
        "colab": {
          "base_uri": "https://localhost:8080/",
          "height": 66
        },
        "outputId": "794b59cf-b9d4-4703-e789-0bd6a04a1462"
      },
      "source": [
        "gen_classifier = KNeighborsClassifier()\n",
        "gen_classifier.fit(gen_features_train, gen_attributes_train)"
      ],
      "execution_count": 6,
      "outputs": [
        {
          "output_type": "execute_result",
          "data": {
            "text/plain": [
              "KNeighborsClassifier(algorithm='auto', leaf_size=30, metric='minkowski',\n",
              "                     metric_params=None, n_jobs=None, n_neighbors=5, p=2,\n",
              "                     weights='uniform')"
            ]
          },
          "metadata": {
            "tags": []
          },
          "execution_count": 6
        }
      ]
    },
    {
      "cell_type": "code",
      "metadata": {
        "id": "6XRAQ6zIBOTM",
        "colab_type": "code",
        "colab": {
          "base_uri": "https://localhost:8080/",
          "height": 33
        },
        "outputId": "fbe341a8-a4a5-4b2d-ab9c-bf15f9b91674"
      },
      "source": [
        "gen_classifier.score(gen_features_test, gen_attributes_test)"
      ],
      "execution_count": 7,
      "outputs": [
        {
          "output_type": "execute_result",
          "data": {
            "text/plain": [
              "0.05896293758209126"
            ]
          },
          "metadata": {
            "tags": []
          },
          "execution_count": 7
        }
      ]
    },
    {
      "cell_type": "markdown",
      "metadata": {
        "id": "6-o3uRbnBbGq",
        "colab_type": "text"
      },
      "source": [
        "# K-Nearest Neighbours Regression of Features"
      ]
    },
    {
      "cell_type": "markdown",
      "metadata": {
        "id": "zKidhuJjSg4L",
        "colab_type": "text"
      },
      "source": [
        "Lulu:\n",
        "* not currently using any attributes\n",
        "* using default uniform weights\n",
        "* fixed TRTR params and used the same for TSTS (maybe I should try other way?)"
      ]
    },
    {
      "cell_type": "markdown",
      "metadata": {
        "id": "86f1pB4TPE3W",
        "colab_type": "text"
      },
      "source": [
        "### Define Evaluation Scheme"
      ]
    },
    {
      "cell_type": "code",
      "metadata": {
        "id": "wiju5-BwBl3k",
        "colab_type": "code",
        "colab": {}
      },
      "source": [
        "def make_x_y(features, y_index):\n",
        "  x = np.delete(features, obj=y_index, axis=1)\n",
        "  y = features[:, y_index]\n",
        "  # print(np.shape(x))\n",
        "  # print(np.shape(y))\n",
        "  return x, y\n",
        "\n",
        "\n",
        "def KNNR_train_test(features, y_index, radius, test_size=0.2):\n",
        "  \"\"\" Experiments with K-Nearst Neighbors Regression on a single featureset\n",
        "\n",
        "  Args:\n",
        "  - features: 2D numpy array of non-categorical numerical data\n",
        "  - y_index: list of y_index values\n",
        "  - radius: list of KNNR radius parameters\n",
        "\n",
        "  Returns\n",
        "  - results: dataframe showing experiment parameters and scores\n",
        "\n",
        "  \"\"\"\n",
        "  if not len(y_index)==len(radius):\n",
        "    print('length of y_index and radius must be the same')\n",
        "    return\n",
        "\n",
        "  score = []\n",
        "  for r in range(len(y_index)):\n",
        "    print('Current column = ', y_index[r], ' radius = ', str(radius[r]))\n",
        "    print('Making labels')\n",
        "    x, y = make_x_y(features, y_index[r])\n",
        "    train_x, test_x, train_y, test_y = train_test_split(x, y, test_size=test_size)\n",
        "    print('Fitting model')\n",
        "    regressor = KNeighborsRegressor(radius=radius[r])\n",
        "    regressor.fit(train_x, train_y)\n",
        "\n",
        "    print('Collecting results')\n",
        "    score.append(regressor.score(test_x, test_y))\n",
        "\n",
        "  \n",
        "  results = pd.DataFrame(list(zip(y_index, radius, score)), columns=['column_index', 'radius', 'score'])\n",
        "\n",
        "  return results\n"
      ],
      "execution_count": 6,
      "outputs": []
    },
    {
      "cell_type": "markdown",
      "metadata": {
        "id": "6FQ6EZnFSsme",
        "colab_type": "text"
      },
      "source": [
        "### TRTR"
      ]
    },
    {
      "cell_type": "markdown",
      "metadata": {
        "id": "du30XIm3Swza",
        "colab_type": "text"
      },
      "source": [
        "Experimenting before collecting TRTR results"
      ]
    },
    {
      "cell_type": "code",
      "metadata": {
        "id": "6v3DkP9zDvGq",
        "colab_type": "code",
        "colab": {
          "base_uri": "https://localhost:8080/",
          "height": 212
        },
        "outputId": "c36e3f31-0d00-427d-ad29-bd659c92c0e5"
      },
      "source": [
        "y_index=[0]*3\n",
        "radius=[1,2,3]\n",
        "\n",
        "ori_results = KNNR_train_test(ori_features, y_index, radius)"
      ],
      "execution_count": 7,
      "outputs": [
        {
          "output_type": "stream",
          "text": [
            "Current column =  0  radius =  1\n",
            "Making labels\n",
            "Fitting model\n",
            "Collecting results\n",
            "Current column =  0  radius =  2\n",
            "Making labels\n",
            "Fitting model\n",
            "Collecting results\n",
            "Current column =  0  radius =  3\n",
            "Making labels\n",
            "Fitting model\n",
            "Collecting results\n"
          ],
          "name": "stdout"
        }
      ]
    },
    {
      "cell_type": "code",
      "metadata": {
        "id": "mLBkH-5NQyLG",
        "colab_type": "code",
        "colab": {
          "base_uri": "https://localhost:8080/",
          "height": 277
        },
        "outputId": "e5c1d409-1cf2-4aa0-c627-de407ff90643"
      },
      "source": [
        "ori_results2 = KNNR_train_test(ori_features, y_index=[1,2,3,4], radius=[1,1,1,1])"
      ],
      "execution_count": 10,
      "outputs": [
        {
          "output_type": "stream",
          "text": [
            "Current column =  1  radius =  1\n",
            "Making labels\n",
            "Fitting model\n",
            "Collecting results\n",
            "Current column =  2  radius =  1\n",
            "Making labels\n",
            "Fitting model\n",
            "Collecting results\n",
            "Current column =  3  radius =  1\n",
            "Making labels\n",
            "Fitting model\n",
            "Collecting results\n",
            "Current column =  4  radius =  1\n",
            "Making labels\n",
            "Fitting model\n",
            "Collecting results\n"
          ],
          "name": "stdout"
        }
      ]
    },
    {
      "cell_type": "code",
      "metadata": {
        "id": "M4goToRDR2nm",
        "colab_type": "code",
        "colab": {
          "base_uri": "https://localhost:8080/",
          "height": 82
        },
        "outputId": "309af502-533b-4168-bf54-dd841ff56c37"
      },
      "source": [
        "ori_results1 = KNNR_train_test(ori_features, y_index=[0], radius=[1])"
      ],
      "execution_count": 12,
      "outputs": [
        {
          "output_type": "stream",
          "text": [
            "Current column =  0  radius =  1\n",
            "Making labels\n",
            "Fitting model\n",
            "Collecting results\n"
          ],
          "name": "stdout"
        }
      ]
    },
    {
      "cell_type": "code",
      "metadata": {
        "id": "iDUgR5kQS5gL",
        "colab_type": "code",
        "colab": {
          "base_uri": "https://localhost:8080/",
          "height": 82
        },
        "outputId": "bbfc2af1-8e0e-47ea-c382-ac0c68b94505"
      },
      "source": [
        "ori_results3 = KNNR_train_test(ori_features, y_index=[0], radius=[5])"
      ],
      "execution_count": 15,
      "outputs": [
        {
          "output_type": "stream",
          "text": [
            "Current column =  0  radius =  5\n",
            "Making labels\n",
            "Fitting model\n",
            "Collecting results\n"
          ],
          "name": "stdout"
        }
      ]
    },
    {
      "cell_type": "code",
      "metadata": {
        "id": "xhyQr1tQTFNH",
        "colab_type": "code",
        "colab": {
          "base_uri": "https://localhost:8080/",
          "height": 147
        },
        "outputId": "3adb9a47-4fe7-4697-8326-88feabff5f76"
      },
      "source": [
        "ori_results4 = KNNR_train_test(ori_features, y_index=[0]*2, radius=[0.75, 0.25])"
      ],
      "execution_count": 17,
      "outputs": [
        {
          "output_type": "stream",
          "text": [
            "Current column =  0  radius =  0.75\n",
            "Making labels\n",
            "Fitting model\n",
            "Collecting results\n",
            "Current column =  0  radius =  0.25\n",
            "Making labels\n",
            "Fitting model\n",
            "Collecting results\n"
          ],
          "name": "stdout"
        }
      ]
    },
    {
      "cell_type": "code",
      "metadata": {
        "id": "TEwMj1ZxT-2d",
        "colab_type": "code",
        "colab": {
          "base_uri": "https://localhost:8080/",
          "height": 105
        },
        "outputId": "b573445d-6d88-464d-ffc9-5a20b7be3537"
      },
      "source": [
        "ori_results4"
      ],
      "execution_count": 18,
      "outputs": [
        {
          "output_type": "execute_result",
          "data": {
            "text/html": [
              "<div>\n",
              "<style scoped>\n",
              "    .dataframe tbody tr th:only-of-type {\n",
              "        vertical-align: middle;\n",
              "    }\n",
              "\n",
              "    .dataframe tbody tr th {\n",
              "        vertical-align: top;\n",
              "    }\n",
              "\n",
              "    .dataframe thead th {\n",
              "        text-align: right;\n",
              "    }\n",
              "</style>\n",
              "<table border=\"1\" class=\"dataframe\">\n",
              "  <thead>\n",
              "    <tr style=\"text-align: right;\">\n",
              "      <th></th>\n",
              "      <th>column_index</th>\n",
              "      <th>radius</th>\n",
              "      <th>score</th>\n",
              "    </tr>\n",
              "  </thead>\n",
              "  <tbody>\n",
              "    <tr>\n",
              "      <th>0</th>\n",
              "      <td>0</td>\n",
              "      <td>0.75</td>\n",
              "      <td>0.289725</td>\n",
              "    </tr>\n",
              "    <tr>\n",
              "      <th>1</th>\n",
              "      <td>0</td>\n",
              "      <td>0.25</td>\n",
              "      <td>0.295882</td>\n",
              "    </tr>\n",
              "  </tbody>\n",
              "</table>\n",
              "</div>"
            ],
            "text/plain": [
              "   column_index  radius     score\n",
              "0             0    0.75  0.289725\n",
              "1             0    0.25  0.295882"
            ]
          },
          "metadata": {
            "tags": []
          },
          "execution_count": 18
        }
      ]
    },
    {
      "cell_type": "code",
      "metadata": {
        "id": "vIfGu6FcQoLA",
        "colab_type": "code",
        "colab": {}
      },
      "source": [
        "TRTR_results = pd.concat([ori_results1, ori_results2])\n",
        "TRTR_results.to_csv('dp_dwpre_knnr_trtr_results.csv')"
      ],
      "execution_count": 27,
      "outputs": []
    },
    {
      "cell_type": "markdown",
      "metadata": {
        "id": "u69kfC62UhEE",
        "colab_type": "text"
      },
      "source": [
        "### TSTS"
      ]
    },
    {
      "cell_type": "markdown",
      "metadata": {
        "id": "_c23jE_iVAZx",
        "colab_type": "text"
      },
      "source": [
        "Collecting TSTS results using the same parameters as the TRTR"
      ]
    },
    {
      "cell_type": "code",
      "metadata": {
        "id": "56Rq1PslUxtS",
        "colab_type": "code",
        "colab": {
          "base_uri": "https://localhost:8080/",
          "height": 342
        },
        "outputId": "284b366b-ca0c-44ba-b6ca-c9684f60f2e7"
      },
      "source": [
        "gen_results = KNNR_train_test(gen_features, y_index=[0,1,2,3,4], radius=[1]*5)"
      ],
      "execution_count": 20,
      "outputs": [
        {
          "output_type": "stream",
          "text": [
            "Current column =  0  radius =  1\n",
            "Making labels\n",
            "Fitting model\n",
            "Collecting results\n",
            "Current column =  1  radius =  1\n",
            "Making labels\n",
            "Fitting model\n",
            "Collecting results\n",
            "Current column =  2  radius =  1\n",
            "Making labels\n",
            "Fitting model\n",
            "Collecting results\n",
            "Current column =  3  radius =  1\n",
            "Making labels\n",
            "Fitting model\n",
            "Collecting results\n",
            "Current column =  4  radius =  1\n",
            "Making labels\n",
            "Fitting model\n",
            "Collecting results\n"
          ],
          "name": "stdout"
        }
      ]
    },
    {
      "cell_type": "code",
      "metadata": {
        "id": "jG_FhwxvV3H0",
        "colab_type": "code",
        "colab": {}
      },
      "source": [
        "TSTS_results = gen_results\n",
        "TSTS_results.to_csv('dp_dwpre_knnr_tsts_results.csv')"
      ],
      "execution_count": 23,
      "outputs": []
    },
    {
      "cell_type": "markdown",
      "metadata": {
        "id": "H_pl_a2cWICW",
        "colab_type": "text"
      },
      "source": [
        "### Comparison"
      ]
    },
    {
      "cell_type": "code",
      "metadata": {
        "id": "2WPdQBYGWJ7N",
        "colab_type": "code",
        "colab": {
          "base_uri": "https://localhost:8080/",
          "height": 295
        },
        "outputId": "6b462f94-a3bf-4f7b-f99c-dfeb19c2f48b"
      },
      "source": [
        "plt.plot([0,1], [0,1], color='r')\n",
        "plt.scatter(TRTR_results['score'], TSTS_results['score'])\n",
        "plt.xlim([0,1])\n",
        "plt.ylim([0,1])\n",
        "plt.xlabel('TRTR score')\n",
        "plt.ylabel('TSTS score')\n",
        "plt.title('Dimension-wise KNNR Predictor Scores')\n",
        "plt.axis('square')\n",
        "plt.show()"
      ],
      "execution_count": 31,
      "outputs": [
        {
          "output_type": "display_data",
          "data": {
            "image/png": "[encoded data removed]",
            "text/plain": [
              "<Figure size 432x288 with 1 Axes>"
            ]
          },
          "metadata": {
            "tags": [],
            "needs_background": "light"
          }
        }
      ]
    }
  ]
}