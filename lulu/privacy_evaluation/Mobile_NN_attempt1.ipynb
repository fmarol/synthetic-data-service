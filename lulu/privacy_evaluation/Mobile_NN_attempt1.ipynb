{
  "nbformat": 4,
  "nbformat_minor": 0,
  "metadata": {
    "colab": {
      "name": "Mobile_NN_attempt1.ipynb",
      "provenance": []
    },
    "kernelspec": {
      "name": "python3",
      "display_name": "Python 3"
    }
  },
  "cells": [
    {
      "cell_type": "markdown",
      "metadata": {
        "id": "1Fx063LVa--5",
        "colab_type": "text"
      },
      "source": [
        "First attempt at neural network classification on PRISM housefolds data. Following official TensorFlow tutorial [here](https://www.tensorflow.org/tutorials/structured_data/feature_columns)"
      ]
    },
    {
      "cell_type": "markdown",
      "metadata": {
        "id": "1ErBKhq4bWr2",
        "colab_type": "text"
      },
      "source": [
        "#Load Data"
      ]
    },
    {
      "cell_type": "code",
      "metadata": {
        "id": "_PJabJcRXal8",
        "colab_type": "code",
        "colab": {}
      },
      "source": [
        "pip install -q sklearn"
      ],
      "execution_count": 1,
      "outputs": []
    },
    {
      "cell_type": "code",
      "metadata": {
        "id": "2vq7BNmxYD-n",
        "colab_type": "code",
        "colab": {}
      },
      "source": [
        "import numpy as np\n",
        "import pandas as pd\n",
        "\n",
        "import tensorflow as tf\n",
        "\n",
        "from tensorflow import feature_column\n",
        "from tensorflow.keras import layers\n",
        "from sklearn.model_selection import train_test_split"
      ],
      "execution_count": 2,
      "outputs": []
    },
    {
      "cell_type": "code",
      "metadata": {
        "id": "GpjKbTGLpedX",
        "colab_type": "code",
        "colab": {}
      },
      "source": [
        "target_name = 'mobile_phone'\n",
        "indicator_column_names = [\n",
        "\t\t\t\t'air_bricks',\n",
        "\t\t\t\t'animal_drawn_cart',\n",
        "\t\t\t\t'bank_account',\n",
        "\t\t\t\t'bed',\n",
        "\t\t\t\t'bike',\n",
        "\t\t\t\t'motor_boat',\n",
        "\t\t\t\t'motorless_boat',\n",
        "\t\t\t\t'car_truck',\n",
        "\t\t\t\t'cassette_player',\n",
        "\t\t\t\t'chair',\n",
        "\t\t\t\t'clock',\n",
        "\t\t\t\t'cooking_fuel',\n",
        "\t\t\t\t'cupboard',\n",
        "\t\t\t\t'drinking_water_source',\n",
        "\t\t\t\t'dwelling_type',\n",
        "\t\t\t\t'eaves',\n",
        "\t\t\t\t'electricity',\n",
        "\t\t\t\t'floor_material',\n",
        "\t\t\t\t'food_problems_weekly',\n",
        "\t\t\t\t'wealth_index_cat',\n",
        "\t\t\t\t'landline_phone',\n",
        "\t\t\t\t'lighting_source',\n",
        "\t\t\t\t'mobile_phone',\n",
        "\t\t\t\t'motocycle_scooter',\n",
        "\t\t\t\t'radio',\n",
        "\t\t\t\t'refrigerator',\n",
        "\t\t\t\t'roof_material',\n",
        "\t\t\t\t'sofa',\n",
        "\t\t\t\t'subcountry',\n",
        "\t\t\t\t'table',\n",
        "\t\t\t\t'tv',\n",
        "\t\t\t\t'wall_material',\n",
        "\t\t\t\t'watch'\n",
        "]"
      ],
      "execution_count": 5,
      "outputs": []
    },
    {
      "cell_type": "code",
      "metadata": {
        "id": "oYCnmLWzYUwU",
        "colab_type": "code",
        "colab": {
          "base_uri": "https://localhost:8080/",
          "height": 224
        },
        "outputId": "cea8b2d5-9dda-4137-cd70-3bc2555395ef"
      },
      "source": [
        "df = pd.read_csv('household_categorical_encoded.csv')\n",
        "df.drop('Unnamed: 0', axis=1)\n",
        "df.columns = ['index', 'Household_Id']+indicator_column_names\n",
        "df = df.drop(['index','Household_Id'], axis=1)\n",
        "df.head()"
      ],
      "execution_count": 6,
      "outputs": [
        {
          "output_type": "execute_result",
          "data": {
            "text/html": [
              "<div>\n",
              "<style scoped>\n",
              "    .dataframe tbody tr th:only-of-type {\n",
              "        vertical-align: middle;\n",
              "    }\n",
              "\n",
              "    .dataframe tbody tr th {\n",
              "        vertical-align: top;\n",
              "    }\n",
              "\n",
              "    .dataframe thead th {\n",
              "        text-align: right;\n",
              "    }\n",
              "</style>\n",
              "<table border=\"1\" class=\"dataframe\">\n",
              "  <thead>\n",
              "    <tr style=\"text-align: right;\">\n",
              "      <th></th>\n",
              "      <th>air_bricks</th>\n",
              "      <th>animal_drawn_cart</th>\n",
              "      <th>bank_account</th>\n",
              "      <th>bed</th>\n",
              "      <th>bike</th>\n",
              "      <th>motor_boat</th>\n",
              "      <th>motorless_boat</th>\n",
              "      <th>car_truck</th>\n",
              "      <th>cassette_player</th>\n",
              "      <th>chair</th>\n",
              "      <th>clock</th>\n",
              "      <th>cooking_fuel</th>\n",
              "      <th>cupboard</th>\n",
              "      <th>drinking_water_source</th>\n",
              "      <th>dwelling_type</th>\n",
              "      <th>eaves</th>\n",
              "      <th>electricity</th>\n",
              "      <th>floor_material</th>\n",
              "      <th>food_problems_weekly</th>\n",
              "      <th>wealth_index_cat</th>\n",
              "      <th>landline_phone</th>\n",
              "      <th>lighting_source</th>\n",
              "      <th>mobile_phone</th>\n",
              "      <th>motocycle_scooter</th>\n",
              "      <th>radio</th>\n",
              "      <th>refrigerator</th>\n",
              "      <th>roof_material</th>\n",
              "      <th>sofa</th>\n",
              "      <th>subcountry</th>\n",
              "      <th>table</th>\n",
              "      <th>tv</th>\n",
              "      <th>wall_material</th>\n",
              "      <th>watch</th>\n",
              "    </tr>\n",
              "  </thead>\n",
              "  <tbody>\n",
              "    <tr>\n",
              "      <th>0</th>\n",
              "      <td>0</td>\n",
              "      <td>0</td>\n",
              "      <td>0</td>\n",
              "      <td>1</td>\n",
              "      <td>1</td>\n",
              "      <td>0</td>\n",
              "      <td>0</td>\n",
              "      <td>0</td>\n",
              "      <td>1</td>\n",
              "      <td>1</td>\n",
              "      <td>0</td>\n",
              "      <td>0</td>\n",
              "      <td>0</td>\n",
              "      <td>0</td>\n",
              "      <td>0</td>\n",
              "      <td>0</td>\n",
              "      <td>0</td>\n",
              "      <td>0</td>\n",
              "      <td>0</td>\n",
              "      <td>0</td>\n",
              "      <td>0</td>\n",
              "      <td>0</td>\n",
              "      <td>1</td>\n",
              "      <td>0</td>\n",
              "      <td>1</td>\n",
              "      <td>0</td>\n",
              "      <td>0</td>\n",
              "      <td>0</td>\n",
              "      <td>0</td>\n",
              "      <td>1</td>\n",
              "      <td>0</td>\n",
              "      <td>0</td>\n",
              "      <td>1</td>\n",
              "    </tr>\n",
              "    <tr>\n",
              "      <th>1</th>\n",
              "      <td>1</td>\n",
              "      <td>0</td>\n",
              "      <td>0</td>\n",
              "      <td>1</td>\n",
              "      <td>1</td>\n",
              "      <td>0</td>\n",
              "      <td>0</td>\n",
              "      <td>0</td>\n",
              "      <td>0</td>\n",
              "      <td>1</td>\n",
              "      <td>0</td>\n",
              "      <td>0</td>\n",
              "      <td>0</td>\n",
              "      <td>1</td>\n",
              "      <td>1</td>\n",
              "      <td>1</td>\n",
              "      <td>0</td>\n",
              "      <td>1</td>\n",
              "      <td>0</td>\n",
              "      <td>0</td>\n",
              "      <td>0</td>\n",
              "      <td>1</td>\n",
              "      <td>1</td>\n",
              "      <td>0</td>\n",
              "      <td>1</td>\n",
              "      <td>0</td>\n",
              "      <td>1</td>\n",
              "      <td>0</td>\n",
              "      <td>0</td>\n",
              "      <td>1</td>\n",
              "      <td>0</td>\n",
              "      <td>1</td>\n",
              "      <td>0</td>\n",
              "    </tr>\n",
              "    <tr>\n",
              "      <th>2</th>\n",
              "      <td>2</td>\n",
              "      <td>0</td>\n",
              "      <td>1</td>\n",
              "      <td>1</td>\n",
              "      <td>1</td>\n",
              "      <td>0</td>\n",
              "      <td>0</td>\n",
              "      <td>0</td>\n",
              "      <td>0</td>\n",
              "      <td>1</td>\n",
              "      <td>0</td>\n",
              "      <td>0</td>\n",
              "      <td>0</td>\n",
              "      <td>2</td>\n",
              "      <td>1</td>\n",
              "      <td>1</td>\n",
              "      <td>1</td>\n",
              "      <td>1</td>\n",
              "      <td>1</td>\n",
              "      <td>1</td>\n",
              "      <td>0</td>\n",
              "      <td>2</td>\n",
              "      <td>1</td>\n",
              "      <td>0</td>\n",
              "      <td>0</td>\n",
              "      <td>0</td>\n",
              "      <td>1</td>\n",
              "      <td>0</td>\n",
              "      <td>0</td>\n",
              "      <td>1</td>\n",
              "      <td>0</td>\n",
              "      <td>1</td>\n",
              "      <td>0</td>\n",
              "    </tr>\n",
              "    <tr>\n",
              "      <th>3</th>\n",
              "      <td>0</td>\n",
              "      <td>0</td>\n",
              "      <td>0</td>\n",
              "      <td>1</td>\n",
              "      <td>1</td>\n",
              "      <td>0</td>\n",
              "      <td>0</td>\n",
              "      <td>0</td>\n",
              "      <td>0</td>\n",
              "      <td>1</td>\n",
              "      <td>0</td>\n",
              "      <td>0</td>\n",
              "      <td>0</td>\n",
              "      <td>3</td>\n",
              "      <td>0</td>\n",
              "      <td>1</td>\n",
              "      <td>0</td>\n",
              "      <td>0</td>\n",
              "      <td>2</td>\n",
              "      <td>0</td>\n",
              "      <td>0</td>\n",
              "      <td>0</td>\n",
              "      <td>1</td>\n",
              "      <td>0</td>\n",
              "      <td>1</td>\n",
              "      <td>0</td>\n",
              "      <td>1</td>\n",
              "      <td>0</td>\n",
              "      <td>0</td>\n",
              "      <td>1</td>\n",
              "      <td>0</td>\n",
              "      <td>0</td>\n",
              "      <td>0</td>\n",
              "    </tr>\n",
              "    <tr>\n",
              "      <th>4</th>\n",
              "      <td>1</td>\n",
              "      <td>0</td>\n",
              "      <td>0</td>\n",
              "      <td>1</td>\n",
              "      <td>1</td>\n",
              "      <td>0</td>\n",
              "      <td>0</td>\n",
              "      <td>0</td>\n",
              "      <td>0</td>\n",
              "      <td>1</td>\n",
              "      <td>0</td>\n",
              "      <td>0</td>\n",
              "      <td>0</td>\n",
              "      <td>4</td>\n",
              "      <td>0</td>\n",
              "      <td>1</td>\n",
              "      <td>0</td>\n",
              "      <td>0</td>\n",
              "      <td>3</td>\n",
              "      <td>1</td>\n",
              "      <td>0</td>\n",
              "      <td>0</td>\n",
              "      <td>0</td>\n",
              "      <td>0</td>\n",
              "      <td>0</td>\n",
              "      <td>0</td>\n",
              "      <td>1</td>\n",
              "      <td>0</td>\n",
              "      <td>0</td>\n",
              "      <td>1</td>\n",
              "      <td>0</td>\n",
              "      <td>0</td>\n",
              "      <td>0</td>\n",
              "    </tr>\n",
              "  </tbody>\n",
              "</table>\n",
              "</div>"
            ],
            "text/plain": [
              "   air_bricks  animal_drawn_cart  bank_account  ...  tv  wall_material  watch\n",
              "0           0                  0             0  ...   0              0      1\n",
              "1           1                  0             0  ...   0              1      0\n",
              "2           2                  0             1  ...   0              1      0\n",
              "3           0                  0             0  ...   0              0      0\n",
              "4           1                  0             0  ...   0              0      0\n",
              "\n",
              "[5 rows x 33 columns]"
            ]
          },
          "metadata": {
            "tags": []
          },
          "execution_count": 6
        }
      ]
    },
    {
      "cell_type": "code",
      "metadata": {
        "id": "8hK2dkEZankx",
        "colab_type": "code",
        "colab": {
          "base_uri": "https://localhost:8080/",
          "height": 68
        },
        "outputId": "0a3d124a-0b4c-44c9-c68c-1b1d5aa78cb5"
      },
      "source": [
        "train, test = train_test_split(df, test_size=0.2)\n",
        "train, val = train_test_split(train, test_size=0.2)\n",
        "print(len(train), 'train examples')\n",
        "print(len(val), 'validation examples')\n",
        "print(len(test), 'test examples')"
      ],
      "execution_count": 7,
      "outputs": [
        {
          "output_type": "stream",
          "text": [
            "211 train examples\n",
            "53 validation examples\n",
            "67 test examples\n"
          ],
          "name": "stdout"
        }
      ]
    },
    {
      "cell_type": "markdown",
      "metadata": {
        "id": "IAmOON6vblFI",
        "colab_type": "text"
      },
      "source": [
        "#Input Pipeline"
      ]
    },
    {
      "cell_type": "code",
      "metadata": {
        "id": "N7PHGnrAa2ej",
        "colab_type": "code",
        "colab": {}
      },
      "source": [
        "# A utility method to create a tf.data dataset from a Pandas Dataframe\n",
        "def df_to_dataset(dataframe, target_name, shuffle=True, batch_size=32):\n",
        "  dataframe = dataframe.copy()\n",
        "  labels = dataframe.pop(target_name)\n",
        "  ds = tf.data.Dataset.from_tensor_slices((dict(dataframe), labels))\n",
        "  if shuffle:\n",
        "    ds = ds.shuffle(buffer_size=len(dataframe))\n",
        "  ds = ds.batch(batch_size)\n",
        "  return ds"
      ],
      "execution_count": 8,
      "outputs": []
    },
    {
      "cell_type": "code",
      "metadata": {
        "id": "Wt3J4qf3b2vv",
        "colab_type": "code",
        "colab": {}
      },
      "source": [
        "batch_size = 5 # A small batch sized is used for demonstration purposes\n",
        "train_ds = df_to_dataset(train, target_name, batch_size=batch_size)\n",
        "val_ds = df_to_dataset(val, target_name, shuffle=False, batch_size=batch_size)\n",
        "test_ds = df_to_dataset(test, target_name, shuffle=False, batch_size=batch_size)"
      ],
      "execution_count": 13,
      "outputs": []
    },
    {
      "cell_type": "code",
      "metadata": {
        "id": "eLaHYSS6cEoP",
        "colab_type": "code",
        "colab": {
          "base_uri": "https://localhost:8080/",
          "height": 88
        },
        "outputId": "a2a2594d-718f-4fa9-a4a9-4de3a3ef7f05"
      },
      "source": [
        "for feature_batch, label_batch in train_ds.take(1):\n",
        "  print('Every feature:', list(feature_batch.keys()))\n",
        "  print('A batch of electricity:', feature_batch['electricity'])\n",
        "  print('A batch of targets:', label_batch )"
      ],
      "execution_count": 14,
      "outputs": [
        {
          "output_type": "stream",
          "text": [
            "Every feature: ['air_bricks', 'animal_drawn_cart', 'bank_account', 'bed', 'bike', 'motor_boat', 'motorless_boat', 'car_truck', 'cassette_player', 'chair', 'clock', 'cooking_fuel', 'cupboard', 'drinking_water_source', 'dwelling_type', 'eaves', 'electricity', 'floor_material', 'food_problems_weekly', 'wealth_index_cat', 'landline_phone', 'lighting_source', 'motocycle_scooter', 'radio', 'refrigerator', 'roof_material', 'sofa', 'subcountry', 'table', 'tv', 'wall_material', 'watch']\n",
            "A batch of electricity: tf.Tensor([0 0 0 0 0], shape=(5,), dtype=int64)\n",
            "A batch of targets: tf.Tensor([1 1 1 0 1], shape=(5,), dtype=int64)\n"
          ],
          "name": "stdout"
        }
      ]
    },
    {
      "cell_type": "markdown",
      "metadata": {
        "id": "wiyEtYsuc4sJ",
        "colab_type": "text"
      },
      "source": [
        "#One-Hot Encoding"
      ]
    },
    {
      "cell_type": "code",
      "metadata": {
        "id": "UGh8N3A6eJEg",
        "colab_type": "code",
        "colab": {}
      },
      "source": [
        "# animal_type = feature_column.categorical_column_with_vocabulary_list(\n",
        "#       'Type', ['Cat', 'Dog'])\n",
        "\n",
        "# animal_type_one_hot = feature_column.indicator_column(animal_type)\n",
        "# demo(animal_type_one_hot)"
      ],
      "execution_count": 8,
      "outputs": []
    },
    {
      "cell_type": "code",
      "metadata": {
        "id": "E1pjA72gekht",
        "colab_type": "code",
        "colab": {}
      },
      "source": [
        "# wealth_index = feature_column.categorical_column_with_vocabulary_list('Household wealth index, categorical [EUPATH_0000143]', ['Middle', 'Poorest', 'Least poor'])\n",
        "# wealth_index_one_hot = feature_column.indicator_column(wealth_index)\n",
        "# print(wealth_index_one_hot)"
      ],
      "execution_count": 9,
      "outputs": []
    },
    {
      "cell_type": "code",
      "metadata": {
        "id": "0XQUBqljdPeK",
        "colab_type": "code",
        "colab": {}
      },
      "source": [
        "# def household_categorical_one_hot(df_cat):\n",
        "# \tcolumns = df_cat.columns.tolist()\n",
        "# \tcolumns.remove('Household_Id') ## experiment doesn't mess with identifier\n",
        "# \t# print(type(columns))\n",
        "# \t# print(columns)\n",
        "\n",
        "# \tkey = pd.Series(index=columns)\n",
        "\n",
        "# \tfor col in columns:\n",
        "# \t\tvalues = list(df_cat[col].unique())\n",
        "# \t\t## DEALING WITH CASES\n",
        "# \t\tif values == ['Yes', 'No'] or values == ['No', 'Yes']:  ## Just ensuring Y/N is sensibly replaced\n",
        "# \t\t\tdf_cat[col] = df_cat[col].apply(lambda x: 1 if x=='Yes' else 0)\n",
        "# \t\t\tkey[col] = ['No', 'Yes']\n",
        "# \t\t# could add bank account case here\n",
        "# \t\telse: \n",
        "# \t\t\tdf_cat[col] = df_cat[col].apply(lambda x: values.index(x))\n",
        "# \t\t\tkey[col] = values\n",
        "# \treturn df_cat, key"
      ],
      "execution_count": 10,
      "outputs": []
    },
    {
      "cell_type": "markdown",
      "metadata": {
        "id": "uki7Cp-OpWeU",
        "colab_type": "text"
      },
      "source": [
        "#Feature Columns"
      ]
    },
    {
      "cell_type": "code",
      "metadata": {
        "id": "cNZJhAGhqAaR",
        "colab_type": "code",
        "colab": {}
      },
      "source": [
        "feature_columns = []\n",
        "indicator_column_names.remove(target_name)\n",
        "for col_name in indicator_column_names:\n",
        "  categorical_column = feature_column.categorical_column_with_vocabulary_list(\n",
        "      col_name, df[col_name].unique())\n",
        "  indicator_column = feature_column.indicator_column(categorical_column)\n",
        "  feature_columns.append(indicator_column)"
      ],
      "execution_count": 9,
      "outputs": []
    },
    {
      "cell_type": "markdown",
      "metadata": {
        "id": "utPwV4WtqSnX",
        "colab_type": "text"
      },
      "source": [
        "#Create Feature Layer"
      ]
    },
    {
      "cell_type": "code",
      "metadata": {
        "id": "UOev3HdGqXSY",
        "colab_type": "code",
        "colab": {}
      },
      "source": [
        "feature_layer = tf.keras.layers.DenseFeatures(feature_columns)\n",
        "\n",
        "batch_size = 32\n",
        "train_ds = df_to_dataset(train, target_name, batch_size=batch_size)\n",
        "val_ds = df_to_dataset(val, target_name, shuffle=False, batch_size=batch_size)\n",
        "test_ds = df_to_dataset(test, target_name, shuffle=False, batch_size=batch_size)"
      ],
      "execution_count": 10,
      "outputs": []
    },
    {
      "cell_type": "markdown",
      "metadata": {
        "id": "qLWNdSNOqqvf",
        "colab_type": "text"
      },
      "source": [
        "#Create, Compile, Train"
      ]
    },
    {
      "cell_type": "code",
      "metadata": {
        "id": "G28kHDkNquYt",
        "colab_type": "code",
        "colab": {
          "base_uri": "https://localhost:8080/",
          "height": 394
        },
        "outputId": "adab3404-679a-4ff1-ac3e-787e6e26d7be"
      },
      "source": [
        "model = tf.keras.Sequential([\n",
        "  feature_layer,\n",
        "  layers.Dense(1024, activation='linear'),\n",
        "  layers.Dense(1024, activation='relu'),\n",
        "  layers.Dropout(.1),\n",
        "  layers.Dense(1)\n",
        "])\n",
        "\n",
        "model.compile(optimizer='adam',\n",
        "              loss=tf.keras.losses.BinaryCrossentropy(from_logits=True),\n",
        "              metrics=['accuracy'])\n",
        "\n",
        "model.fit(train_ds,\n",
        "          validation_data=val_ds,\n",
        "          epochs=10)"
      ],
      "execution_count": 11,
      "outputs": [
        {
          "output_type": "stream",
          "text": [
            "Epoch 1/10\n",
            "7/7 [==============================] - 1s 163ms/step - loss: 0.6788 - accuracy: 0.6066 - val_loss: 0.4404 - val_accuracy: 0.7736\n",
            "Epoch 2/10\n",
            "7/7 [==============================] - 0s 18ms/step - loss: 0.5032 - accuracy: 0.7204 - val_loss: 0.4798 - val_accuracy: 0.6981\n",
            "Epoch 3/10\n",
            "7/7 [==============================] - 0s 17ms/step - loss: 0.4583 - accuracy: 0.7583 - val_loss: 0.5378 - val_accuracy: 0.7925\n",
            "Epoch 4/10\n",
            "7/7 [==============================] - 0s 18ms/step - loss: 0.4613 - accuracy: 0.7441 - val_loss: 0.4916 - val_accuracy: 0.6792\n",
            "Epoch 5/10\n",
            "7/7 [==============================] - 0s 19ms/step - loss: 0.4144 - accuracy: 0.8199 - val_loss: 0.5189 - val_accuracy: 0.7547\n",
            "Epoch 6/10\n",
            "7/7 [==============================] - 0s 18ms/step - loss: 0.3819 - accuracy: 0.7867 - val_loss: 0.4907 - val_accuracy: 0.7925\n",
            "Epoch 7/10\n",
            "7/7 [==============================] - 0s 18ms/step - loss: 0.3557 - accuracy: 0.8531 - val_loss: 0.4948 - val_accuracy: 0.7925\n",
            "Epoch 8/10\n",
            "7/7 [==============================] - 0s 17ms/step - loss: 0.3071 - accuracy: 0.8341 - val_loss: 0.5409 - val_accuracy: 0.7736\n",
            "Epoch 9/10\n",
            "7/7 [==============================] - 0s 17ms/step - loss: 0.2893 - accuracy: 0.8957 - val_loss: 0.5341 - val_accuracy: 0.7358\n",
            "Epoch 10/10\n",
            "7/7 [==============================] - 0s 17ms/step - loss: 0.2475 - accuracy: 0.9005 - val_loss: 0.5446 - val_accuracy: 0.7925\n"
          ],
          "name": "stdout"
        },
        {
          "output_type": "execute_result",
          "data": {
            "text/plain": [
              "<tensorflow.python.keras.callbacks.History at 0x7f4069703588>"
            ]
          },
          "metadata": {
            "tags": []
          },
          "execution_count": 11
        }
      ]
    },
    {
      "cell_type": "code",
      "metadata": {
        "id": "ECcqb-kNvLgg",
        "colab_type": "code",
        "colab": {
          "base_uri": "https://localhost:8080/",
          "height": 51
        },
        "outputId": "01981e59-063b-4d23-8f1e-2173eafba918"
      },
      "source": [
        "loss, accuracy = model.evaluate(test_ds)\n",
        "print(\"Accuracy\", accuracy)"
      ],
      "execution_count": 12,
      "outputs": [
        {
          "output_type": "stream",
          "text": [
            "3/3 [==============================] - 0s 4ms/step - loss: 0.3850 - accuracy: 0.8209\n",
            "Accuracy 0.8208954930305481\n"
          ],
          "name": "stdout"
        }
      ]
    },
    {
      "cell_type": "code",
      "metadata": {
        "id": "hyqjCXZz6uuk",
        "colab_type": "code",
        "colab": {
          "base_uri": "https://localhost:8080/",
          "height": 323
        },
        "outputId": "8243335d-5272-4bf7-975c-dedaf6facbc1"
      },
      "source": [
        "model.summary()"
      ],
      "execution_count": 13,
      "outputs": [
        {
          "output_type": "stream",
          "text": [
            "Model: \"sequential\"\n",
            "_________________________________________________________________\n",
            "Layer (type)                 Output Shape              Param #   \n",
            "=================================================================\n",
            "dense_features (DenseFeature multiple                  0         \n",
            "_________________________________________________________________\n",
            "dense (Dense)                multiple                  98304     \n",
            "_________________________________________________________________\n",
            "dense_1 (Dense)              multiple                  1049600   \n",
            "_________________________________________________________________\n",
            "dropout (Dropout)            multiple                  0         \n",
            "_________________________________________________________________\n",
            "dense_2 (Dense)              multiple                  1025      \n",
            "=================================================================\n",
            "Total params: 1,148,929\n",
            "Trainable params: 1,148,929\n",
            "Non-trainable params: 0\n",
            "_________________________________________________________________\n"
          ],
          "name": "stdout"
        }
      ]
    }
  ]
}