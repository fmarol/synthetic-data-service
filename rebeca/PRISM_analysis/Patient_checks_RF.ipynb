{
 "cells": [
  {
   "cell_type": "code",
   "execution_count": 34,
   "metadata": {},
   "outputs": [],
   "source": [
    "import pandas as pd\n",
    "import datetime as dt\n",
    "import plotly.express as px\n",
    "import plotly as py\n",
    "import numpy as np\n",
    "\n",
    "df = pd.read_csv('../isaFull.tsv', '\\t')\n",
    "#need to do this because Pandas and numpy don't consider NaN==NaN, only None=None\n",
    "df = df.where(pd.notnull(df), None)\n",
    "df = df.dropna(subset=['Visit date [EUPATH_0000091]'])\n",
    "df['Visit date [EUPATH_0000091]'] = pd.to_datetime(df['Visit date [EUPATH_0000091]'])\n",
    "\n",
    "## Create visit week column containing date on MONDAY of the week the visit took place in: -------------\n",
    "df['Visit week'] = df['Visit date [EUPATH_0000091]'].apply(lambda d: d-dt.timedelta(days=d.weekday()))\n",
    "#print(df)\n",
    "\n",
    "## Group by participant then by visit week: -----------------------------------------------------------\n",
    "index = pd.MultiIndex.from_frame(df[['Visit week', 'Participant_Id']])\n",
    "df = df.set_index(index)\n",
    "df['counts'] = df.groupby(level=['Visit week', 'Participant_Id']).size()\n",
    "df = df.sort_index()"
   ]
  },
  {
   "cell_type": "code",
   "execution_count": 35,
   "metadata": {
    "scrolled": false
   },
   "outputs": [
    {
     "name": "stderr",
     "output_type": "stream",
     "text": [
      "/opt/anaconda3/lib/python3.7/site-packages/ipykernel_launcher.py:11: UserWarning:\n",
      "\n",
      "Boolean Series key will be reindexed to match DataFrame index.\n",
      "\n"
     ]
    },
    {
     "data": {
      "application/vnd.plotly.v1+json": {
       "config": {
        "plotlyServerURL": "https://plot.ly"
       },
       "data": [
        {
         "alignmentgroup": "True",
         "hovertemplate": "True_freq=%{x}<br>index=%{y}<extra></extra>",
         "legendgroup": "",
         "marker": {
          "color": "#636efa"
         },
         "name": "",
         "offsetgroup": "",
         "orientation": "h",
         "showlegend": false,
         "textposition": "auto",
         "type": "bar",
         "x": [
          0.8098159509202454,
          0.8016359918200409,
          0.99079754601227,
          0.9049079754601227,
          0.9008179959100204,
          0.3783231083844581,
          0.48568507157464214,
          0.9928425357873211,
          0.6779141104294478,
          0.5357873210633947,
          0.46932515337423314,
          0.9918200408997955,
          0.9222903885480572,
          0.908997955010225,
          0.8118609406952966,
          0.8087934560327198,
          0.3496932515337423,
          0.27505112474437626,
          0.7024539877300614,
          0.6820040899795501,
          0.5051124744376279,
          0.15030674846625766,
          0.9570552147239264,
          0.9969325153374233,
          0.9969325153374233,
          0.8640081799591002,
          0.8619631901840491,
          0.6809815950920245,
          0.12474437627811862,
          0.6768916155419223,
          0.8742331288343558,
          0.8742331288343558,
          0.03680981595092025,
          0.06237218813905931,
          0.99079754601227,
          0.6687116564417178,
          0.9918200408997955,
          0.9918200408997955,
          0.9989775051124744,
          0.35276073619631904,
          0.4335378323108384,
          0.0541922290388548,
          0.23721881390593047,
          0.8834355828220859,
          0.878323108384458,
          0.4948875255623722
         ],
         "xaxis": "x",
         "y": [
          "Abdominal pain [HP_0002027]",
          "Abdominal pain duration (days) [EUPATH_0000154]",
          "Admitting hospital [EUPATH_0000318]",
          "Anorexia [SYMP_0000523]",
          "Anorexia duration (days) [EUPATH_0000155]",
          "Asexual Plasmodium parasite density, by microscopy [EUPATH_0000092]",
          "Asexual Plasmodium parasites present, by microscopy [EUPATH_0000048]",
          "Basis of complicated diagnosis [EUPATH_0000316]",
          "Complicated malaria [EUPATH_0000040]",
          "Cough [SYMP_0000614]",
          "Cough duration (days) [EUPATH_0000156]",
          "Diagnosis at hospitalization [EUPATH_0000638]",
          "Diarrhea [DOID_13250]",
          "Diarrhea duration (days) [EUPATH_0000157]",
          "Fatigue [SYMP_0019177]",
          "Fatigue duration (days) [EUPATH_0000158]",
          "Febrile [EUPATH_0000097]",
          "Fever, subjective duration (days) [EUPATH_0000164]",
          "Headache [HP_0002315]",
          "Headache duration (days) [EUPATH_0000159]",
          "Height (cm) [EUPATH_0010075]",
          "Hemoglobin (g/dL) [EUPATH_0000047]",
          "ITN last night [EUPATH_0000216]",
          "Jaundice [HP_0000952]",
          "Jaundice duration (days) [EUPATH_0000160]",
          "Joint pains [SYMP_0000064]",
          "Joint pains duration (days) [EUPATH_0000161]",
          "Malaria diagnosis [EUPATH_0000090]",
          "Malaria diagnosis and parasite status [EUPATH_0000338]",
          "Malaria treatment [EUPATH_0000740]",
          "Muscle aches [EUPATH_0000252]",
          "Muscle aches duration (days) [EUPATH_0000162]",
          "Non-malaria medication [EUPATH_0000059]",
          "Other diagnosis [EUPATH_0000317]",
          "Other medical complaint [EUPATH_0020002]",
          "Plasmodium gametocytes present, by microscopy [EUPATH_0000207]",
          "Seizures [SYMP_0000124]",
          "Seizures duration (days) [EUPATH_0000163]",
          "Severe malaria criteria [EUPATH_0000046]",
          "Subjective fever [EUPATH_0000100]",
          "Submicroscopic Plasmodium present, by LAMP [EUPATH_0000487]",
          "Temperature (C) [EUPATH_0000110]",
          "Visit type [EUPATH_0000311]",
          "Vomiting [HP_0002013]",
          "Vomiting duration (days) [EUPATH_0000165]",
          "Weight (kg) [EUPATH_0000732]"
         ],
         "yaxis": "y"
        }
       ],
       "layout": {
        "barmode": "relative",
        "legend": {
         "tracegroupgap": 0
        },
        "template": {
         "data": {
          "bar": [
           {
            "error_x": {
             "color": "#2a3f5f"
            },
            "error_y": {
             "color": "#2a3f5f"
            },
            "marker": {
             "line": {
              "color": "#E5ECF6",
              "width": 0.5
             }
            },
            "type": "bar"
           }
          ],
          "barpolar": [
           {
            "marker": {
             "line": {
              "color": "#E5ECF6",
              "width": 0.5
             }
            },
            "type": "barpolar"
           }
          ],
          "carpet": [
           {
            "aaxis": {
             "endlinecolor": "#2a3f5f",
             "gridcolor": "white",
             "linecolor": "white",
             "minorgridcolor": "white",
             "startlinecolor": "#2a3f5f"
            },
            "baxis": {
             "endlinecolor": "#2a3f5f",
             "gridcolor": "white",
             "linecolor": "white",
             "minorgridcolor": "white",
             "startlinecolor": "#2a3f5f"
            },
            "type": "carpet"
           }
          ],
          "choropleth": [
           {
            "colorbar": {
             "outlinewidth": 0,
             "ticks": ""
            },
            "type": "choropleth"
           }
          ],
          "contour": [
           {
            "colorbar": {
             "outlinewidth": 0,
             "ticks": ""
            },
            "colorscale": [
             [
              0,
              "#0d0887"
             ],
             [
              0.1111111111111111,
              "#46039f"
             ],
             [
              0.2222222222222222,
              "#7201a8"
             ],
             [
              0.3333333333333333,
              "#9c179e"
             ],
             [
              0.4444444444444444,
              "#bd3786"
             ],
             [
              0.5555555555555556,
              "#d8576b"
             ],
             [
              0.6666666666666666,
              "#ed7953"
             ],
             [
              0.7777777777777778,
              "#fb9f3a"
             ],
             [
              0.8888888888888888,
              "#fdca26"
             ],
             [
              1,
              "#f0f921"
             ]
            ],
            "type": "contour"
           }
          ],
          "contourcarpet": [
           {
            "colorbar": {
             "outlinewidth": 0,
             "ticks": ""
            },
            "type": "contourcarpet"
           }
          ],
          "heatmap": [
           {
            "colorbar": {
             "outlinewidth": 0,
             "ticks": ""
            },
            "colorscale": [
             [
              0,
              "#0d0887"
             ],
             [
              0.1111111111111111,
              "#46039f"
             ],
             [
              0.2222222222222222,
              "#7201a8"
             ],
             [
              0.3333333333333333,
              "#9c179e"
             ],
             [
              0.4444444444444444,
              "#bd3786"
             ],
             [
              0.5555555555555556,
              "#d8576b"
             ],
             [
              0.6666666666666666,
              "#ed7953"
             ],
             [
              0.7777777777777778,
              "#fb9f3a"
             ],
             [
              0.8888888888888888,
              "#fdca26"
             ],
             [
              1,
              "#f0f921"
             ]
            ],
            "type": "heatmap"
           }
          ],
          "heatmapgl": [
           {
            "colorbar": {
             "outlinewidth": 0,
             "ticks": ""
            },
            "colorscale": [
             [
              0,
              "#0d0887"
             ],
             [
              0.1111111111111111,
              "#46039f"
             ],
             [
              0.2222222222222222,
              "#7201a8"
             ],
             [
              0.3333333333333333,
              "#9c179e"
             ],
             [
              0.4444444444444444,
              "#bd3786"
             ],
             [
              0.5555555555555556,
              "#d8576b"
             ],
             [
              0.6666666666666666,
              "#ed7953"
             ],
             [
              0.7777777777777778,
              "#fb9f3a"
             ],
             [
              0.8888888888888888,
              "#fdca26"
             ],
             [
              1,
              "#f0f921"
             ]
            ],
            "type": "heatmapgl"
           }
          ],
          "histogram": [
           {
            "marker": {
             "colorbar": {
              "outlinewidth": 0,
              "ticks": ""
             }
            },
            "type": "histogram"
           }
          ],
          "histogram2d": [
           {
            "colorbar": {
             "outlinewidth": 0,
             "ticks": ""
            },
            "colorscale": [
             [
              0,
              "#0d0887"
             ],
             [
              0.1111111111111111,
              "#46039f"
             ],
             [
              0.2222222222222222,
              "#7201a8"
             ],
             [
              0.3333333333333333,
              "#9c179e"
             ],
             [
              0.4444444444444444,
              "#bd3786"
             ],
             [
              0.5555555555555556,
              "#d8576b"
             ],
             [
              0.6666666666666666,
              "#ed7953"
             ],
             [
              0.7777777777777778,
              "#fb9f3a"
             ],
             [
              0.8888888888888888,
              "#fdca26"
             ],
             [
              1,
              "#f0f921"
             ]
            ],
            "type": "histogram2d"
           }
          ],
          "histogram2dcontour": [
           {
            "colorbar": {
             "outlinewidth": 0,
             "ticks": ""
            },
            "colorscale": [
             [
              0,
              "#0d0887"
             ],
             [
              0.1111111111111111,
              "#46039f"
             ],
             [
              0.2222222222222222,
              "#7201a8"
             ],
             [
              0.3333333333333333,
              "#9c179e"
             ],
             [
              0.4444444444444444,
              "#bd3786"
             ],
             [
              0.5555555555555556,
              "#d8576b"
             ],
             [
              0.6666666666666666,
              "#ed7953"
             ],
             [
              0.7777777777777778,
              "#fb9f3a"
             ],
             [
              0.8888888888888888,
              "#fdca26"
             ],
             [
              1,
              "#f0f921"
             ]
            ],
            "type": "histogram2dcontour"
           }
          ],
          "mesh3d": [
           {
            "colorbar": {
             "outlinewidth": 0,
             "ticks": ""
            },
            "type": "mesh3d"
           }
          ],
          "parcoords": [
           {
            "line": {
             "colorbar": {
              "outlinewidth": 0,
              "ticks": ""
             }
            },
            "type": "parcoords"
           }
          ],
          "pie": [
           {
            "automargin": true,
            "type": "pie"
           }
          ],
          "scatter": [
           {
            "marker": {
             "colorbar": {
              "outlinewidth": 0,
              "ticks": ""
             }
            },
            "type": "scatter"
           }
          ],
          "scatter3d": [
           {
            "line": {
             "colorbar": {
              "outlinewidth": 0,
              "ticks": ""
             }
            },
            "marker": {
             "colorbar": {
              "outlinewidth": 0,
              "ticks": ""
             }
            },
            "type": "scatter3d"
           }
          ],
          "scattercarpet": [
           {
            "marker": {
             "colorbar": {
              "outlinewidth": 0,
              "ticks": ""
             }
            },
            "type": "scattercarpet"
           }
          ],
          "scattergeo": [
           {
            "marker": {
             "colorbar": {
              "outlinewidth": 0,
              "ticks": ""
             }
            },
            "type": "scattergeo"
           }
          ],
          "scattergl": [
           {
            "marker": {
             "colorbar": {
              "outlinewidth": 0,
              "ticks": ""
             }
            },
            "type": "scattergl"
           }
          ],
          "scattermapbox": [
           {
            "marker": {
             "colorbar": {
              "outlinewidth": 0,
              "ticks": ""
             }
            },
            "type": "scattermapbox"
           }
          ],
          "scatterpolar": [
           {
            "marker": {
             "colorbar": {
              "outlinewidth": 0,
              "ticks": ""
             }
            },
            "type": "scatterpolar"
           }
          ],
          "scatterpolargl": [
           {
            "marker": {
             "colorbar": {
              "outlinewidth": 0,
              "ticks": ""
             }
            },
            "type": "scatterpolargl"
           }
          ],
          "scatterternary": [
           {
            "marker": {
             "colorbar": {
              "outlinewidth": 0,
              "ticks": ""
             }
            },
            "type": "scatterternary"
           }
          ],
          "surface": [
           {
            "colorbar": {
             "outlinewidth": 0,
             "ticks": ""
            },
            "colorscale": [
             [
              0,
              "#0d0887"
             ],
             [
              0.1111111111111111,
              "#46039f"
             ],
             [
              0.2222222222222222,
              "#7201a8"
             ],
             [
              0.3333333333333333,
              "#9c179e"
             ],
             [
              0.4444444444444444,
              "#bd3786"
             ],
             [
              0.5555555555555556,
              "#d8576b"
             ],
             [
              0.6666666666666666,
              "#ed7953"
             ],
             [
              0.7777777777777778,
              "#fb9f3a"
             ],
             [
              0.8888888888888888,
              "#fdca26"
             ],
             [
              1,
              "#f0f921"
             ]
            ],
            "type": "surface"
           }
          ],
          "table": [
           {
            "cells": {
             "fill": {
              "color": "#EBF0F8"
             },
             "line": {
              "color": "white"
             }
            },
            "header": {
             "fill": {
              "color": "#C8D4E3"
             },
             "line": {
              "color": "white"
             }
            },
            "type": "table"
           }
          ]
         },
         "layout": {
          "annotationdefaults": {
           "arrowcolor": "#2a3f5f",
           "arrowhead": 0,
           "arrowwidth": 1
          },
          "coloraxis": {
           "colorbar": {
            "outlinewidth": 0,
            "ticks": ""
           }
          },
          "colorscale": {
           "diverging": [
            [
             0,
             "#8e0152"
            ],
            [
             0.1,
             "#c51b7d"
            ],
            [
             0.2,
             "#de77ae"
            ],
            [
             0.3,
             "#f1b6da"
            ],
            [
             0.4,
             "#fde0ef"
            ],
            [
             0.5,
             "#f7f7f7"
            ],
            [
             0.6,
             "#e6f5d0"
            ],
            [
             0.7,
             "#b8e186"
            ],
            [
             0.8,
             "#7fbc41"
            ],
            [
             0.9,
             "#4d9221"
            ],
            [
             1,
             "#276419"
            ]
           ],
           "sequential": [
            [
             0,
             "#0d0887"
            ],
            [
             0.1111111111111111,
             "#46039f"
            ],
            [
             0.2222222222222222,
             "#7201a8"
            ],
            [
             0.3333333333333333,
             "#9c179e"
            ],
            [
             0.4444444444444444,
             "#bd3786"
            ],
            [
             0.5555555555555556,
             "#d8576b"
            ],
            [
             0.6666666666666666,
             "#ed7953"
            ],
            [
             0.7777777777777778,
             "#fb9f3a"
            ],
            [
             0.8888888888888888,
             "#fdca26"
            ],
            [
             1,
             "#f0f921"
            ]
           ],
           "sequentialminus": [
            [
             0,
             "#0d0887"
            ],
            [
             0.1111111111111111,
             "#46039f"
            ],
            [
             0.2222222222222222,
             "#7201a8"
            ],
            [
             0.3333333333333333,
             "#9c179e"
            ],
            [
             0.4444444444444444,
             "#bd3786"
            ],
            [
             0.5555555555555556,
             "#d8576b"
            ],
            [
             0.6666666666666666,
             "#ed7953"
            ],
            [
             0.7777777777777778,
             "#fb9f3a"
            ],
            [
             0.8888888888888888,
             "#fdca26"
            ],
            [
             1,
             "#f0f921"
            ]
           ]
          },
          "colorway": [
           "#636efa",
           "#EF553B",
           "#00cc96",
           "#ab63fa",
           "#FFA15A",
           "#19d3f3",
           "#FF6692",
           "#B6E880",
           "#FF97FF",
           "#FECB52"
          ],
          "font": {
           "color": "#2a3f5f"
          },
          "geo": {
           "bgcolor": "white",
           "lakecolor": "white",
           "landcolor": "#E5ECF6",
           "showlakes": true,
           "showland": true,
           "subunitcolor": "white"
          },
          "hoverlabel": {
           "align": "left"
          },
          "hovermode": "closest",
          "mapbox": {
           "style": "light"
          },
          "paper_bgcolor": "white",
          "plot_bgcolor": "#E5ECF6",
          "polar": {
           "angularaxis": {
            "gridcolor": "white",
            "linecolor": "white",
            "ticks": ""
           },
           "bgcolor": "#E5ECF6",
           "radialaxis": {
            "gridcolor": "white",
            "linecolor": "white",
            "ticks": ""
           }
          },
          "scene": {
           "xaxis": {
            "backgroundcolor": "#E5ECF6",
            "gridcolor": "white",
            "gridwidth": 2,
            "linecolor": "white",
            "showbackground": true,
            "ticks": "",
            "zerolinecolor": "white"
           },
           "yaxis": {
            "backgroundcolor": "#E5ECF6",
            "gridcolor": "white",
            "gridwidth": 2,
            "linecolor": "white",
            "showbackground": true,
            "ticks": "",
            "zerolinecolor": "white"
           },
           "zaxis": {
            "backgroundcolor": "#E5ECF6",
            "gridcolor": "white",
            "gridwidth": 2,
            "linecolor": "white",
            "showbackground": true,
            "ticks": "",
            "zerolinecolor": "white"
           }
          },
          "shapedefaults": {
           "line": {
            "color": "#2a3f5f"
           }
          },
          "ternary": {
           "aaxis": {
            "gridcolor": "white",
            "linecolor": "white",
            "ticks": ""
           },
           "baxis": {
            "gridcolor": "white",
            "linecolor": "white",
            "ticks": ""
           },
           "bgcolor": "#E5ECF6",
           "caxis": {
            "gridcolor": "white",
            "linecolor": "white",
            "ticks": ""
           }
          },
          "title": {
           "x": 0.05
          },
          "xaxis": {
           "automargin": true,
           "gridcolor": "white",
           "linecolor": "white",
           "ticks": "",
           "title": {
            "standoff": 15
           },
           "zerolinecolor": "white",
           "zerolinewidth": 2
          },
          "yaxis": {
           "automargin": true,
           "gridcolor": "white",
           "linecolor": "white",
           "ticks": "",
           "title": {
            "standoff": 15
           },
           "zerolinecolor": "white",
           "zerolinewidth": 2
          }
         }
        },
        "title": {
         "text": "Frequency of equal values on both visits in a week"
        },
        "xaxis": {
         "anchor": "y",
         "domain": [
          0,
          1
         ],
         "title": {
          "text": "True_freq"
         }
        },
        "yaxis": {
         "anchor": "x",
         "domain": [
          0,
          1
         ],
         "title": {
          "text": "index"
         }
        }
       }
      },
      "text/html": [
       "<div>\n",
       "        \n",
       "        \n",
       "            <div id=\"0501ebf9-ac3d-4c79-ad6a-c769ac91180a\" class=\"plotly-graph-div\" style=\"height:525px; width:100%;\"></div>\n",
       "            <script type=\"text/javascript\">\n",
       "                require([\"plotly\"], function(Plotly) {\n",
       "                    window.PLOTLYENV=window.PLOTLYENV || {};\n",
       "                    \n",
       "                if (document.getElementById(\"0501ebf9-ac3d-4c79-ad6a-c769ac91180a\")) {\n",
       "                    Plotly.newPlot(\n",
       "                        '0501ebf9-ac3d-4c79-ad6a-c769ac91180a',\n",
       "                        [{\"alignmentgroup\": \"True\", \"hovertemplate\": \"True_freq=%{x}<br>index=%{y}<extra></extra>\", \"legendgroup\": \"\", \"marker\": {\"color\": \"#636efa\"}, \"name\": \"\", \"offsetgroup\": \"\", \"orientation\": \"h\", \"showlegend\": false, \"textposition\": \"auto\", \"type\": \"bar\", \"x\": [0.8098159509202454, 0.8016359918200409, 0.99079754601227, 0.9049079754601227, 0.9008179959100204, 0.3783231083844581, 0.48568507157464214, 0.9928425357873211, 0.6779141104294478, 0.5357873210633947, 0.46932515337423314, 0.9918200408997955, 0.9222903885480572, 0.908997955010225, 0.8118609406952966, 0.8087934560327198, 0.3496932515337423, 0.27505112474437626, 0.7024539877300614, 0.6820040899795501, 0.5051124744376279, 0.15030674846625766, 0.9570552147239264, 0.9969325153374233, 0.9969325153374233, 0.8640081799591002, 0.8619631901840491, 0.6809815950920245, 0.12474437627811862, 0.6768916155419223, 0.8742331288343558, 0.8742331288343558, 0.03680981595092025, 0.06237218813905931, 0.99079754601227, 0.6687116564417178, 0.9918200408997955, 0.9918200408997955, 0.9989775051124744, 0.35276073619631904, 0.4335378323108384, 0.0541922290388548, 0.23721881390593047, 0.8834355828220859, 0.878323108384458, 0.4948875255623722], \"xaxis\": \"x\", \"y\": [\"Abdominal pain [HP_0002027]\", \"Abdominal pain duration (days) [EUPATH_0000154]\", \"Admitting hospital [EUPATH_0000318]\", \"Anorexia [SYMP_0000523]\", \"Anorexia duration (days) [EUPATH_0000155]\", \"Asexual Plasmodium parasite density, by microscopy [EUPATH_0000092]\", \"Asexual Plasmodium parasites present, by microscopy [EUPATH_0000048]\", \"Basis of complicated diagnosis [EUPATH_0000316]\", \"Complicated malaria [EUPATH_0000040]\", \"Cough [SYMP_0000614]\", \"Cough duration (days) [EUPATH_0000156]\", \"Diagnosis at hospitalization [EUPATH_0000638]\", \"Diarrhea [DOID_13250]\", \"Diarrhea duration (days) [EUPATH_0000157]\", \"Fatigue [SYMP_0019177]\", \"Fatigue duration (days) [EUPATH_0000158]\", \"Febrile [EUPATH_0000097]\", \"Fever, subjective duration (days) [EUPATH_0000164]\", \"Headache [HP_0002315]\", \"Headache duration (days) [EUPATH_0000159]\", \"Height (cm) [EUPATH_0010075]\", \"Hemoglobin (g/dL) [EUPATH_0000047]\", \"ITN last night [EUPATH_0000216]\", \"Jaundice [HP_0000952]\", \"Jaundice duration (days) [EUPATH_0000160]\", \"Joint pains [SYMP_0000064]\", \"Joint pains duration (days) [EUPATH_0000161]\", \"Malaria diagnosis [EUPATH_0000090]\", \"Malaria diagnosis and parasite status [EUPATH_0000338]\", \"Malaria treatment [EUPATH_0000740]\", \"Muscle aches [EUPATH_0000252]\", \"Muscle aches duration (days) [EUPATH_0000162]\", \"Non-malaria medication [EUPATH_0000059]\", \"Other diagnosis [EUPATH_0000317]\", \"Other medical complaint [EUPATH_0020002]\", \"Plasmodium gametocytes present, by microscopy [EUPATH_0000207]\", \"Seizures [SYMP_0000124]\", \"Seizures duration (days) [EUPATH_0000163]\", \"Severe malaria criteria [EUPATH_0000046]\", \"Subjective fever [EUPATH_0000100]\", \"Submicroscopic Plasmodium present, by LAMP [EUPATH_0000487]\", \"Temperature (C) [EUPATH_0000110]\", \"Visit type [EUPATH_0000311]\", \"Vomiting [HP_0002013]\", \"Vomiting duration (days) [EUPATH_0000165]\", \"Weight (kg) [EUPATH_0000732]\"], \"yaxis\": \"y\"}],\n",
       "                        {\"barmode\": \"relative\", \"legend\": {\"tracegroupgap\": 0}, \"template\": {\"data\": {\"bar\": [{\"error_x\": {\"color\": \"#2a3f5f\"}, \"error_y\": {\"color\": \"#2a3f5f\"}, \"marker\": {\"line\": {\"color\": \"#E5ECF6\", \"width\": 0.5}}, \"type\": \"bar\"}], \"barpolar\": [{\"marker\": {\"line\": {\"color\": \"#E5ECF6\", \"width\": 0.5}}, \"type\": \"barpolar\"}], \"carpet\": [{\"aaxis\": {\"endlinecolor\": \"#2a3f5f\", \"gridcolor\": \"white\", \"linecolor\": \"white\", \"minorgridcolor\": \"white\", \"startlinecolor\": \"#2a3f5f\"}, \"baxis\": {\"endlinecolor\": \"#2a3f5f\", \"gridcolor\": \"white\", \"linecolor\": \"white\", \"minorgridcolor\": \"white\", \"startlinecolor\": \"#2a3f5f\"}, \"type\": \"carpet\"}], \"choropleth\": [{\"colorbar\": {\"outlinewidth\": 0, \"ticks\": \"\"}, \"type\": \"choropleth\"}], \"contour\": [{\"colorbar\": {\"outlinewidth\": 0, \"ticks\": \"\"}, \"colorscale\": [[0.0, \"#0d0887\"], [0.1111111111111111, \"#46039f\"], [0.2222222222222222, \"#7201a8\"], [0.3333333333333333, \"#9c179e\"], [0.4444444444444444, \"#bd3786\"], [0.5555555555555556, \"#d8576b\"], [0.6666666666666666, \"#ed7953\"], [0.7777777777777778, \"#fb9f3a\"], [0.8888888888888888, \"#fdca26\"], [1.0, \"#f0f921\"]], \"type\": \"contour\"}], \"contourcarpet\": [{\"colorbar\": {\"outlinewidth\": 0, \"ticks\": \"\"}, \"type\": \"contourcarpet\"}], \"heatmap\": [{\"colorbar\": {\"outlinewidth\": 0, \"ticks\": \"\"}, \"colorscale\": [[0.0, \"#0d0887\"], [0.1111111111111111, \"#46039f\"], [0.2222222222222222, \"#7201a8\"], [0.3333333333333333, \"#9c179e\"], [0.4444444444444444, \"#bd3786\"], [0.5555555555555556, \"#d8576b\"], [0.6666666666666666, \"#ed7953\"], [0.7777777777777778, \"#fb9f3a\"], [0.8888888888888888, \"#fdca26\"], [1.0, \"#f0f921\"]], \"type\": \"heatmap\"}], \"heatmapgl\": [{\"colorbar\": {\"outlinewidth\": 0, \"ticks\": \"\"}, \"colorscale\": [[0.0, \"#0d0887\"], [0.1111111111111111, \"#46039f\"], [0.2222222222222222, \"#7201a8\"], [0.3333333333333333, \"#9c179e\"], [0.4444444444444444, \"#bd3786\"], [0.5555555555555556, \"#d8576b\"], [0.6666666666666666, \"#ed7953\"], [0.7777777777777778, \"#fb9f3a\"], [0.8888888888888888, \"#fdca26\"], [1.0, \"#f0f921\"]], \"type\": \"heatmapgl\"}], \"histogram\": [{\"marker\": {\"colorbar\": {\"outlinewidth\": 0, \"ticks\": \"\"}}, \"type\": \"histogram\"}], \"histogram2d\": [{\"colorbar\": {\"outlinewidth\": 0, \"ticks\": \"\"}, \"colorscale\": [[0.0, \"#0d0887\"], [0.1111111111111111, \"#46039f\"], [0.2222222222222222, \"#7201a8\"], [0.3333333333333333, \"#9c179e\"], [0.4444444444444444, \"#bd3786\"], [0.5555555555555556, \"#d8576b\"], [0.6666666666666666, \"#ed7953\"], [0.7777777777777778, \"#fb9f3a\"], [0.8888888888888888, \"#fdca26\"], [1.0, \"#f0f921\"]], \"type\": \"histogram2d\"}], \"histogram2dcontour\": [{\"colorbar\": {\"outlinewidth\": 0, \"ticks\": \"\"}, \"colorscale\": [[0.0, \"#0d0887\"], [0.1111111111111111, \"#46039f\"], [0.2222222222222222, \"#7201a8\"], [0.3333333333333333, \"#9c179e\"], [0.4444444444444444, \"#bd3786\"], [0.5555555555555556, \"#d8576b\"], [0.6666666666666666, \"#ed7953\"], [0.7777777777777778, \"#fb9f3a\"], [0.8888888888888888, \"#fdca26\"], [1.0, \"#f0f921\"]], \"type\": \"histogram2dcontour\"}], \"mesh3d\": [{\"colorbar\": {\"outlinewidth\": 0, \"ticks\": \"\"}, \"type\": \"mesh3d\"}], \"parcoords\": [{\"line\": {\"colorbar\": {\"outlinewidth\": 0, \"ticks\": \"\"}}, \"type\": \"parcoords\"}], \"pie\": [{\"automargin\": true, \"type\": \"pie\"}], \"scatter\": [{\"marker\": {\"colorbar\": {\"outlinewidth\": 0, \"ticks\": \"\"}}, \"type\": \"scatter\"}], \"scatter3d\": [{\"line\": {\"colorbar\": {\"outlinewidth\": 0, \"ticks\": \"\"}}, \"marker\": {\"colorbar\": {\"outlinewidth\": 0, \"ticks\": \"\"}}, \"type\": \"scatter3d\"}], \"scattercarpet\": [{\"marker\": {\"colorbar\": {\"outlinewidth\": 0, \"ticks\": \"\"}}, \"type\": \"scattercarpet\"}], \"scattergeo\": [{\"marker\": {\"colorbar\": {\"outlinewidth\": 0, \"ticks\": \"\"}}, \"type\": \"scattergeo\"}], \"scattergl\": [{\"marker\": {\"colorbar\": {\"outlinewidth\": 0, \"ticks\": \"\"}}, \"type\": \"scattergl\"}], \"scattermapbox\": [{\"marker\": {\"colorbar\": {\"outlinewidth\": 0, \"ticks\": \"\"}}, \"type\": \"scattermapbox\"}], \"scatterpolar\": [{\"marker\": {\"colorbar\": {\"outlinewidth\": 0, \"ticks\": \"\"}}, \"type\": \"scatterpolar\"}], \"scatterpolargl\": [{\"marker\": {\"colorbar\": {\"outlinewidth\": 0, \"ticks\": \"\"}}, \"type\": \"scatterpolargl\"}], \"scatterternary\": [{\"marker\": {\"colorbar\": {\"outlinewidth\": 0, \"ticks\": \"\"}}, \"type\": \"scatterternary\"}], \"surface\": [{\"colorbar\": {\"outlinewidth\": 0, \"ticks\": \"\"}, \"colorscale\": [[0.0, \"#0d0887\"], [0.1111111111111111, \"#46039f\"], [0.2222222222222222, \"#7201a8\"], [0.3333333333333333, \"#9c179e\"], [0.4444444444444444, \"#bd3786\"], [0.5555555555555556, \"#d8576b\"], [0.6666666666666666, \"#ed7953\"], [0.7777777777777778, \"#fb9f3a\"], [0.8888888888888888, \"#fdca26\"], [1.0, \"#f0f921\"]], \"type\": \"surface\"}], \"table\": [{\"cells\": {\"fill\": {\"color\": \"#EBF0F8\"}, \"line\": {\"color\": \"white\"}}, \"header\": {\"fill\": {\"color\": \"#C8D4E3\"}, \"line\": {\"color\": \"white\"}}, \"type\": \"table\"}]}, \"layout\": {\"annotationdefaults\": {\"arrowcolor\": \"#2a3f5f\", \"arrowhead\": 0, \"arrowwidth\": 1}, \"coloraxis\": {\"colorbar\": {\"outlinewidth\": 0, \"ticks\": \"\"}}, \"colorscale\": {\"diverging\": [[0, \"#8e0152\"], [0.1, \"#c51b7d\"], [0.2, \"#de77ae\"], [0.3, \"#f1b6da\"], [0.4, \"#fde0ef\"], [0.5, \"#f7f7f7\"], [0.6, \"#e6f5d0\"], [0.7, \"#b8e186\"], [0.8, \"#7fbc41\"], [0.9, \"#4d9221\"], [1, \"#276419\"]], \"sequential\": [[0.0, \"#0d0887\"], [0.1111111111111111, \"#46039f\"], [0.2222222222222222, \"#7201a8\"], [0.3333333333333333, \"#9c179e\"], [0.4444444444444444, \"#bd3786\"], [0.5555555555555556, \"#d8576b\"], [0.6666666666666666, \"#ed7953\"], [0.7777777777777778, \"#fb9f3a\"], [0.8888888888888888, \"#fdca26\"], [1.0, \"#f0f921\"]], \"sequentialminus\": [[0.0, \"#0d0887\"], [0.1111111111111111, \"#46039f\"], [0.2222222222222222, \"#7201a8\"], [0.3333333333333333, \"#9c179e\"], [0.4444444444444444, \"#bd3786\"], [0.5555555555555556, \"#d8576b\"], [0.6666666666666666, \"#ed7953\"], [0.7777777777777778, \"#fb9f3a\"], [0.8888888888888888, \"#fdca26\"], [1.0, \"#f0f921\"]]}, \"colorway\": [\"#636efa\", \"#EF553B\", \"#00cc96\", \"#ab63fa\", \"#FFA15A\", \"#19d3f3\", \"#FF6692\", \"#B6E880\", \"#FF97FF\", \"#FECB52\"], \"font\": {\"color\": \"#2a3f5f\"}, \"geo\": {\"bgcolor\": \"white\", \"lakecolor\": \"white\", \"landcolor\": \"#E5ECF6\", \"showlakes\": true, \"showland\": true, \"subunitcolor\": \"white\"}, \"hoverlabel\": {\"align\": \"left\"}, \"hovermode\": \"closest\", \"mapbox\": {\"style\": \"light\"}, \"paper_bgcolor\": \"white\", \"plot_bgcolor\": \"#E5ECF6\", \"polar\": {\"angularaxis\": {\"gridcolor\": \"white\", \"linecolor\": \"white\", \"ticks\": \"\"}, \"bgcolor\": \"#E5ECF6\", \"radialaxis\": {\"gridcolor\": \"white\", \"linecolor\": \"white\", \"ticks\": \"\"}}, \"scene\": {\"xaxis\": {\"backgroundcolor\": \"#E5ECF6\", \"gridcolor\": \"white\", \"gridwidth\": 2, \"linecolor\": \"white\", \"showbackground\": true, \"ticks\": \"\", \"zerolinecolor\": \"white\"}, \"yaxis\": {\"backgroundcolor\": \"#E5ECF6\", \"gridcolor\": \"white\", \"gridwidth\": 2, \"linecolor\": \"white\", \"showbackground\": true, \"ticks\": \"\", \"zerolinecolor\": \"white\"}, \"zaxis\": {\"backgroundcolor\": \"#E5ECF6\", \"gridcolor\": \"white\", \"gridwidth\": 2, \"linecolor\": \"white\", \"showbackground\": true, \"ticks\": \"\", \"zerolinecolor\": \"white\"}}, \"shapedefaults\": {\"line\": {\"color\": \"#2a3f5f\"}}, \"ternary\": {\"aaxis\": {\"gridcolor\": \"white\", \"linecolor\": \"white\", \"ticks\": \"\"}, \"baxis\": {\"gridcolor\": \"white\", \"linecolor\": \"white\", \"ticks\": \"\"}, \"bgcolor\": \"#E5ECF6\", \"caxis\": {\"gridcolor\": \"white\", \"linecolor\": \"white\", \"ticks\": \"\"}}, \"title\": {\"x\": 0.05}, \"xaxis\": {\"automargin\": true, \"gridcolor\": \"white\", \"linecolor\": \"white\", \"ticks\": \"\", \"title\": {\"standoff\": 15}, \"zerolinecolor\": \"white\", \"zerolinewidth\": 2}, \"yaxis\": {\"automargin\": true, \"gridcolor\": \"white\", \"linecolor\": \"white\", \"ticks\": \"\", \"title\": {\"standoff\": 15}, \"zerolinecolor\": \"white\", \"zerolinewidth\": 2}}}, \"title\": {\"text\": \"Frequency of equal values on both visits in a week\"}, \"xaxis\": {\"anchor\": \"y\", \"domain\": [0.0, 1.0], \"title\": {\"text\": \"True_freq\"}}, \"yaxis\": {\"anchor\": \"x\", \"domain\": [0.0, 1.0], \"title\": {\"text\": \"index\"}}},\n",
       "                        {\"responsive\": true}\n",
       "                    ).then(function(){\n",
       "                            \n",
       "var gd = document.getElementById('0501ebf9-ac3d-4c79-ad6a-c769ac91180a');\n",
       "var x = new MutationObserver(function (mutations, observer) {{\n",
       "        var display = window.getComputedStyle(gd).display;\n",
       "        if (!display || display === 'none') {{\n",
       "            console.log([gd, 'removed!']);\n",
       "            Plotly.purge(gd);\n",
       "            observer.disconnect();\n",
       "        }}\n",
       "}});\n",
       "\n",
       "// Listen for the removal of the full notebook cells\n",
       "var notebookContainer = gd.closest('#notebook-container');\n",
       "if (notebookContainer) {{\n",
       "    x.observe(notebookContainer, {childList: true});\n",
       "}}\n",
       "\n",
       "// Listen for the clearing of the current output cell\n",
       "var outputEl = gd.closest('.output');\n",
       "if (outputEl) {{\n",
       "    x.observe(outputEl, {childList: true});\n",
       "}}\n",
       "\n",
       "                        })\n",
       "                };\n",
       "                });\n",
       "            </script>\n",
       "        </div>"
      ]
     },
     "metadata": {},
     "output_type": "display_data"
    },
    {
     "data": {
      "text/plain": [
       "'dataframe_true_false_counts_2weeks_figure.html'"
      ]
     },
     "execution_count": 35,
     "metadata": {},
     "output_type": "execute_result"
    }
   ],
   "source": [
    "##2 visits in a week\n",
    "df_2 = df[df['counts']==2]\n",
    "df_2.index = range(len(df_2))\n",
    "\n",
    "\n",
    "##True or False if the values in both visits are the same or not\n",
    "##gives double the amount of weeks because each visit will be [0] and [1]. But for the % its irrelevant\n",
    "other_array = []\n",
    "for index, row in df_2.iterrows():\n",
    "    data = df_2[ df_2['Visit week']==row['Visit week'] ]\\\n",
    "                [ df_2['Participant_Id']==row['Participant_Id'] ].reset_index(drop=True)\n",
    "    array = []\n",
    "    for column in df_2.columns:\n",
    "        array.append(data.iloc[0][column] == data.iloc[1][column])\n",
    "    other_array.append(array)\n",
    "    \n",
    "dataframe_true_false = pd.DataFrame(other_array, columns=df_2.columns)\n",
    "\n",
    "##frequency Table for True False in all columns\n",
    "dataframe_true_false_counts=dataframe_true_false.apply(pd.value_counts)\n",
    "dataframe_true_false_counts=dataframe_true_false_counts.fillna(0)\n",
    "dataframe_true_false_counts=dataframe_true_false_counts.T\n",
    "#i dont understand why but I can only call the columns if I rename them...\n",
    "dataframe_true_false_counts.columns=['False','True']\n",
    "dataframe_true_false_counts['True_freq']=(dataframe_true_false_counts['True']/len(df_2))\n",
    "dataframe_true_false_counts['False_freq']=(dataframe_true_false_counts['False']/len(df_2))\n",
    "\n",
    "##bar chart\n",
    "df_figure=dataframe_true_false_counts.drop(['counts','Participant_Id','Observation_Id','Visit week','Visit date [EUPATH_0000091]','Hospital admission date [EUPATH_0000319]','Hospital discharge date [EUPATH_0000320]','Days since enrollment [EUPATH_0000191]','Age at visit (years) [EUPATH_0000113]','Household_Id'])\n",
    "dataframe_true_false_counts_figure = px.bar(df_figure,\n",
    "            y=df_figure.index,\n",
    "            x=\"True_freq\",\n",
    "            orientation='h',\n",
    "            title=\"Frequency of equal values on both visits in a week\")\n",
    "dataframe_true_false_counts_figure.show()\n",
    "#dataframe_true_false_counts_figure.write_html(\"Documents/HDI/synthetic-data-service/rebeca.html\")\n",
    "#dataframe_true_false_counts_figure.write_image(\"dataframe_true_false_counts_figure.pdf\")\n",
    "py.offline.plot(dataframe_true_false_counts_figure, filename='dataframe_true_false_counts_2weeks_figure.html')"
   ]
  },
  {
   "cell_type": "code",
   "execution_count": 36,
   "metadata": {},
   "outputs": [
    {
     "name": "stderr",
     "output_type": "stream",
     "text": [
      "/opt/anaconda3/lib/python3.7/site-packages/ipykernel_launcher.py:11: UserWarning:\n",
      "\n",
      "Boolean Series key will be reindexed to match DataFrame index.\n",
      "\n"
     ]
    },
    {
     "data": {
      "application/vnd.plotly.v1+json": {
       "config": {
        "plotlyServerURL": "https://plot.ly"
       },
       "data": [
        {
         "alignmentgroup": "True",
         "hovertemplate": "True_freq=%{x}<br>index=%{y}<extra></extra>",
         "legendgroup": "",
         "marker": {
          "color": "#636efa"
         },
         "name": "",
         "offsetgroup": "",
         "orientation": "h",
         "showlegend": false,
         "textposition": "auto",
         "type": "bar",
         "x": [
          0.4,
          0.4,
          1,
          0.6,
          0.6,
          0.2,
          0.2,
          1,
          0.6,
          0.6,
          0.2,
          1,
          0.8,
          0.8,
          0.4,
          0.4,
          0.6,
          0.4,
          0.4,
          0.4,
          0.4,
          0.2,
          1,
          1,
          1,
          0.6,
          0.6,
          0.6,
          0.2,
          0.6,
          0.4,
          0.4,
          0,
          0.2,
          1,
          0.6,
          0.8,
          0.8,
          1,
          0.6,
          0.6,
          0,
          0.2,
          0.4,
          0.4,
          0.2
         ],
         "xaxis": "x",
         "y": [
          "Abdominal pain [HP_0002027]",
          "Abdominal pain duration (days) [EUPATH_0000154]",
          "Admitting hospital [EUPATH_0000318]",
          "Anorexia [SYMP_0000523]",
          "Anorexia duration (days) [EUPATH_0000155]",
          "Asexual Plasmodium parasite density, by microscopy [EUPATH_0000092]",
          "Asexual Plasmodium parasites present, by microscopy [EUPATH_0000048]",
          "Basis of complicated diagnosis [EUPATH_0000316]",
          "Complicated malaria [EUPATH_0000040]",
          "Cough [SYMP_0000614]",
          "Cough duration (days) [EUPATH_0000156]",
          "Diagnosis at hospitalization [EUPATH_0000638]",
          "Diarrhea [DOID_13250]",
          "Diarrhea duration (days) [EUPATH_0000157]",
          "Fatigue [SYMP_0019177]",
          "Fatigue duration (days) [EUPATH_0000158]",
          "Febrile [EUPATH_0000097]",
          "Fever, subjective duration (days) [EUPATH_0000164]",
          "Headache [HP_0002315]",
          "Headache duration (days) [EUPATH_0000159]",
          "Height (cm) [EUPATH_0010075]",
          "Hemoglobin (g/dL) [EUPATH_0000047]",
          "ITN last night [EUPATH_0000216]",
          "Jaundice [HP_0000952]",
          "Jaundice duration (days) [EUPATH_0000160]",
          "Joint pains [SYMP_0000064]",
          "Joint pains duration (days) [EUPATH_0000161]",
          "Malaria diagnosis [EUPATH_0000090]",
          "Malaria diagnosis and parasite status [EUPATH_0000338]",
          "Malaria treatment [EUPATH_0000740]",
          "Muscle aches [EUPATH_0000252]",
          "Muscle aches duration (days) [EUPATH_0000162]",
          "Non-malaria medication [EUPATH_0000059]",
          "Other diagnosis [EUPATH_0000317]",
          "Other medical complaint [EUPATH_0020002]",
          "Plasmodium gametocytes present, by microscopy [EUPATH_0000207]",
          "Seizures [SYMP_0000124]",
          "Seizures duration (days) [EUPATH_0000163]",
          "Severe malaria criteria [EUPATH_0000046]",
          "Subjective fever [EUPATH_0000100]",
          "Submicroscopic Plasmodium present, by LAMP [EUPATH_0000487]",
          "Temperature (C) [EUPATH_0000110]",
          "Visit type [EUPATH_0000311]",
          "Vomiting [HP_0002013]",
          "Vomiting duration (days) [EUPATH_0000165]",
          "Weight (kg) [EUPATH_0000732]"
         ],
         "yaxis": "y"
        }
       ],
       "layout": {
        "barmode": "relative",
        "legend": {
         "tracegroupgap": 0
        },
        "template": {
         "data": {
          "bar": [
           {
            "error_x": {
             "color": "#2a3f5f"
            },
            "error_y": {
             "color": "#2a3f5f"
            },
            "marker": {
             "line": {
              "color": "#E5ECF6",
              "width": 0.5
             }
            },
            "type": "bar"
           }
          ],
          "barpolar": [
           {
            "marker": {
             "line": {
              "color": "#E5ECF6",
              "width": 0.5
             }
            },
            "type": "barpolar"
           }
          ],
          "carpet": [
           {
            "aaxis": {
             "endlinecolor": "#2a3f5f",
             "gridcolor": "white",
             "linecolor": "white",
             "minorgridcolor": "white",
             "startlinecolor": "#2a3f5f"
            },
            "baxis": {
             "endlinecolor": "#2a3f5f",
             "gridcolor": "white",
             "linecolor": "white",
             "minorgridcolor": "white",
             "startlinecolor": "#2a3f5f"
            },
            "type": "carpet"
           }
          ],
          "choropleth": [
           {
            "colorbar": {
             "outlinewidth": 0,
             "ticks": ""
            },
            "type": "choropleth"
           }
          ],
          "contour": [
           {
            "colorbar": {
             "outlinewidth": 0,
             "ticks": ""
            },
            "colorscale": [
             [
              0,
              "#0d0887"
             ],
             [
              0.1111111111111111,
              "#46039f"
             ],
             [
              0.2222222222222222,
              "#7201a8"
             ],
             [
              0.3333333333333333,
              "#9c179e"
             ],
             [
              0.4444444444444444,
              "#bd3786"
             ],
             [
              0.5555555555555556,
              "#d8576b"
             ],
             [
              0.6666666666666666,
              "#ed7953"
             ],
             [
              0.7777777777777778,
              "#fb9f3a"
             ],
             [
              0.8888888888888888,
              "#fdca26"
             ],
             [
              1,
              "#f0f921"
             ]
            ],
            "type": "contour"
           }
          ],
          "contourcarpet": [
           {
            "colorbar": {
             "outlinewidth": 0,
             "ticks": ""
            },
            "type": "contourcarpet"
           }
          ],
          "heatmap": [
           {
            "colorbar": {
             "outlinewidth": 0,
             "ticks": ""
            },
            "colorscale": [
             [
              0,
              "#0d0887"
             ],
             [
              0.1111111111111111,
              "#46039f"
             ],
             [
              0.2222222222222222,
              "#7201a8"
             ],
             [
              0.3333333333333333,
              "#9c179e"
             ],
             [
              0.4444444444444444,
              "#bd3786"
             ],
             [
              0.5555555555555556,
              "#d8576b"
             ],
             [
              0.6666666666666666,
              "#ed7953"
             ],
             [
              0.7777777777777778,
              "#fb9f3a"
             ],
             [
              0.8888888888888888,
              "#fdca26"
             ],
             [
              1,
              "#f0f921"
             ]
            ],
            "type": "heatmap"
           }
          ],
          "heatmapgl": [
           {
            "colorbar": {
             "outlinewidth": 0,
             "ticks": ""
            },
            "colorscale": [
             [
              0,
              "#0d0887"
             ],
             [
              0.1111111111111111,
              "#46039f"
             ],
             [
              0.2222222222222222,
              "#7201a8"
             ],
             [
              0.3333333333333333,
              "#9c179e"
             ],
             [
              0.4444444444444444,
              "#bd3786"
             ],
             [
              0.5555555555555556,
              "#d8576b"
             ],
             [
              0.6666666666666666,
              "#ed7953"
             ],
             [
              0.7777777777777778,
              "#fb9f3a"
             ],
             [
              0.8888888888888888,
              "#fdca26"
             ],
             [
              1,
              "#f0f921"
             ]
            ],
            "type": "heatmapgl"
           }
          ],
          "histogram": [
           {
            "marker": {
             "colorbar": {
              "outlinewidth": 0,
              "ticks": ""
             }
            },
            "type": "histogram"
           }
          ],
          "histogram2d": [
           {
            "colorbar": {
             "outlinewidth": 0,
             "ticks": ""
            },
            "colorscale": [
             [
              0,
              "#0d0887"
             ],
             [
              0.1111111111111111,
              "#46039f"
             ],
             [
              0.2222222222222222,
              "#7201a8"
             ],
             [
              0.3333333333333333,
              "#9c179e"
             ],
             [
              0.4444444444444444,
              "#bd3786"
             ],
             [
              0.5555555555555556,
              "#d8576b"
             ],
             [
              0.6666666666666666,
              "#ed7953"
             ],
             [
              0.7777777777777778,
              "#fb9f3a"
             ],
             [
              0.8888888888888888,
              "#fdca26"
             ],
             [
              1,
              "#f0f921"
             ]
            ],
            "type": "histogram2d"
           }
          ],
          "histogram2dcontour": [
           {
            "colorbar": {
             "outlinewidth": 0,
             "ticks": ""
            },
            "colorscale": [
             [
              0,
              "#0d0887"
             ],
             [
              0.1111111111111111,
              "#46039f"
             ],
             [
              0.2222222222222222,
              "#7201a8"
             ],
             [
              0.3333333333333333,
              "#9c179e"
             ],
             [
              0.4444444444444444,
              "#bd3786"
             ],
             [
              0.5555555555555556,
              "#d8576b"
             ],
             [
              0.6666666666666666,
              "#ed7953"
             ],
             [
              0.7777777777777778,
              "#fb9f3a"
             ],
             [
              0.8888888888888888,
              "#fdca26"
             ],
             [
              1,
              "#f0f921"
             ]
            ],
            "type": "histogram2dcontour"
           }
          ],
          "mesh3d": [
           {
            "colorbar": {
             "outlinewidth": 0,
             "ticks": ""
            },
            "type": "mesh3d"
           }
          ],
          "parcoords": [
           {
            "line": {
             "colorbar": {
              "outlinewidth": 0,
              "ticks": ""
             }
            },
            "type": "parcoords"
           }
          ],
          "pie": [
           {
            "automargin": true,
            "type": "pie"
           }
          ],
          "scatter": [
           {
            "marker": {
             "colorbar": {
              "outlinewidth": 0,
              "ticks": ""
             }
            },
            "type": "scatter"
           }
          ],
          "scatter3d": [
           {
            "line": {
             "colorbar": {
              "outlinewidth": 0,
              "ticks": ""
             }
            },
            "marker": {
             "colorbar": {
              "outlinewidth": 0,
              "ticks": ""
             }
            },
            "type": "scatter3d"
           }
          ],
          "scattercarpet": [
           {
            "marker": {
             "colorbar": {
              "outlinewidth": 0,
              "ticks": ""
             }
            },
            "type": "scattercarpet"
           }
          ],
          "scattergeo": [
           {
            "marker": {
             "colorbar": {
              "outlinewidth": 0,
              "ticks": ""
             }
            },
            "type": "scattergeo"
           }
          ],
          "scattergl": [
           {
            "marker": {
             "colorbar": {
              "outlinewidth": 0,
              "ticks": ""
             }
            },
            "type": "scattergl"
           }
          ],
          "scattermapbox": [
           {
            "marker": {
             "colorbar": {
              "outlinewidth": 0,
              "ticks": ""
             }
            },
            "type": "scattermapbox"
           }
          ],
          "scatterpolar": [
           {
            "marker": {
             "colorbar": {
              "outlinewidth": 0,
              "ticks": ""
             }
            },
            "type": "scatterpolar"
           }
          ],
          "scatterpolargl": [
           {
            "marker": {
             "colorbar": {
              "outlinewidth": 0,
              "ticks": ""
             }
            },
            "type": "scatterpolargl"
           }
          ],
          "scatterternary": [
           {
            "marker": {
             "colorbar": {
              "outlinewidth": 0,
              "ticks": ""
             }
            },
            "type": "scatterternary"
           }
          ],
          "surface": [
           {
            "colorbar": {
             "outlinewidth": 0,
             "ticks": ""
            },
            "colorscale": [
             [
              0,
              "#0d0887"
             ],
             [
              0.1111111111111111,
              "#46039f"
             ],
             [
              0.2222222222222222,
              "#7201a8"
             ],
             [
              0.3333333333333333,
              "#9c179e"
             ],
             [
              0.4444444444444444,
              "#bd3786"
             ],
             [
              0.5555555555555556,
              "#d8576b"
             ],
             [
              0.6666666666666666,
              "#ed7953"
             ],
             [
              0.7777777777777778,
              "#fb9f3a"
             ],
             [
              0.8888888888888888,
              "#fdca26"
             ],
             [
              1,
              "#f0f921"
             ]
            ],
            "type": "surface"
           }
          ],
          "table": [
           {
            "cells": {
             "fill": {
              "color": "#EBF0F8"
             },
             "line": {
              "color": "white"
             }
            },
            "header": {
             "fill": {
              "color": "#C8D4E3"
             },
             "line": {
              "color": "white"
             }
            },
            "type": "table"
           }
          ]
         },
         "layout": {
          "annotationdefaults": {
           "arrowcolor": "#2a3f5f",
           "arrowhead": 0,
           "arrowwidth": 1
          },
          "coloraxis": {
           "colorbar": {
            "outlinewidth": 0,
            "ticks": ""
           }
          },
          "colorscale": {
           "diverging": [
            [
             0,
             "#8e0152"
            ],
            [
             0.1,
             "#c51b7d"
            ],
            [
             0.2,
             "#de77ae"
            ],
            [
             0.3,
             "#f1b6da"
            ],
            [
             0.4,
             "#fde0ef"
            ],
            [
             0.5,
             "#f7f7f7"
            ],
            [
             0.6,
             "#e6f5d0"
            ],
            [
             0.7,
             "#b8e186"
            ],
            [
             0.8,
             "#7fbc41"
            ],
            [
             0.9,
             "#4d9221"
            ],
            [
             1,
             "#276419"
            ]
           ],
           "sequential": [
            [
             0,
             "#0d0887"
            ],
            [
             0.1111111111111111,
             "#46039f"
            ],
            [
             0.2222222222222222,
             "#7201a8"
            ],
            [
             0.3333333333333333,
             "#9c179e"
            ],
            [
             0.4444444444444444,
             "#bd3786"
            ],
            [
             0.5555555555555556,
             "#d8576b"
            ],
            [
             0.6666666666666666,
             "#ed7953"
            ],
            [
             0.7777777777777778,
             "#fb9f3a"
            ],
            [
             0.8888888888888888,
             "#fdca26"
            ],
            [
             1,
             "#f0f921"
            ]
           ],
           "sequentialminus": [
            [
             0,
             "#0d0887"
            ],
            [
             0.1111111111111111,
             "#46039f"
            ],
            [
             0.2222222222222222,
             "#7201a8"
            ],
            [
             0.3333333333333333,
             "#9c179e"
            ],
            [
             0.4444444444444444,
             "#bd3786"
            ],
            [
             0.5555555555555556,
             "#d8576b"
            ],
            [
             0.6666666666666666,
             "#ed7953"
            ],
            [
             0.7777777777777778,
             "#fb9f3a"
            ],
            [
             0.8888888888888888,
             "#fdca26"
            ],
            [
             1,
             "#f0f921"
            ]
           ]
          },
          "colorway": [
           "#636efa",
           "#EF553B",
           "#00cc96",
           "#ab63fa",
           "#FFA15A",
           "#19d3f3",
           "#FF6692",
           "#B6E880",
           "#FF97FF",
           "#FECB52"
          ],
          "font": {
           "color": "#2a3f5f"
          },
          "geo": {
           "bgcolor": "white",
           "lakecolor": "white",
           "landcolor": "#E5ECF6",
           "showlakes": true,
           "showland": true,
           "subunitcolor": "white"
          },
          "hoverlabel": {
           "align": "left"
          },
          "hovermode": "closest",
          "mapbox": {
           "style": "light"
          },
          "paper_bgcolor": "white",
          "plot_bgcolor": "#E5ECF6",
          "polar": {
           "angularaxis": {
            "gridcolor": "white",
            "linecolor": "white",
            "ticks": ""
           },
           "bgcolor": "#E5ECF6",
           "radialaxis": {
            "gridcolor": "white",
            "linecolor": "white",
            "ticks": ""
           }
          },
          "scene": {
           "xaxis": {
            "backgroundcolor": "#E5ECF6",
            "gridcolor": "white",
            "gridwidth": 2,
            "linecolor": "white",
            "showbackground": true,
            "ticks": "",
            "zerolinecolor": "white"
           },
           "yaxis": {
            "backgroundcolor": "#E5ECF6",
            "gridcolor": "white",
            "gridwidth": 2,
            "linecolor": "white",
            "showbackground": true,
            "ticks": "",
            "zerolinecolor": "white"
           },
           "zaxis": {
            "backgroundcolor": "#E5ECF6",
            "gridcolor": "white",
            "gridwidth": 2,
            "linecolor": "white",
            "showbackground": true,
            "ticks": "",
            "zerolinecolor": "white"
           }
          },
          "shapedefaults": {
           "line": {
            "color": "#2a3f5f"
           }
          },
          "ternary": {
           "aaxis": {
            "gridcolor": "white",
            "linecolor": "white",
            "ticks": ""
           },
           "baxis": {
            "gridcolor": "white",
            "linecolor": "white",
            "ticks": ""
           },
           "bgcolor": "#E5ECF6",
           "caxis": {
            "gridcolor": "white",
            "linecolor": "white",
            "ticks": ""
           }
          },
          "title": {
           "x": 0.05
          },
          "xaxis": {
           "automargin": true,
           "gridcolor": "white",
           "linecolor": "white",
           "ticks": "",
           "title": {
            "standoff": 15
           },
           "zerolinecolor": "white",
           "zerolinewidth": 2
          },
          "yaxis": {
           "automargin": true,
           "gridcolor": "white",
           "linecolor": "white",
           "ticks": "",
           "title": {
            "standoff": 15
           },
           "zerolinecolor": "white",
           "zerolinewidth": 2
          }
         }
        },
        "title": {
         "text": "Frequency of equal values on all 3 visits in a week"
        },
        "xaxis": {
         "anchor": "y",
         "domain": [
          0,
          1
         ],
         "title": {
          "text": "True_freq"
         }
        },
        "yaxis": {
         "anchor": "x",
         "domain": [
          0,
          1
         ],
         "title": {
          "text": "index"
         }
        }
       }
      },
      "text/html": [
       "<div>\n",
       "        \n",
       "        \n",
       "            <div id=\"0c0f33d6-4913-4334-9c16-4bde3d5b9695\" class=\"plotly-graph-div\" style=\"height:525px; width:100%;\"></div>\n",
       "            <script type=\"text/javascript\">\n",
       "                require([\"plotly\"], function(Plotly) {\n",
       "                    window.PLOTLYENV=window.PLOTLYENV || {};\n",
       "                    \n",
       "                if (document.getElementById(\"0c0f33d6-4913-4334-9c16-4bde3d5b9695\")) {\n",
       "                    Plotly.newPlot(\n",
       "                        '0c0f33d6-4913-4334-9c16-4bde3d5b9695',\n",
       "                        [{\"alignmentgroup\": \"True\", \"hovertemplate\": \"True_freq=%{x}<br>index=%{y}<extra></extra>\", \"legendgroup\": \"\", \"marker\": {\"color\": \"#636efa\"}, \"name\": \"\", \"offsetgroup\": \"\", \"orientation\": \"h\", \"showlegend\": false, \"textposition\": \"auto\", \"type\": \"bar\", \"x\": [0.4, 0.4, 1.0, 0.6, 0.6, 0.2, 0.2, 1.0, 0.6, 0.6, 0.2, 1.0, 0.8, 0.8, 0.4, 0.4, 0.6, 0.4, 0.4, 0.4, 0.4, 0.2, 1.0, 1.0, 1.0, 0.6, 0.6, 0.6, 0.2, 0.6, 0.4, 0.4, 0.0, 0.2, 1.0, 0.6, 0.8, 0.8, 1.0, 0.6, 0.6, 0.0, 0.2, 0.4, 0.4, 0.2], \"xaxis\": \"x\", \"y\": [\"Abdominal pain [HP_0002027]\", \"Abdominal pain duration (days) [EUPATH_0000154]\", \"Admitting hospital [EUPATH_0000318]\", \"Anorexia [SYMP_0000523]\", \"Anorexia duration (days) [EUPATH_0000155]\", \"Asexual Plasmodium parasite density, by microscopy [EUPATH_0000092]\", \"Asexual Plasmodium parasites present, by microscopy [EUPATH_0000048]\", \"Basis of complicated diagnosis [EUPATH_0000316]\", \"Complicated malaria [EUPATH_0000040]\", \"Cough [SYMP_0000614]\", \"Cough duration (days) [EUPATH_0000156]\", \"Diagnosis at hospitalization [EUPATH_0000638]\", \"Diarrhea [DOID_13250]\", \"Diarrhea duration (days) [EUPATH_0000157]\", \"Fatigue [SYMP_0019177]\", \"Fatigue duration (days) [EUPATH_0000158]\", \"Febrile [EUPATH_0000097]\", \"Fever, subjective duration (days) [EUPATH_0000164]\", \"Headache [HP_0002315]\", \"Headache duration (days) [EUPATH_0000159]\", \"Height (cm) [EUPATH_0010075]\", \"Hemoglobin (g/dL) [EUPATH_0000047]\", \"ITN last night [EUPATH_0000216]\", \"Jaundice [HP_0000952]\", \"Jaundice duration (days) [EUPATH_0000160]\", \"Joint pains [SYMP_0000064]\", \"Joint pains duration (days) [EUPATH_0000161]\", \"Malaria diagnosis [EUPATH_0000090]\", \"Malaria diagnosis and parasite status [EUPATH_0000338]\", \"Malaria treatment [EUPATH_0000740]\", \"Muscle aches [EUPATH_0000252]\", \"Muscle aches duration (days) [EUPATH_0000162]\", \"Non-malaria medication [EUPATH_0000059]\", \"Other diagnosis [EUPATH_0000317]\", \"Other medical complaint [EUPATH_0020002]\", \"Plasmodium gametocytes present, by microscopy [EUPATH_0000207]\", \"Seizures [SYMP_0000124]\", \"Seizures duration (days) [EUPATH_0000163]\", \"Severe malaria criteria [EUPATH_0000046]\", \"Subjective fever [EUPATH_0000100]\", \"Submicroscopic Plasmodium present, by LAMP [EUPATH_0000487]\", \"Temperature (C) [EUPATH_0000110]\", \"Visit type [EUPATH_0000311]\", \"Vomiting [HP_0002013]\", \"Vomiting duration (days) [EUPATH_0000165]\", \"Weight (kg) [EUPATH_0000732]\"], \"yaxis\": \"y\"}],\n",
       "                        {\"barmode\": \"relative\", \"legend\": {\"tracegroupgap\": 0}, \"template\": {\"data\": {\"bar\": [{\"error_x\": {\"color\": \"#2a3f5f\"}, \"error_y\": {\"color\": \"#2a3f5f\"}, \"marker\": {\"line\": {\"color\": \"#E5ECF6\", \"width\": 0.5}}, \"type\": \"bar\"}], \"barpolar\": [{\"marker\": {\"line\": {\"color\": \"#E5ECF6\", \"width\": 0.5}}, \"type\": \"barpolar\"}], \"carpet\": [{\"aaxis\": {\"endlinecolor\": \"#2a3f5f\", \"gridcolor\": \"white\", \"linecolor\": \"white\", \"minorgridcolor\": \"white\", \"startlinecolor\": \"#2a3f5f\"}, \"baxis\": {\"endlinecolor\": \"#2a3f5f\", \"gridcolor\": \"white\", \"linecolor\": \"white\", \"minorgridcolor\": \"white\", \"startlinecolor\": \"#2a3f5f\"}, \"type\": \"carpet\"}], \"choropleth\": [{\"colorbar\": {\"outlinewidth\": 0, \"ticks\": \"\"}, \"type\": \"choropleth\"}], \"contour\": [{\"colorbar\": {\"outlinewidth\": 0, \"ticks\": \"\"}, \"colorscale\": [[0.0, \"#0d0887\"], [0.1111111111111111, \"#46039f\"], [0.2222222222222222, \"#7201a8\"], [0.3333333333333333, \"#9c179e\"], [0.4444444444444444, \"#bd3786\"], [0.5555555555555556, \"#d8576b\"], [0.6666666666666666, \"#ed7953\"], [0.7777777777777778, \"#fb9f3a\"], [0.8888888888888888, \"#fdca26\"], [1.0, \"#f0f921\"]], \"type\": \"contour\"}], \"contourcarpet\": [{\"colorbar\": {\"outlinewidth\": 0, \"ticks\": \"\"}, \"type\": \"contourcarpet\"}], \"heatmap\": [{\"colorbar\": {\"outlinewidth\": 0, \"ticks\": \"\"}, \"colorscale\": [[0.0, \"#0d0887\"], [0.1111111111111111, \"#46039f\"], [0.2222222222222222, \"#7201a8\"], [0.3333333333333333, \"#9c179e\"], [0.4444444444444444, \"#bd3786\"], [0.5555555555555556, \"#d8576b\"], [0.6666666666666666, \"#ed7953\"], [0.7777777777777778, \"#fb9f3a\"], [0.8888888888888888, \"#fdca26\"], [1.0, \"#f0f921\"]], \"type\": \"heatmap\"}], \"heatmapgl\": [{\"colorbar\": {\"outlinewidth\": 0, \"ticks\": \"\"}, \"colorscale\": [[0.0, \"#0d0887\"], [0.1111111111111111, \"#46039f\"], [0.2222222222222222, \"#7201a8\"], [0.3333333333333333, \"#9c179e\"], [0.4444444444444444, \"#bd3786\"], [0.5555555555555556, \"#d8576b\"], [0.6666666666666666, \"#ed7953\"], [0.7777777777777778, \"#fb9f3a\"], [0.8888888888888888, \"#fdca26\"], [1.0, \"#f0f921\"]], \"type\": \"heatmapgl\"}], \"histogram\": [{\"marker\": {\"colorbar\": {\"outlinewidth\": 0, \"ticks\": \"\"}}, \"type\": \"histogram\"}], \"histogram2d\": [{\"colorbar\": {\"outlinewidth\": 0, \"ticks\": \"\"}, \"colorscale\": [[0.0, \"#0d0887\"], [0.1111111111111111, \"#46039f\"], [0.2222222222222222, \"#7201a8\"], [0.3333333333333333, \"#9c179e\"], [0.4444444444444444, \"#bd3786\"], [0.5555555555555556, \"#d8576b\"], [0.6666666666666666, \"#ed7953\"], [0.7777777777777778, \"#fb9f3a\"], [0.8888888888888888, \"#fdca26\"], [1.0, \"#f0f921\"]], \"type\": \"histogram2d\"}], \"histogram2dcontour\": [{\"colorbar\": {\"outlinewidth\": 0, \"ticks\": \"\"}, \"colorscale\": [[0.0, \"#0d0887\"], [0.1111111111111111, \"#46039f\"], [0.2222222222222222, \"#7201a8\"], [0.3333333333333333, \"#9c179e\"], [0.4444444444444444, \"#bd3786\"], [0.5555555555555556, \"#d8576b\"], [0.6666666666666666, \"#ed7953\"], [0.7777777777777778, \"#fb9f3a\"], [0.8888888888888888, \"#fdca26\"], [1.0, \"#f0f921\"]], \"type\": \"histogram2dcontour\"}], \"mesh3d\": [{\"colorbar\": {\"outlinewidth\": 0, \"ticks\": \"\"}, \"type\": \"mesh3d\"}], \"parcoords\": [{\"line\": {\"colorbar\": {\"outlinewidth\": 0, \"ticks\": \"\"}}, \"type\": \"parcoords\"}], \"pie\": [{\"automargin\": true, \"type\": \"pie\"}], \"scatter\": [{\"marker\": {\"colorbar\": {\"outlinewidth\": 0, \"ticks\": \"\"}}, \"type\": \"scatter\"}], \"scatter3d\": [{\"line\": {\"colorbar\": {\"outlinewidth\": 0, \"ticks\": \"\"}}, \"marker\": {\"colorbar\": {\"outlinewidth\": 0, \"ticks\": \"\"}}, \"type\": \"scatter3d\"}], \"scattercarpet\": [{\"marker\": {\"colorbar\": {\"outlinewidth\": 0, \"ticks\": \"\"}}, \"type\": \"scattercarpet\"}], \"scattergeo\": [{\"marker\": {\"colorbar\": {\"outlinewidth\": 0, \"ticks\": \"\"}}, \"type\": \"scattergeo\"}], \"scattergl\": [{\"marker\": {\"colorbar\": {\"outlinewidth\": 0, \"ticks\": \"\"}}, \"type\": \"scattergl\"}], \"scattermapbox\": [{\"marker\": {\"colorbar\": {\"outlinewidth\": 0, \"ticks\": \"\"}}, \"type\": \"scattermapbox\"}], \"scatterpolar\": [{\"marker\": {\"colorbar\": {\"outlinewidth\": 0, \"ticks\": \"\"}}, \"type\": \"scatterpolar\"}], \"scatterpolargl\": [{\"marker\": {\"colorbar\": {\"outlinewidth\": 0, \"ticks\": \"\"}}, \"type\": \"scatterpolargl\"}], \"scatterternary\": [{\"marker\": {\"colorbar\": {\"outlinewidth\": 0, \"ticks\": \"\"}}, \"type\": \"scatterternary\"}], \"surface\": [{\"colorbar\": {\"outlinewidth\": 0, \"ticks\": \"\"}, \"colorscale\": [[0.0, \"#0d0887\"], [0.1111111111111111, \"#46039f\"], [0.2222222222222222, \"#7201a8\"], [0.3333333333333333, \"#9c179e\"], [0.4444444444444444, \"#bd3786\"], [0.5555555555555556, \"#d8576b\"], [0.6666666666666666, \"#ed7953\"], [0.7777777777777778, \"#fb9f3a\"], [0.8888888888888888, \"#fdca26\"], [1.0, \"#f0f921\"]], \"type\": \"surface\"}], \"table\": [{\"cells\": {\"fill\": {\"color\": \"#EBF0F8\"}, \"line\": {\"color\": \"white\"}}, \"header\": {\"fill\": {\"color\": \"#C8D4E3\"}, \"line\": {\"color\": \"white\"}}, \"type\": \"table\"}]}, \"layout\": {\"annotationdefaults\": {\"arrowcolor\": \"#2a3f5f\", \"arrowhead\": 0, \"arrowwidth\": 1}, \"coloraxis\": {\"colorbar\": {\"outlinewidth\": 0, \"ticks\": \"\"}}, \"colorscale\": {\"diverging\": [[0, \"#8e0152\"], [0.1, \"#c51b7d\"], [0.2, \"#de77ae\"], [0.3, \"#f1b6da\"], [0.4, \"#fde0ef\"], [0.5, \"#f7f7f7\"], [0.6, \"#e6f5d0\"], [0.7, \"#b8e186\"], [0.8, \"#7fbc41\"], [0.9, \"#4d9221\"], [1, \"#276419\"]], \"sequential\": [[0.0, \"#0d0887\"], [0.1111111111111111, \"#46039f\"], [0.2222222222222222, \"#7201a8\"], [0.3333333333333333, \"#9c179e\"], [0.4444444444444444, \"#bd3786\"], [0.5555555555555556, \"#d8576b\"], [0.6666666666666666, \"#ed7953\"], [0.7777777777777778, \"#fb9f3a\"], [0.8888888888888888, \"#fdca26\"], [1.0, \"#f0f921\"]], \"sequentialminus\": [[0.0, \"#0d0887\"], [0.1111111111111111, \"#46039f\"], [0.2222222222222222, \"#7201a8\"], [0.3333333333333333, \"#9c179e\"], [0.4444444444444444, \"#bd3786\"], [0.5555555555555556, \"#d8576b\"], [0.6666666666666666, \"#ed7953\"], [0.7777777777777778, \"#fb9f3a\"], [0.8888888888888888, \"#fdca26\"], [1.0, \"#f0f921\"]]}, \"colorway\": [\"#636efa\", \"#EF553B\", \"#00cc96\", \"#ab63fa\", \"#FFA15A\", \"#19d3f3\", \"#FF6692\", \"#B6E880\", \"#FF97FF\", \"#FECB52\"], \"font\": {\"color\": \"#2a3f5f\"}, \"geo\": {\"bgcolor\": \"white\", \"lakecolor\": \"white\", \"landcolor\": \"#E5ECF6\", \"showlakes\": true, \"showland\": true, \"subunitcolor\": \"white\"}, \"hoverlabel\": {\"align\": \"left\"}, \"hovermode\": \"closest\", \"mapbox\": {\"style\": \"light\"}, \"paper_bgcolor\": \"white\", \"plot_bgcolor\": \"#E5ECF6\", \"polar\": {\"angularaxis\": {\"gridcolor\": \"white\", \"linecolor\": \"white\", \"ticks\": \"\"}, \"bgcolor\": \"#E5ECF6\", \"radialaxis\": {\"gridcolor\": \"white\", \"linecolor\": \"white\", \"ticks\": \"\"}}, \"scene\": {\"xaxis\": {\"backgroundcolor\": \"#E5ECF6\", \"gridcolor\": \"white\", \"gridwidth\": 2, \"linecolor\": \"white\", \"showbackground\": true, \"ticks\": \"\", \"zerolinecolor\": \"white\"}, \"yaxis\": {\"backgroundcolor\": \"#E5ECF6\", \"gridcolor\": \"white\", \"gridwidth\": 2, \"linecolor\": \"white\", \"showbackground\": true, \"ticks\": \"\", \"zerolinecolor\": \"white\"}, \"zaxis\": {\"backgroundcolor\": \"#E5ECF6\", \"gridcolor\": \"white\", \"gridwidth\": 2, \"linecolor\": \"white\", \"showbackground\": true, \"ticks\": \"\", \"zerolinecolor\": \"white\"}}, \"shapedefaults\": {\"line\": {\"color\": \"#2a3f5f\"}}, \"ternary\": {\"aaxis\": {\"gridcolor\": \"white\", \"linecolor\": \"white\", \"ticks\": \"\"}, \"baxis\": {\"gridcolor\": \"white\", \"linecolor\": \"white\", \"ticks\": \"\"}, \"bgcolor\": \"#E5ECF6\", \"caxis\": {\"gridcolor\": \"white\", \"linecolor\": \"white\", \"ticks\": \"\"}}, \"title\": {\"x\": 0.05}, \"xaxis\": {\"automargin\": true, \"gridcolor\": \"white\", \"linecolor\": \"white\", \"ticks\": \"\", \"title\": {\"standoff\": 15}, \"zerolinecolor\": \"white\", \"zerolinewidth\": 2}, \"yaxis\": {\"automargin\": true, \"gridcolor\": \"white\", \"linecolor\": \"white\", \"ticks\": \"\", \"title\": {\"standoff\": 15}, \"zerolinecolor\": \"white\", \"zerolinewidth\": 2}}}, \"title\": {\"text\": \"Frequency of equal values on all 3 visits in a week\"}, \"xaxis\": {\"anchor\": \"y\", \"domain\": [0.0, 1.0], \"title\": {\"text\": \"True_freq\"}}, \"yaxis\": {\"anchor\": \"x\", \"domain\": [0.0, 1.0], \"title\": {\"text\": \"index\"}}},\n",
       "                        {\"responsive\": true}\n",
       "                    ).then(function(){\n",
       "                            \n",
       "var gd = document.getElementById('0c0f33d6-4913-4334-9c16-4bde3d5b9695');\n",
       "var x = new MutationObserver(function (mutations, observer) {{\n",
       "        var display = window.getComputedStyle(gd).display;\n",
       "        if (!display || display === 'none') {{\n",
       "            console.log([gd, 'removed!']);\n",
       "            Plotly.purge(gd);\n",
       "            observer.disconnect();\n",
       "        }}\n",
       "}});\n",
       "\n",
       "// Listen for the removal of the full notebook cells\n",
       "var notebookContainer = gd.closest('#notebook-container');\n",
       "if (notebookContainer) {{\n",
       "    x.observe(notebookContainer, {childList: true});\n",
       "}}\n",
       "\n",
       "// Listen for the clearing of the current output cell\n",
       "var outputEl = gd.closest('.output');\n",
       "if (outputEl) {{\n",
       "    x.observe(outputEl, {childList: true});\n",
       "}}\n",
       "\n",
       "                        })\n",
       "                };\n",
       "                });\n",
       "            </script>\n",
       "        </div>"
      ]
     },
     "metadata": {},
     "output_type": "display_data"
    },
    {
     "data": {
      "text/plain": [
       "'dataframe_true_false_counts_3weeks_figure.html'"
      ]
     },
     "execution_count": 36,
     "metadata": {},
     "output_type": "execute_result"
    }
   ],
   "source": [
    "##3 weeks\n",
    "##True or False if the values of all three visits are the same all the same or not\n",
    "##gives triple the amount of weeks because each visit will be [0] and [1] and [2]. But for the % its irrelevant\n",
    "\n",
    "df_3=df[df['counts']==3]\n",
    "df_3.index=range(len(df_3))\n",
    "\n",
    "other_array = []\n",
    "for index, row in df_3.iterrows():\n",
    "    data = df_3[ df_3['Visit week']==row['Visit week'] ]\\\n",
    "                [ df_3['Participant_Id']==row['Participant_Id'] ].reset_index(drop=True)\n",
    "    array = []\n",
    "    for column in df_3.columns:\n",
    "            array.append(data.iloc[0][column] == data.iloc[1][column] == data.iloc[2][column] )\n",
    "    other_array.append(array)\n",
    "    \n",
    "dataframe_true_false_3 = pd.DataFrame(other_array, columns=df_3.columns)\n",
    "\n",
    "#frequency Table for True False in all columns\n",
    "dataframe_true_false_counts_3=dataframe_true_false_3.apply(pd.value_counts)\n",
    "dataframe_true_false_counts_3=dataframe_true_false_counts_3.fillna(0)\n",
    "dataframe_true_false_counts_3=dataframe_true_false_counts_3.T\n",
    "#i dont understand why but I can only call the columns if I rename them...\n",
    "dataframe_true_false_counts_3.columns=['False','True']\n",
    "dataframe_true_false_counts_3['True_freq']=(dataframe_true_false_counts_3['True']/len(df_3))\n",
    "dataframe_true_false_counts_3['False_freq']=(dataframe_true_false_counts_3['False']/len(df_3))\n",
    "\n",
    "#figure\n",
    "df_figure_3=dataframe_true_false_counts_3.drop(['counts','Participant_Id','Observation_Id','Visit week','Visit date [EUPATH_0000091]','Hospital admission date [EUPATH_0000319]','Hospital discharge date [EUPATH_0000320]','Days since enrollment [EUPATH_0000191]','Age at visit (years) [EUPATH_0000113]','Household_Id'])\n",
    "dataframe_true_false_counts_3_figure = px.bar(df_figure_3,\n",
    "            y=df_figure_3.index,\n",
    "            x=\"True_freq\",\n",
    "            orientation='h',\n",
    "            title=\"Frequency of equal values on all 3 visits in a week\")\n",
    "dataframe_true_false_counts_3_figure.show()\n",
    "py.offline.plot(dataframe_true_false_counts_3_figure, filename='dataframe_true_false_counts_3weeks_figure.html')"
   ]
  },
  {
   "cell_type": "code",
   "execution_count": 32,
   "metadata": {},
   "outputs": [
    {
     "data": {
      "text/html": [
       "<div>\n",
       "<style scoped>\n",
       "    .dataframe tbody tr th:only-of-type {\n",
       "        vertical-align: middle;\n",
       "    }\n",
       "\n",
       "    .dataframe tbody tr th {\n",
       "        vertical-align: top;\n",
       "    }\n",
       "\n",
       "    .dataframe thead th {\n",
       "        text-align: right;\n",
       "    }\n",
       "</style>\n",
       "<table border=\"1\" class=\"dataframe\">\n",
       "  <thead>\n",
       "    <tr style=\"text-align: right;\">\n",
       "      <th></th>\n",
       "      <th>False</th>\n",
       "      <th>True</th>\n",
       "      <th>True_freq</th>\n",
       "      <th>False_freq</th>\n",
       "    </tr>\n",
       "  </thead>\n",
       "  <tbody>\n",
       "    <tr>\n",
       "      <th>Observation_Id</th>\n",
       "      <td>1956.0</td>\n",
       "      <td>0.0</td>\n",
       "      <td>0.000000</td>\n",
       "      <td>1.000000</td>\n",
       "    </tr>\n",
       "    <tr>\n",
       "      <th>Participant_Id</th>\n",
       "      <td>0.0</td>\n",
       "      <td>1956.0</td>\n",
       "      <td>1.000000</td>\n",
       "      <td>0.000000</td>\n",
       "    </tr>\n",
       "    <tr>\n",
       "      <th>Household_Id</th>\n",
       "      <td>0.0</td>\n",
       "      <td>1956.0</td>\n",
       "      <td>1.000000</td>\n",
       "      <td>0.000000</td>\n",
       "    </tr>\n",
       "    <tr>\n",
       "      <th>Abdominal pain [HP_0002027]</th>\n",
       "      <td>372.0</td>\n",
       "      <td>1584.0</td>\n",
       "      <td>0.809816</td>\n",
       "      <td>0.190184</td>\n",
       "    </tr>\n",
       "    <tr>\n",
       "      <th>Abdominal pain duration (days) [EUPATH_0000154]</th>\n",
       "      <td>388.0</td>\n",
       "      <td>1568.0</td>\n",
       "      <td>0.801636</td>\n",
       "      <td>0.198364</td>\n",
       "    </tr>\n",
       "    <tr>\n",
       "      <th>Admitting hospital [EUPATH_0000318]</th>\n",
       "      <td>18.0</td>\n",
       "      <td>1938.0</td>\n",
       "      <td>0.990798</td>\n",
       "      <td>0.009202</td>\n",
       "    </tr>\n",
       "    <tr>\n",
       "      <th>Age at visit (years) [EUPATH_0000113]</th>\n",
       "      <td>1632.0</td>\n",
       "      <td>324.0</td>\n",
       "      <td>0.165644</td>\n",
       "      <td>0.834356</td>\n",
       "    </tr>\n",
       "    <tr>\n",
       "      <th>Anorexia [SYMP_0000523]</th>\n",
       "      <td>186.0</td>\n",
       "      <td>1770.0</td>\n",
       "      <td>0.904908</td>\n",
       "      <td>0.095092</td>\n",
       "    </tr>\n",
       "    <tr>\n",
       "      <th>Anorexia duration (days) [EUPATH_0000155]</th>\n",
       "      <td>194.0</td>\n",
       "      <td>1762.0</td>\n",
       "      <td>0.900818</td>\n",
       "      <td>0.099182</td>\n",
       "    </tr>\n",
       "    <tr>\n",
       "      <th>Asexual Plasmodium parasite density, by microscopy [EUPATH_0000092]</th>\n",
       "      <td>1216.0</td>\n",
       "      <td>740.0</td>\n",
       "      <td>0.378323</td>\n",
       "      <td>0.621677</td>\n",
       "    </tr>\n",
       "    <tr>\n",
       "      <th>Asexual Plasmodium parasites present, by microscopy [EUPATH_0000048]</th>\n",
       "      <td>1006.0</td>\n",
       "      <td>950.0</td>\n",
       "      <td>0.485685</td>\n",
       "      <td>0.514315</td>\n",
       "    </tr>\n",
       "    <tr>\n",
       "      <th>Basis of complicated diagnosis [EUPATH_0000316]</th>\n",
       "      <td>14.0</td>\n",
       "      <td>1942.0</td>\n",
       "      <td>0.992843</td>\n",
       "      <td>0.007157</td>\n",
       "    </tr>\n",
       "    <tr>\n",
       "      <th>Complicated malaria [EUPATH_0000040]</th>\n",
       "      <td>630.0</td>\n",
       "      <td>1326.0</td>\n",
       "      <td>0.677914</td>\n",
       "      <td>0.322086</td>\n",
       "    </tr>\n",
       "    <tr>\n",
       "      <th>Cough [SYMP_0000614]</th>\n",
       "      <td>908.0</td>\n",
       "      <td>1048.0</td>\n",
       "      <td>0.535787</td>\n",
       "      <td>0.464213</td>\n",
       "    </tr>\n",
       "    <tr>\n",
       "      <th>Cough duration (days) [EUPATH_0000156]</th>\n",
       "      <td>1038.0</td>\n",
       "      <td>918.0</td>\n",
       "      <td>0.469325</td>\n",
       "      <td>0.530675</td>\n",
       "    </tr>\n",
       "    <tr>\n",
       "      <th>Days since enrollment [EUPATH_0000191]</th>\n",
       "      <td>1956.0</td>\n",
       "      <td>0.0</td>\n",
       "      <td>0.000000</td>\n",
       "      <td>1.000000</td>\n",
       "    </tr>\n",
       "    <tr>\n",
       "      <th>Diagnosis at hospitalization [EUPATH_0000638]</th>\n",
       "      <td>16.0</td>\n",
       "      <td>1940.0</td>\n",
       "      <td>0.991820</td>\n",
       "      <td>0.008180</td>\n",
       "    </tr>\n",
       "    <tr>\n",
       "      <th>Diarrhea [DOID_13250]</th>\n",
       "      <td>152.0</td>\n",
       "      <td>1804.0</td>\n",
       "      <td>0.922290</td>\n",
       "      <td>0.077710</td>\n",
       "    </tr>\n",
       "    <tr>\n",
       "      <th>Diarrhea duration (days) [EUPATH_0000157]</th>\n",
       "      <td>178.0</td>\n",
       "      <td>1778.0</td>\n",
       "      <td>0.908998</td>\n",
       "      <td>0.091002</td>\n",
       "    </tr>\n",
       "    <tr>\n",
       "      <th>Fatigue [SYMP_0019177]</th>\n",
       "      <td>368.0</td>\n",
       "      <td>1588.0</td>\n",
       "      <td>0.811861</td>\n",
       "      <td>0.188139</td>\n",
       "    </tr>\n",
       "    <tr>\n",
       "      <th>Fatigue duration (days) [EUPATH_0000158]</th>\n",
       "      <td>374.0</td>\n",
       "      <td>1582.0</td>\n",
       "      <td>0.808793</td>\n",
       "      <td>0.191207</td>\n",
       "    </tr>\n",
       "    <tr>\n",
       "      <th>Febrile [EUPATH_0000097]</th>\n",
       "      <td>1272.0</td>\n",
       "      <td>684.0</td>\n",
       "      <td>0.349693</td>\n",
       "      <td>0.650307</td>\n",
       "    </tr>\n",
       "    <tr>\n",
       "      <th>Fever, subjective duration (days) [EUPATH_0000164]</th>\n",
       "      <td>1418.0</td>\n",
       "      <td>538.0</td>\n",
       "      <td>0.275051</td>\n",
       "      <td>0.724949</td>\n",
       "    </tr>\n",
       "    <tr>\n",
       "      <th>Headache [HP_0002315]</th>\n",
       "      <td>582.0</td>\n",
       "      <td>1374.0</td>\n",
       "      <td>0.702454</td>\n",
       "      <td>0.297546</td>\n",
       "    </tr>\n",
       "    <tr>\n",
       "      <th>Headache duration (days) [EUPATH_0000159]</th>\n",
       "      <td>622.0</td>\n",
       "      <td>1334.0</td>\n",
       "      <td>0.682004</td>\n",
       "      <td>0.317996</td>\n",
       "    </tr>\n",
       "    <tr>\n",
       "      <th>Height (cm) [EUPATH_0010075]</th>\n",
       "      <td>968.0</td>\n",
       "      <td>988.0</td>\n",
       "      <td>0.505112</td>\n",
       "      <td>0.494888</td>\n",
       "    </tr>\n",
       "    <tr>\n",
       "      <th>Hemoglobin (g/dL) [EUPATH_0000047]</th>\n",
       "      <td>1662.0</td>\n",
       "      <td>294.0</td>\n",
       "      <td>0.150307</td>\n",
       "      <td>0.849693</td>\n",
       "    </tr>\n",
       "    <tr>\n",
       "      <th>Hospital admission date [EUPATH_0000319]</th>\n",
       "      <td>18.0</td>\n",
       "      <td>1938.0</td>\n",
       "      <td>0.990798</td>\n",
       "      <td>0.009202</td>\n",
       "    </tr>\n",
       "    <tr>\n",
       "      <th>Hospital discharge date [EUPATH_0000320]</th>\n",
       "      <td>16.0</td>\n",
       "      <td>1940.0</td>\n",
       "      <td>0.991820</td>\n",
       "      <td>0.008180</td>\n",
       "    </tr>\n",
       "    <tr>\n",
       "      <th>ITN last night [EUPATH_0000216]</th>\n",
       "      <td>84.0</td>\n",
       "      <td>1872.0</td>\n",
       "      <td>0.957055</td>\n",
       "      <td>0.042945</td>\n",
       "    </tr>\n",
       "    <tr>\n",
       "      <th>Jaundice [HP_0000952]</th>\n",
       "      <td>6.0</td>\n",
       "      <td>1950.0</td>\n",
       "      <td>0.996933</td>\n",
       "      <td>0.003067</td>\n",
       "    </tr>\n",
       "    <tr>\n",
       "      <th>Jaundice duration (days) [EUPATH_0000160]</th>\n",
       "      <td>6.0</td>\n",
       "      <td>1950.0</td>\n",
       "      <td>0.996933</td>\n",
       "      <td>0.003067</td>\n",
       "    </tr>\n",
       "    <tr>\n",
       "      <th>Joint pains [SYMP_0000064]</th>\n",
       "      <td>266.0</td>\n",
       "      <td>1690.0</td>\n",
       "      <td>0.864008</td>\n",
       "      <td>0.135992</td>\n",
       "    </tr>\n",
       "    <tr>\n",
       "      <th>Joint pains duration (days) [EUPATH_0000161]</th>\n",
       "      <td>270.0</td>\n",
       "      <td>1686.0</td>\n",
       "      <td>0.861963</td>\n",
       "      <td>0.138037</td>\n",
       "    </tr>\n",
       "    <tr>\n",
       "      <th>Malaria diagnosis [EUPATH_0000090]</th>\n",
       "      <td>624.0</td>\n",
       "      <td>1332.0</td>\n",
       "      <td>0.680982</td>\n",
       "      <td>0.319018</td>\n",
       "    </tr>\n",
       "    <tr>\n",
       "      <th>Malaria diagnosis and parasite status [EUPATH_0000338]</th>\n",
       "      <td>1712.0</td>\n",
       "      <td>244.0</td>\n",
       "      <td>0.124744</td>\n",
       "      <td>0.875256</td>\n",
       "    </tr>\n",
       "    <tr>\n",
       "      <th>Malaria treatment [EUPATH_0000740]</th>\n",
       "      <td>632.0</td>\n",
       "      <td>1324.0</td>\n",
       "      <td>0.676892</td>\n",
       "      <td>0.323108</td>\n",
       "    </tr>\n",
       "    <tr>\n",
       "      <th>Muscle aches [EUPATH_0000252]</th>\n",
       "      <td>246.0</td>\n",
       "      <td>1710.0</td>\n",
       "      <td>0.874233</td>\n",
       "      <td>0.125767</td>\n",
       "    </tr>\n",
       "    <tr>\n",
       "      <th>Muscle aches duration (days) [EUPATH_0000162]</th>\n",
       "      <td>246.0</td>\n",
       "      <td>1710.0</td>\n",
       "      <td>0.874233</td>\n",
       "      <td>0.125767</td>\n",
       "    </tr>\n",
       "    <tr>\n",
       "      <th>Non-malaria medication [EUPATH_0000059]</th>\n",
       "      <td>1884.0</td>\n",
       "      <td>72.0</td>\n",
       "      <td>0.036810</td>\n",
       "      <td>0.963190</td>\n",
       "    </tr>\n",
       "    <tr>\n",
       "      <th>Other diagnosis [EUPATH_0000317]</th>\n",
       "      <td>1834.0</td>\n",
       "      <td>122.0</td>\n",
       "      <td>0.062372</td>\n",
       "      <td>0.937628</td>\n",
       "    </tr>\n",
       "    <tr>\n",
       "      <th>Other medical complaint [EUPATH_0020002]</th>\n",
       "      <td>18.0</td>\n",
       "      <td>1938.0</td>\n",
       "      <td>0.990798</td>\n",
       "      <td>0.009202</td>\n",
       "    </tr>\n",
       "    <tr>\n",
       "      <th>Plasmodium gametocytes present, by microscopy [EUPATH_0000207]</th>\n",
       "      <td>648.0</td>\n",
       "      <td>1308.0</td>\n",
       "      <td>0.668712</td>\n",
       "      <td>0.331288</td>\n",
       "    </tr>\n",
       "    <tr>\n",
       "      <th>Seizures [SYMP_0000124]</th>\n",
       "      <td>16.0</td>\n",
       "      <td>1940.0</td>\n",
       "      <td>0.991820</td>\n",
       "      <td>0.008180</td>\n",
       "    </tr>\n",
       "    <tr>\n",
       "      <th>Seizures duration (days) [EUPATH_0000163]</th>\n",
       "      <td>16.0</td>\n",
       "      <td>1940.0</td>\n",
       "      <td>0.991820</td>\n",
       "      <td>0.008180</td>\n",
       "    </tr>\n",
       "    <tr>\n",
       "      <th>Severe malaria criteria [EUPATH_0000046]</th>\n",
       "      <td>2.0</td>\n",
       "      <td>1954.0</td>\n",
       "      <td>0.998978</td>\n",
       "      <td>0.001022</td>\n",
       "    </tr>\n",
       "    <tr>\n",
       "      <th>Subjective fever [EUPATH_0000100]</th>\n",
       "      <td>1266.0</td>\n",
       "      <td>690.0</td>\n",
       "      <td>0.352761</td>\n",
       "      <td>0.647239</td>\n",
       "    </tr>\n",
       "    <tr>\n",
       "      <th>Submicroscopic Plasmodium present, by LAMP [EUPATH_0000487]</th>\n",
       "      <td>1108.0</td>\n",
       "      <td>848.0</td>\n",
       "      <td>0.433538</td>\n",
       "      <td>0.566462</td>\n",
       "    </tr>\n",
       "    <tr>\n",
       "      <th>Temperature (C) [EUPATH_0000110]</th>\n",
       "      <td>1850.0</td>\n",
       "      <td>106.0</td>\n",
       "      <td>0.054192</td>\n",
       "      <td>0.945808</td>\n",
       "    </tr>\n",
       "    <tr>\n",
       "      <th>Visit date [EUPATH_0000091]</th>\n",
       "      <td>1956.0</td>\n",
       "      <td>0.0</td>\n",
       "      <td>0.000000</td>\n",
       "      <td>1.000000</td>\n",
       "    </tr>\n",
       "    <tr>\n",
       "      <th>Visit type [EUPATH_0000311]</th>\n",
       "      <td>1492.0</td>\n",
       "      <td>464.0</td>\n",
       "      <td>0.237219</td>\n",
       "      <td>0.762781</td>\n",
       "    </tr>\n",
       "    <tr>\n",
       "      <th>Vomiting [HP_0002013]</th>\n",
       "      <td>228.0</td>\n",
       "      <td>1728.0</td>\n",
       "      <td>0.883436</td>\n",
       "      <td>0.116564</td>\n",
       "    </tr>\n",
       "    <tr>\n",
       "      <th>Vomiting duration (days) [EUPATH_0000165]</th>\n",
       "      <td>238.0</td>\n",
       "      <td>1718.0</td>\n",
       "      <td>0.878323</td>\n",
       "      <td>0.121677</td>\n",
       "    </tr>\n",
       "    <tr>\n",
       "      <th>Weight (kg) [EUPATH_0000732]</th>\n",
       "      <td>988.0</td>\n",
       "      <td>968.0</td>\n",
       "      <td>0.494888</td>\n",
       "      <td>0.505112</td>\n",
       "    </tr>\n",
       "    <tr>\n",
       "      <th>Visit week</th>\n",
       "      <td>0.0</td>\n",
       "      <td>1956.0</td>\n",
       "      <td>1.000000</td>\n",
       "      <td>0.000000</td>\n",
       "    </tr>\n",
       "    <tr>\n",
       "      <th>counts</th>\n",
       "      <td>0.0</td>\n",
       "      <td>1956.0</td>\n",
       "      <td>1.000000</td>\n",
       "      <td>0.000000</td>\n",
       "    </tr>\n",
       "  </tbody>\n",
       "</table>\n",
       "</div>"
      ],
      "text/plain": [
       "                                                     False    True  True_freq  \\\n",
       "Observation_Id                                      1956.0     0.0   0.000000   \n",
       "Participant_Id                                         0.0  1956.0   1.000000   \n",
       "Household_Id                                           0.0  1956.0   1.000000   \n",
       "Abdominal pain [HP_0002027]                          372.0  1584.0   0.809816   \n",
       "Abdominal pain duration (days) [EUPATH_0000154]      388.0  1568.0   0.801636   \n",
       "Admitting hospital [EUPATH_0000318]                   18.0  1938.0   0.990798   \n",
       "Age at visit (years) [EUPATH_0000113]               1632.0   324.0   0.165644   \n",
       "Anorexia [SYMP_0000523]                              186.0  1770.0   0.904908   \n",
       "Anorexia duration (days) [EUPATH_0000155]            194.0  1762.0   0.900818   \n",
       "Asexual Plasmodium parasite density, by microsc...  1216.0   740.0   0.378323   \n",
       "Asexual Plasmodium parasites present, by micros...  1006.0   950.0   0.485685   \n",
       "Basis of complicated diagnosis [EUPATH_0000316]       14.0  1942.0   0.992843   \n",
       "Complicated malaria [EUPATH_0000040]                 630.0  1326.0   0.677914   \n",
       "Cough [SYMP_0000614]                                 908.0  1048.0   0.535787   \n",
       "Cough duration (days) [EUPATH_0000156]              1038.0   918.0   0.469325   \n",
       "Days since enrollment [EUPATH_0000191]              1956.0     0.0   0.000000   \n",
       "Diagnosis at hospitalization [EUPATH_0000638]         16.0  1940.0   0.991820   \n",
       "Diarrhea [DOID_13250]                                152.0  1804.0   0.922290   \n",
       "Diarrhea duration (days) [EUPATH_0000157]            178.0  1778.0   0.908998   \n",
       "Fatigue [SYMP_0019177]                               368.0  1588.0   0.811861   \n",
       "Fatigue duration (days) [EUPATH_0000158]             374.0  1582.0   0.808793   \n",
       "Febrile [EUPATH_0000097]                            1272.0   684.0   0.349693   \n",
       "Fever, subjective duration (days) [EUPATH_0000164]  1418.0   538.0   0.275051   \n",
       "Headache [HP_0002315]                                582.0  1374.0   0.702454   \n",
       "Headache duration (days) [EUPATH_0000159]            622.0  1334.0   0.682004   \n",
       "Height (cm) [EUPATH_0010075]                         968.0   988.0   0.505112   \n",
       "Hemoglobin (g/dL) [EUPATH_0000047]                  1662.0   294.0   0.150307   \n",
       "Hospital admission date [EUPATH_0000319]              18.0  1938.0   0.990798   \n",
       "Hospital discharge date [EUPATH_0000320]              16.0  1940.0   0.991820   \n",
       "ITN last night [EUPATH_0000216]                       84.0  1872.0   0.957055   \n",
       "Jaundice [HP_0000952]                                  6.0  1950.0   0.996933   \n",
       "Jaundice duration (days) [EUPATH_0000160]              6.0  1950.0   0.996933   \n",
       "Joint pains [SYMP_0000064]                           266.0  1690.0   0.864008   \n",
       "Joint pains duration (days) [EUPATH_0000161]         270.0  1686.0   0.861963   \n",
       "Malaria diagnosis [EUPATH_0000090]                   624.0  1332.0   0.680982   \n",
       "Malaria diagnosis and parasite status [EUPATH_0...  1712.0   244.0   0.124744   \n",
       "Malaria treatment [EUPATH_0000740]                   632.0  1324.0   0.676892   \n",
       "Muscle aches [EUPATH_0000252]                        246.0  1710.0   0.874233   \n",
       "Muscle aches duration (days) [EUPATH_0000162]        246.0  1710.0   0.874233   \n",
       "Non-malaria medication [EUPATH_0000059]             1884.0    72.0   0.036810   \n",
       "Other diagnosis [EUPATH_0000317]                    1834.0   122.0   0.062372   \n",
       "Other medical complaint [EUPATH_0020002]              18.0  1938.0   0.990798   \n",
       "Plasmodium gametocytes present, by microscopy [...   648.0  1308.0   0.668712   \n",
       "Seizures [SYMP_0000124]                               16.0  1940.0   0.991820   \n",
       "Seizures duration (days) [EUPATH_0000163]             16.0  1940.0   0.991820   \n",
       "Severe malaria criteria [EUPATH_0000046]               2.0  1954.0   0.998978   \n",
       "Subjective fever [EUPATH_0000100]                   1266.0   690.0   0.352761   \n",
       "Submicroscopic Plasmodium present, by LAMP [EUP...  1108.0   848.0   0.433538   \n",
       "Temperature (C) [EUPATH_0000110]                    1850.0   106.0   0.054192   \n",
       "Visit date [EUPATH_0000091]                         1956.0     0.0   0.000000   \n",
       "Visit type [EUPATH_0000311]                         1492.0   464.0   0.237219   \n",
       "Vomiting [HP_0002013]                                228.0  1728.0   0.883436   \n",
       "Vomiting duration (days) [EUPATH_0000165]            238.0  1718.0   0.878323   \n",
       "Weight (kg) [EUPATH_0000732]                         988.0   968.0   0.494888   \n",
       "Visit week                                             0.0  1956.0   1.000000   \n",
       "counts                                                 0.0  1956.0   1.000000   \n",
       "\n",
       "                                                    False_freq  \n",
       "Observation_Id                                        1.000000  \n",
       "Participant_Id                                        0.000000  \n",
       "Household_Id                                          0.000000  \n",
       "Abdominal pain [HP_0002027]                           0.190184  \n",
       "Abdominal pain duration (days) [EUPATH_0000154]       0.198364  \n",
       "Admitting hospital [EUPATH_0000318]                   0.009202  \n",
       "Age at visit (years) [EUPATH_0000113]                 0.834356  \n",
       "Anorexia [SYMP_0000523]                               0.095092  \n",
       "Anorexia duration (days) [EUPATH_0000155]             0.099182  \n",
       "Asexual Plasmodium parasite density, by microsc...    0.621677  \n",
       "Asexual Plasmodium parasites present, by micros...    0.514315  \n",
       "Basis of complicated diagnosis [EUPATH_0000316]       0.007157  \n",
       "Complicated malaria [EUPATH_0000040]                  0.322086  \n",
       "Cough [SYMP_0000614]                                  0.464213  \n",
       "Cough duration (days) [EUPATH_0000156]                0.530675  \n",
       "Days since enrollment [EUPATH_0000191]                1.000000  \n",
       "Diagnosis at hospitalization [EUPATH_0000638]         0.008180  \n",
       "Diarrhea [DOID_13250]                                 0.077710  \n",
       "Diarrhea duration (days) [EUPATH_0000157]             0.091002  \n",
       "Fatigue [SYMP_0019177]                                0.188139  \n",
       "Fatigue duration (days) [EUPATH_0000158]              0.191207  \n",
       "Febrile [EUPATH_0000097]                              0.650307  \n",
       "Fever, subjective duration (days) [EUPATH_0000164]    0.724949  \n",
       "Headache [HP_0002315]                                 0.297546  \n",
       "Headache duration (days) [EUPATH_0000159]             0.317996  \n",
       "Height (cm) [EUPATH_0010075]                          0.494888  \n",
       "Hemoglobin (g/dL) [EUPATH_0000047]                    0.849693  \n",
       "Hospital admission date [EUPATH_0000319]              0.009202  \n",
       "Hospital discharge date [EUPATH_0000320]              0.008180  \n",
       "ITN last night [EUPATH_0000216]                       0.042945  \n",
       "Jaundice [HP_0000952]                                 0.003067  \n",
       "Jaundice duration (days) [EUPATH_0000160]             0.003067  \n",
       "Joint pains [SYMP_0000064]                            0.135992  \n",
       "Joint pains duration (days) [EUPATH_0000161]          0.138037  \n",
       "Malaria diagnosis [EUPATH_0000090]                    0.319018  \n",
       "Malaria diagnosis and parasite status [EUPATH_0...    0.875256  \n",
       "Malaria treatment [EUPATH_0000740]                    0.323108  \n",
       "Muscle aches [EUPATH_0000252]                         0.125767  \n",
       "Muscle aches duration (days) [EUPATH_0000162]         0.125767  \n",
       "Non-malaria medication [EUPATH_0000059]               0.963190  \n",
       "Other diagnosis [EUPATH_0000317]                      0.937628  \n",
       "Other medical complaint [EUPATH_0020002]              0.009202  \n",
       "Plasmodium gametocytes present, by microscopy [...    0.331288  \n",
       "Seizures [SYMP_0000124]                               0.008180  \n",
       "Seizures duration (days) [EUPATH_0000163]             0.008180  \n",
       "Severe malaria criteria [EUPATH_0000046]              0.001022  \n",
       "Subjective fever [EUPATH_0000100]                     0.647239  \n",
       "Submicroscopic Plasmodium present, by LAMP [EUP...    0.566462  \n",
       "Temperature (C) [EUPATH_0000110]                      0.945808  \n",
       "Visit date [EUPATH_0000091]                           1.000000  \n",
       "Visit type [EUPATH_0000311]                           0.762781  \n",
       "Vomiting [HP_0002013]                                 0.116564  \n",
       "Vomiting duration (days) [EUPATH_0000165]             0.121677  \n",
       "Weight (kg) [EUPATH_0000732]                          0.505112  \n",
       "Visit week                                            0.000000  \n",
       "counts                                                0.000000  "
      ]
     },
     "execution_count": 32,
     "metadata": {},
     "output_type": "execute_result"
    }
   ],
   "source": [
    "dataframe_true_false_counts"
   ]
  },
  {
   "cell_type": "code",
   "execution_count": 33,
   "metadata": {},
   "outputs": [
    {
     "data": {
      "text/html": [
       "<div>\n",
       "<style scoped>\n",
       "    .dataframe tbody tr th:only-of-type {\n",
       "        vertical-align: middle;\n",
       "    }\n",
       "\n",
       "    .dataframe tbody tr th {\n",
       "        vertical-align: top;\n",
       "    }\n",
       "\n",
       "    .dataframe thead th {\n",
       "        text-align: right;\n",
       "    }\n",
       "</style>\n",
       "<table border=\"1\" class=\"dataframe\">\n",
       "  <thead>\n",
       "    <tr style=\"text-align: right;\">\n",
       "      <th></th>\n",
       "      <th>False</th>\n",
       "      <th>True</th>\n",
       "      <th>True_freq</th>\n",
       "      <th>False_freq</th>\n",
       "    </tr>\n",
       "  </thead>\n",
       "  <tbody>\n",
       "    <tr>\n",
       "      <th>Observation_Id</th>\n",
       "      <td>15.0</td>\n",
       "      <td>0.0</td>\n",
       "      <td>0.0</td>\n",
       "      <td>1.0</td>\n",
       "    </tr>\n",
       "    <tr>\n",
       "      <th>Participant_Id</th>\n",
       "      <td>0.0</td>\n",
       "      <td>15.0</td>\n",
       "      <td>1.0</td>\n",
       "      <td>0.0</td>\n",
       "    </tr>\n",
       "    <tr>\n",
       "      <th>Household_Id</th>\n",
       "      <td>0.0</td>\n",
       "      <td>15.0</td>\n",
       "      <td>1.0</td>\n",
       "      <td>0.0</td>\n",
       "    </tr>\n",
       "    <tr>\n",
       "      <th>Abdominal pain [HP_0002027]</th>\n",
       "      <td>9.0</td>\n",
       "      <td>6.0</td>\n",
       "      <td>0.4</td>\n",
       "      <td>0.6</td>\n",
       "    </tr>\n",
       "    <tr>\n",
       "      <th>Abdominal pain duration (days) [EUPATH_0000154]</th>\n",
       "      <td>9.0</td>\n",
       "      <td>6.0</td>\n",
       "      <td>0.4</td>\n",
       "      <td>0.6</td>\n",
       "    </tr>\n",
       "    <tr>\n",
       "      <th>Admitting hospital [EUPATH_0000318]</th>\n",
       "      <td>0.0</td>\n",
       "      <td>15.0</td>\n",
       "      <td>1.0</td>\n",
       "      <td>0.0</td>\n",
       "    </tr>\n",
       "    <tr>\n",
       "      <th>Age at visit (years) [EUPATH_0000113]</th>\n",
       "      <td>15.0</td>\n",
       "      <td>0.0</td>\n",
       "      <td>0.0</td>\n",
       "      <td>1.0</td>\n",
       "    </tr>\n",
       "    <tr>\n",
       "      <th>Anorexia [SYMP_0000523]</th>\n",
       "      <td>6.0</td>\n",
       "      <td>9.0</td>\n",
       "      <td>0.6</td>\n",
       "      <td>0.4</td>\n",
       "    </tr>\n",
       "    <tr>\n",
       "      <th>Anorexia duration (days) [EUPATH_0000155]</th>\n",
       "      <td>6.0</td>\n",
       "      <td>9.0</td>\n",
       "      <td>0.6</td>\n",
       "      <td>0.4</td>\n",
       "    </tr>\n",
       "    <tr>\n",
       "      <th>Asexual Plasmodium parasite density, by microscopy [EUPATH_0000092]</th>\n",
       "      <td>12.0</td>\n",
       "      <td>3.0</td>\n",
       "      <td>0.2</td>\n",
       "      <td>0.8</td>\n",
       "    </tr>\n",
       "    <tr>\n",
       "      <th>Asexual Plasmodium parasites present, by microscopy [EUPATH_0000048]</th>\n",
       "      <td>12.0</td>\n",
       "      <td>3.0</td>\n",
       "      <td>0.2</td>\n",
       "      <td>0.8</td>\n",
       "    </tr>\n",
       "    <tr>\n",
       "      <th>Basis of complicated diagnosis [EUPATH_0000316]</th>\n",
       "      <td>0.0</td>\n",
       "      <td>15.0</td>\n",
       "      <td>1.0</td>\n",
       "      <td>0.0</td>\n",
       "    </tr>\n",
       "    <tr>\n",
       "      <th>Complicated malaria [EUPATH_0000040]</th>\n",
       "      <td>6.0</td>\n",
       "      <td>9.0</td>\n",
       "      <td>0.6</td>\n",
       "      <td>0.4</td>\n",
       "    </tr>\n",
       "    <tr>\n",
       "      <th>Cough [SYMP_0000614]</th>\n",
       "      <td>6.0</td>\n",
       "      <td>9.0</td>\n",
       "      <td>0.6</td>\n",
       "      <td>0.4</td>\n",
       "    </tr>\n",
       "    <tr>\n",
       "      <th>Cough duration (days) [EUPATH_0000156]</th>\n",
       "      <td>12.0</td>\n",
       "      <td>3.0</td>\n",
       "      <td>0.2</td>\n",
       "      <td>0.8</td>\n",
       "    </tr>\n",
       "    <tr>\n",
       "      <th>Days since enrollment [EUPATH_0000191]</th>\n",
       "      <td>15.0</td>\n",
       "      <td>0.0</td>\n",
       "      <td>0.0</td>\n",
       "      <td>1.0</td>\n",
       "    </tr>\n",
       "    <tr>\n",
       "      <th>Diagnosis at hospitalization [EUPATH_0000638]</th>\n",
       "      <td>0.0</td>\n",
       "      <td>15.0</td>\n",
       "      <td>1.0</td>\n",
       "      <td>0.0</td>\n",
       "    </tr>\n",
       "    <tr>\n",
       "      <th>Diarrhea [DOID_13250]</th>\n",
       "      <td>3.0</td>\n",
       "      <td>12.0</td>\n",
       "      <td>0.8</td>\n",
       "      <td>0.2</td>\n",
       "    </tr>\n",
       "    <tr>\n",
       "      <th>Diarrhea duration (days) [EUPATH_0000157]</th>\n",
       "      <td>3.0</td>\n",
       "      <td>12.0</td>\n",
       "      <td>0.8</td>\n",
       "      <td>0.2</td>\n",
       "    </tr>\n",
       "    <tr>\n",
       "      <th>Fatigue [SYMP_0019177]</th>\n",
       "      <td>9.0</td>\n",
       "      <td>6.0</td>\n",
       "      <td>0.4</td>\n",
       "      <td>0.6</td>\n",
       "    </tr>\n",
       "    <tr>\n",
       "      <th>Fatigue duration (days) [EUPATH_0000158]</th>\n",
       "      <td>9.0</td>\n",
       "      <td>6.0</td>\n",
       "      <td>0.4</td>\n",
       "      <td>0.6</td>\n",
       "    </tr>\n",
       "    <tr>\n",
       "      <th>Febrile [EUPATH_0000097]</th>\n",
       "      <td>6.0</td>\n",
       "      <td>9.0</td>\n",
       "      <td>0.6</td>\n",
       "      <td>0.4</td>\n",
       "    </tr>\n",
       "    <tr>\n",
       "      <th>Fever, subjective duration (days) [EUPATH_0000164]</th>\n",
       "      <td>9.0</td>\n",
       "      <td>6.0</td>\n",
       "      <td>0.4</td>\n",
       "      <td>0.6</td>\n",
       "    </tr>\n",
       "    <tr>\n",
       "      <th>Headache [HP_0002315]</th>\n",
       "      <td>9.0</td>\n",
       "      <td>6.0</td>\n",
       "      <td>0.4</td>\n",
       "      <td>0.6</td>\n",
       "    </tr>\n",
       "    <tr>\n",
       "      <th>Headache duration (days) [EUPATH_0000159]</th>\n",
       "      <td>9.0</td>\n",
       "      <td>6.0</td>\n",
       "      <td>0.4</td>\n",
       "      <td>0.6</td>\n",
       "    </tr>\n",
       "    <tr>\n",
       "      <th>Height (cm) [EUPATH_0010075]</th>\n",
       "      <td>9.0</td>\n",
       "      <td>6.0</td>\n",
       "      <td>0.4</td>\n",
       "      <td>0.6</td>\n",
       "    </tr>\n",
       "    <tr>\n",
       "      <th>Hemoglobin (g/dL) [EUPATH_0000047]</th>\n",
       "      <td>12.0</td>\n",
       "      <td>3.0</td>\n",
       "      <td>0.2</td>\n",
       "      <td>0.8</td>\n",
       "    </tr>\n",
       "    <tr>\n",
       "      <th>Hospital admission date [EUPATH_0000319]</th>\n",
       "      <td>0.0</td>\n",
       "      <td>15.0</td>\n",
       "      <td>1.0</td>\n",
       "      <td>0.0</td>\n",
       "    </tr>\n",
       "    <tr>\n",
       "      <th>Hospital discharge date [EUPATH_0000320]</th>\n",
       "      <td>0.0</td>\n",
       "      <td>15.0</td>\n",
       "      <td>1.0</td>\n",
       "      <td>0.0</td>\n",
       "    </tr>\n",
       "    <tr>\n",
       "      <th>ITN last night [EUPATH_0000216]</th>\n",
       "      <td>0.0</td>\n",
       "      <td>15.0</td>\n",
       "      <td>1.0</td>\n",
       "      <td>0.0</td>\n",
       "    </tr>\n",
       "    <tr>\n",
       "      <th>Jaundice [HP_0000952]</th>\n",
       "      <td>0.0</td>\n",
       "      <td>15.0</td>\n",
       "      <td>1.0</td>\n",
       "      <td>0.0</td>\n",
       "    </tr>\n",
       "    <tr>\n",
       "      <th>Jaundice duration (days) [EUPATH_0000160]</th>\n",
       "      <td>0.0</td>\n",
       "      <td>15.0</td>\n",
       "      <td>1.0</td>\n",
       "      <td>0.0</td>\n",
       "    </tr>\n",
       "    <tr>\n",
       "      <th>Joint pains [SYMP_0000064]</th>\n",
       "      <td>6.0</td>\n",
       "      <td>9.0</td>\n",
       "      <td>0.6</td>\n",
       "      <td>0.4</td>\n",
       "    </tr>\n",
       "    <tr>\n",
       "      <th>Joint pains duration (days) [EUPATH_0000161]</th>\n",
       "      <td>6.0</td>\n",
       "      <td>9.0</td>\n",
       "      <td>0.6</td>\n",
       "      <td>0.4</td>\n",
       "    </tr>\n",
       "    <tr>\n",
       "      <th>Malaria diagnosis [EUPATH_0000090]</th>\n",
       "      <td>6.0</td>\n",
       "      <td>9.0</td>\n",
       "      <td>0.6</td>\n",
       "      <td>0.4</td>\n",
       "    </tr>\n",
       "    <tr>\n",
       "      <th>Malaria diagnosis and parasite status [EUPATH_0000338]</th>\n",
       "      <td>12.0</td>\n",
       "      <td>3.0</td>\n",
       "      <td>0.2</td>\n",
       "      <td>0.8</td>\n",
       "    </tr>\n",
       "    <tr>\n",
       "      <th>Malaria treatment [EUPATH_0000740]</th>\n",
       "      <td>6.0</td>\n",
       "      <td>9.0</td>\n",
       "      <td>0.6</td>\n",
       "      <td>0.4</td>\n",
       "    </tr>\n",
       "    <tr>\n",
       "      <th>Muscle aches [EUPATH_0000252]</th>\n",
       "      <td>9.0</td>\n",
       "      <td>6.0</td>\n",
       "      <td>0.4</td>\n",
       "      <td>0.6</td>\n",
       "    </tr>\n",
       "    <tr>\n",
       "      <th>Muscle aches duration (days) [EUPATH_0000162]</th>\n",
       "      <td>9.0</td>\n",
       "      <td>6.0</td>\n",
       "      <td>0.4</td>\n",
       "      <td>0.6</td>\n",
       "    </tr>\n",
       "    <tr>\n",
       "      <th>Non-malaria medication [EUPATH_0000059]</th>\n",
       "      <td>15.0</td>\n",
       "      <td>0.0</td>\n",
       "      <td>0.0</td>\n",
       "      <td>1.0</td>\n",
       "    </tr>\n",
       "    <tr>\n",
       "      <th>Other diagnosis [EUPATH_0000317]</th>\n",
       "      <td>12.0</td>\n",
       "      <td>3.0</td>\n",
       "      <td>0.2</td>\n",
       "      <td>0.8</td>\n",
       "    </tr>\n",
       "    <tr>\n",
       "      <th>Other medical complaint [EUPATH_0020002]</th>\n",
       "      <td>0.0</td>\n",
       "      <td>15.0</td>\n",
       "      <td>1.0</td>\n",
       "      <td>0.0</td>\n",
       "    </tr>\n",
       "    <tr>\n",
       "      <th>Plasmodium gametocytes present, by microscopy [EUPATH_0000207]</th>\n",
       "      <td>6.0</td>\n",
       "      <td>9.0</td>\n",
       "      <td>0.6</td>\n",
       "      <td>0.4</td>\n",
       "    </tr>\n",
       "    <tr>\n",
       "      <th>Seizures [SYMP_0000124]</th>\n",
       "      <td>3.0</td>\n",
       "      <td>12.0</td>\n",
       "      <td>0.8</td>\n",
       "      <td>0.2</td>\n",
       "    </tr>\n",
       "    <tr>\n",
       "      <th>Seizures duration (days) [EUPATH_0000163]</th>\n",
       "      <td>3.0</td>\n",
       "      <td>12.0</td>\n",
       "      <td>0.8</td>\n",
       "      <td>0.2</td>\n",
       "    </tr>\n",
       "    <tr>\n",
       "      <th>Severe malaria criteria [EUPATH_0000046]</th>\n",
       "      <td>0.0</td>\n",
       "      <td>15.0</td>\n",
       "      <td>1.0</td>\n",
       "      <td>0.0</td>\n",
       "    </tr>\n",
       "    <tr>\n",
       "      <th>Subjective fever [EUPATH_0000100]</th>\n",
       "      <td>6.0</td>\n",
       "      <td>9.0</td>\n",
       "      <td>0.6</td>\n",
       "      <td>0.4</td>\n",
       "    </tr>\n",
       "    <tr>\n",
       "      <th>Submicroscopic Plasmodium present, by LAMP [EUPATH_0000487]</th>\n",
       "      <td>6.0</td>\n",
       "      <td>9.0</td>\n",
       "      <td>0.6</td>\n",
       "      <td>0.4</td>\n",
       "    </tr>\n",
       "    <tr>\n",
       "      <th>Temperature (C) [EUPATH_0000110]</th>\n",
       "      <td>15.0</td>\n",
       "      <td>0.0</td>\n",
       "      <td>0.0</td>\n",
       "      <td>1.0</td>\n",
       "    </tr>\n",
       "    <tr>\n",
       "      <th>Visit date [EUPATH_0000091]</th>\n",
       "      <td>15.0</td>\n",
       "      <td>0.0</td>\n",
       "      <td>0.0</td>\n",
       "      <td>1.0</td>\n",
       "    </tr>\n",
       "    <tr>\n",
       "      <th>Visit type [EUPATH_0000311]</th>\n",
       "      <td>12.0</td>\n",
       "      <td>3.0</td>\n",
       "      <td>0.2</td>\n",
       "      <td>0.8</td>\n",
       "    </tr>\n",
       "    <tr>\n",
       "      <th>Vomiting [HP_0002013]</th>\n",
       "      <td>9.0</td>\n",
       "      <td>6.0</td>\n",
       "      <td>0.4</td>\n",
       "      <td>0.6</td>\n",
       "    </tr>\n",
       "    <tr>\n",
       "      <th>Vomiting duration (days) [EUPATH_0000165]</th>\n",
       "      <td>9.0</td>\n",
       "      <td>6.0</td>\n",
       "      <td>0.4</td>\n",
       "      <td>0.6</td>\n",
       "    </tr>\n",
       "    <tr>\n",
       "      <th>Weight (kg) [EUPATH_0000732]</th>\n",
       "      <td>12.0</td>\n",
       "      <td>3.0</td>\n",
       "      <td>0.2</td>\n",
       "      <td>0.8</td>\n",
       "    </tr>\n",
       "    <tr>\n",
       "      <th>Visit week</th>\n",
       "      <td>0.0</td>\n",
       "      <td>15.0</td>\n",
       "      <td>1.0</td>\n",
       "      <td>0.0</td>\n",
       "    </tr>\n",
       "    <tr>\n",
       "      <th>counts</th>\n",
       "      <td>0.0</td>\n",
       "      <td>15.0</td>\n",
       "      <td>1.0</td>\n",
       "      <td>0.0</td>\n",
       "    </tr>\n",
       "  </tbody>\n",
       "</table>\n",
       "</div>"
      ],
      "text/plain": [
       "                                                    False  True  True_freq  \\\n",
       "Observation_Id                                       15.0   0.0        0.0   \n",
       "Participant_Id                                        0.0  15.0        1.0   \n",
       "Household_Id                                          0.0  15.0        1.0   \n",
       "Abdominal pain [HP_0002027]                           9.0   6.0        0.4   \n",
       "Abdominal pain duration (days) [EUPATH_0000154]       9.0   6.0        0.4   \n",
       "Admitting hospital [EUPATH_0000318]                   0.0  15.0        1.0   \n",
       "Age at visit (years) [EUPATH_0000113]                15.0   0.0        0.0   \n",
       "Anorexia [SYMP_0000523]                               6.0   9.0        0.6   \n",
       "Anorexia duration (days) [EUPATH_0000155]             6.0   9.0        0.6   \n",
       "Asexual Plasmodium parasite density, by microsc...   12.0   3.0        0.2   \n",
       "Asexual Plasmodium parasites present, by micros...   12.0   3.0        0.2   \n",
       "Basis of complicated diagnosis [EUPATH_0000316]       0.0  15.0        1.0   \n",
       "Complicated malaria [EUPATH_0000040]                  6.0   9.0        0.6   \n",
       "Cough [SYMP_0000614]                                  6.0   9.0        0.6   \n",
       "Cough duration (days) [EUPATH_0000156]               12.0   3.0        0.2   \n",
       "Days since enrollment [EUPATH_0000191]               15.0   0.0        0.0   \n",
       "Diagnosis at hospitalization [EUPATH_0000638]         0.0  15.0        1.0   \n",
       "Diarrhea [DOID_13250]                                 3.0  12.0        0.8   \n",
       "Diarrhea duration (days) [EUPATH_0000157]             3.0  12.0        0.8   \n",
       "Fatigue [SYMP_0019177]                                9.0   6.0        0.4   \n",
       "Fatigue duration (days) [EUPATH_0000158]              9.0   6.0        0.4   \n",
       "Febrile [EUPATH_0000097]                              6.0   9.0        0.6   \n",
       "Fever, subjective duration (days) [EUPATH_0000164]    9.0   6.0        0.4   \n",
       "Headache [HP_0002315]                                 9.0   6.0        0.4   \n",
       "Headache duration (days) [EUPATH_0000159]             9.0   6.0        0.4   \n",
       "Height (cm) [EUPATH_0010075]                          9.0   6.0        0.4   \n",
       "Hemoglobin (g/dL) [EUPATH_0000047]                   12.0   3.0        0.2   \n",
       "Hospital admission date [EUPATH_0000319]              0.0  15.0        1.0   \n",
       "Hospital discharge date [EUPATH_0000320]              0.0  15.0        1.0   \n",
       "ITN last night [EUPATH_0000216]                       0.0  15.0        1.0   \n",
       "Jaundice [HP_0000952]                                 0.0  15.0        1.0   \n",
       "Jaundice duration (days) [EUPATH_0000160]             0.0  15.0        1.0   \n",
       "Joint pains [SYMP_0000064]                            6.0   9.0        0.6   \n",
       "Joint pains duration (days) [EUPATH_0000161]          6.0   9.0        0.6   \n",
       "Malaria diagnosis [EUPATH_0000090]                    6.0   9.0        0.6   \n",
       "Malaria diagnosis and parasite status [EUPATH_0...   12.0   3.0        0.2   \n",
       "Malaria treatment [EUPATH_0000740]                    6.0   9.0        0.6   \n",
       "Muscle aches [EUPATH_0000252]                         9.0   6.0        0.4   \n",
       "Muscle aches duration (days) [EUPATH_0000162]         9.0   6.0        0.4   \n",
       "Non-malaria medication [EUPATH_0000059]              15.0   0.0        0.0   \n",
       "Other diagnosis [EUPATH_0000317]                     12.0   3.0        0.2   \n",
       "Other medical complaint [EUPATH_0020002]              0.0  15.0        1.0   \n",
       "Plasmodium gametocytes present, by microscopy [...    6.0   9.0        0.6   \n",
       "Seizures [SYMP_0000124]                               3.0  12.0        0.8   \n",
       "Seizures duration (days) [EUPATH_0000163]             3.0  12.0        0.8   \n",
       "Severe malaria criteria [EUPATH_0000046]              0.0  15.0        1.0   \n",
       "Subjective fever [EUPATH_0000100]                     6.0   9.0        0.6   \n",
       "Submicroscopic Plasmodium present, by LAMP [EUP...    6.0   9.0        0.6   \n",
       "Temperature (C) [EUPATH_0000110]                     15.0   0.0        0.0   \n",
       "Visit date [EUPATH_0000091]                          15.0   0.0        0.0   \n",
       "Visit type [EUPATH_0000311]                          12.0   3.0        0.2   \n",
       "Vomiting [HP_0002013]                                 9.0   6.0        0.4   \n",
       "Vomiting duration (days) [EUPATH_0000165]             9.0   6.0        0.4   \n",
       "Weight (kg) [EUPATH_0000732]                         12.0   3.0        0.2   \n",
       "Visit week                                            0.0  15.0        1.0   \n",
       "counts                                                0.0  15.0        1.0   \n",
       "\n",
       "                                                    False_freq  \n",
       "Observation_Id                                             1.0  \n",
       "Participant_Id                                             0.0  \n",
       "Household_Id                                               0.0  \n",
       "Abdominal pain [HP_0002027]                                0.6  \n",
       "Abdominal pain duration (days) [EUPATH_0000154]            0.6  \n",
       "Admitting hospital [EUPATH_0000318]                        0.0  \n",
       "Age at visit (years) [EUPATH_0000113]                      1.0  \n",
       "Anorexia [SYMP_0000523]                                    0.4  \n",
       "Anorexia duration (days) [EUPATH_0000155]                  0.4  \n",
       "Asexual Plasmodium parasite density, by microsc...         0.8  \n",
       "Asexual Plasmodium parasites present, by micros...         0.8  \n",
       "Basis of complicated diagnosis [EUPATH_0000316]            0.0  \n",
       "Complicated malaria [EUPATH_0000040]                       0.4  \n",
       "Cough [SYMP_0000614]                                       0.4  \n",
       "Cough duration (days) [EUPATH_0000156]                     0.8  \n",
       "Days since enrollment [EUPATH_0000191]                     1.0  \n",
       "Diagnosis at hospitalization [EUPATH_0000638]              0.0  \n",
       "Diarrhea [DOID_13250]                                      0.2  \n",
       "Diarrhea duration (days) [EUPATH_0000157]                  0.2  \n",
       "Fatigue [SYMP_0019177]                                     0.6  \n",
       "Fatigue duration (days) [EUPATH_0000158]                   0.6  \n",
       "Febrile [EUPATH_0000097]                                   0.4  \n",
       "Fever, subjective duration (days) [EUPATH_0000164]         0.6  \n",
       "Headache [HP_0002315]                                      0.6  \n",
       "Headache duration (days) [EUPATH_0000159]                  0.6  \n",
       "Height (cm) [EUPATH_0010075]                               0.6  \n",
       "Hemoglobin (g/dL) [EUPATH_0000047]                         0.8  \n",
       "Hospital admission date [EUPATH_0000319]                   0.0  \n",
       "Hospital discharge date [EUPATH_0000320]                   0.0  \n",
       "ITN last night [EUPATH_0000216]                            0.0  \n",
       "Jaundice [HP_0000952]                                      0.0  \n",
       "Jaundice duration (days) [EUPATH_0000160]                  0.0  \n",
       "Joint pains [SYMP_0000064]                                 0.4  \n",
       "Joint pains duration (days) [EUPATH_0000161]               0.4  \n",
       "Malaria diagnosis [EUPATH_0000090]                         0.4  \n",
       "Malaria diagnosis and parasite status [EUPATH_0...         0.8  \n",
       "Malaria treatment [EUPATH_0000740]                         0.4  \n",
       "Muscle aches [EUPATH_0000252]                              0.6  \n",
       "Muscle aches duration (days) [EUPATH_0000162]              0.6  \n",
       "Non-malaria medication [EUPATH_0000059]                    1.0  \n",
       "Other diagnosis [EUPATH_0000317]                           0.8  \n",
       "Other medical complaint [EUPATH_0020002]                   0.0  \n",
       "Plasmodium gametocytes present, by microscopy [...         0.4  \n",
       "Seizures [SYMP_0000124]                                    0.2  \n",
       "Seizures duration (days) [EUPATH_0000163]                  0.2  \n",
       "Severe malaria criteria [EUPATH_0000046]                   0.0  \n",
       "Subjective fever [EUPATH_0000100]                          0.4  \n",
       "Submicroscopic Plasmodium present, by LAMP [EUP...         0.4  \n",
       "Temperature (C) [EUPATH_0000110]                           1.0  \n",
       "Visit date [EUPATH_0000091]                                1.0  \n",
       "Visit type [EUPATH_0000311]                                0.8  \n",
       "Vomiting [HP_0002013]                                      0.6  \n",
       "Vomiting duration (days) [EUPATH_0000165]                  0.6  \n",
       "Weight (kg) [EUPATH_0000732]                               0.8  \n",
       "Visit week                                                 0.0  \n",
       "counts                                                     0.0  "
      ]
     },
     "execution_count": 33,
     "metadata": {},
     "output_type": "execute_result"
    }
   ],
   "source": [
    "dataframe_true_false_counts_3"
   ]
  },
  {
   "cell_type": "code",
   "execution_count": null,
   "metadata": {},
   "outputs": [],
   "source": []
  }
 ],
 "metadata": {
  "kernelspec": {
   "display_name": "Python 3",
   "language": "python",
   "name": "python3"
  },
  "language_info": {
   "codemirror_mode": {
    "name": "ipython",
    "version": 3
   },
   "file_extension": ".py",
   "mimetype": "text/x-python",
   "name": "python",
   "nbconvert_exporter": "python",
   "pygments_lexer": "ipython3",
   "version": "3.7.6"
  }
 },
 "nbformat": 4,
 "nbformat_minor": 4
}
