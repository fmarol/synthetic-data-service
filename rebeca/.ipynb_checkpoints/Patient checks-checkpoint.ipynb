{
 "cells": [
  {
   "cell_type": "code",
   "execution_count": 26,
   "metadata": {},
   "outputs": [],
   "source": [
    "import pandas as pd\n",
    "import datetime as dt\n",
    "import matplotlib.pyplot as plt\n",
    "import seaborn as sns\n",
    "\n",
    "## Import observations here: --------------------------------------------------------------------------\n",
    "df = pd.read_csv('../isaFull.tsv', '\\t')\n",
    "# df = df[['Participant_Id', 'Visit date [EUPATH_0000091]']] # pick features\n",
    "df = df.dropna(subset=['Visit date [EUPATH_0000091]'])\n",
    "df['Visit date [EUPATH_0000091]'] = pd.to_datetime(df['Visit date [EUPATH_0000091]'])\n",
    "\n",
    "## Create visit week column containing date on MONDAY of the week the visit took place in: -------------\n",
    "df['Visit week'] = df['Visit date [EUPATH_0000091]'].apply(lambda d: d-dt.timedelta(days=d.weekday()))\n",
    "#print(df)\n",
    "\n",
    "## Group by participant then by visit week: -----------------------------------------------------------\n",
    "index = pd.MultiIndex.from_frame(df[['Visit week', 'Participant_Id']])\n",
    "df = df.set_index(index)\n",
    "# df = df.drop(columns=['Participant_Id', 'Visit week'])\n",
    "df['counts'] = df.groupby(level=['Visit week', 'Participant_Id']).size()\n",
    "df = df.sort_index()\n",
    "\n",
    "# print(df)"
   ]
  },
  {
   "cell_type": "code",
   "execution_count": 34,
   "metadata": {},
   "outputs": [
    {
     "name": "stdout",
     "output_type": "stream",
     "text": [
      "Observation_Id\n",
      "Participant_Id\n",
      "Household_Id\n",
      "Abdominal pain [HP_0002027]\n",
      "Abdominal pain duration (days) [EUPATH_0000154]\n",
      "Admitting hospital [EUPATH_0000318]\n",
      "Age at visit (years) [EUPATH_0000113]\n",
      "Anorexia [SYMP_0000523]\n",
      "Anorexia duration (days) [EUPATH_0000155]\n",
      "Asexual Plasmodium parasite density, by microscopy [EUPATH_0000092]\n",
      "Asexual Plasmodium parasites present, by microscopy [EUPATH_0000048]\n",
      "Basis of complicated diagnosis [EUPATH_0000316]\n",
      "Complicated malaria [EUPATH_0000040]\n",
      "Cough [SYMP_0000614]\n",
      "Cough duration (days) [EUPATH_0000156]\n",
      "Days since enrollment [EUPATH_0000191]\n",
      "Diagnosis at hospitalization [EUPATH_0000638]\n",
      "Diarrhea [DOID_13250]\n",
      "Diarrhea duration (days) [EUPATH_0000157]\n",
      "Fatigue [SYMP_0019177]\n",
      "Fatigue duration (days) [EUPATH_0000158]\n",
      "Febrile [EUPATH_0000097]\n",
      "Fever, subjective duration (days) [EUPATH_0000164]\n",
      "Headache [HP_0002315]\n",
      "Headache duration (days) [EUPATH_0000159]\n",
      "Height (cm) [EUPATH_0010075]\n",
      "Hemoglobin (g/dL) [EUPATH_0000047]\n",
      "Hospital admission date [EUPATH_0000319]\n",
      "Hospital discharge date [EUPATH_0000320]\n",
      "ITN last night [EUPATH_0000216]\n",
      "Jaundice [HP_0000952]\n",
      "Jaundice duration (days) [EUPATH_0000160]\n",
      "Joint pains [SYMP_0000064]\n",
      "Joint pains duration (days) [EUPATH_0000161]\n",
      "Malaria diagnosis [EUPATH_0000090]\n",
      "Malaria diagnosis and parasite status [EUPATH_0000338]\n",
      "Malaria treatment [EUPATH_0000740]\n",
      "Muscle aches [EUPATH_0000252]\n",
      "Muscle aches duration (days) [EUPATH_0000162]\n",
      "Non-malaria medication [EUPATH_0000059]\n",
      "Other diagnosis [EUPATH_0000317]\n",
      "Other medical complaint [EUPATH_0020002]\n",
      "Plasmodium gametocytes present, by microscopy [EUPATH_0000207]\n",
      "Seizures [SYMP_0000124]\n",
      "Seizures duration (days) [EUPATH_0000163]\n",
      "Severe malaria criteria [EUPATH_0000046]\n",
      "Subjective fever [EUPATH_0000100]\n",
      "Submicroscopic Plasmodium present, by LAMP [EUPATH_0000487]\n",
      "Temperature (C) [EUPATH_0000110]\n",
      "Visit date [EUPATH_0000091]\n",
      "Visit type [EUPATH_0000311]\n",
      "Vomiting [HP_0002013]\n",
      "Vomiting duration (days) [EUPATH_0000165]\n",
      "Weight (kg) [EUPATH_0000732]\n",
      "Visit week\n",
      "counts\n"
     ]
    }
   ],
   "source": [
    "df_2 = df[df['counts']==2]\n",
    "for index, row in df.iterrows():\n"
   ]
  },
  {
   "cell_type": "code",
   "execution_count": null,
   "metadata": {},
   "outputs": [],
   "source": []
  },
  {
   "cell_type": "code",
   "execution_count": null,
   "metadata": {},
   "outputs": [],
   "source": []
  }
 ],
 "metadata": {
  "kernelspec": {
   "display_name": "Python 3",
   "language": "python",
   "name": "python3"
  },
  "language_info": {
   "codemirror_mode": {
    "name": "ipython",
    "version": 3
   },
   "file_extension": ".py",
   "mimetype": "text/x-python",
   "name": "python",
   "nbconvert_exporter": "python",
   "pygments_lexer": "ipython3",
   "version": "3.7.7"
  }
 },
 "nbformat": 4,
 "nbformat_minor": 4
}
