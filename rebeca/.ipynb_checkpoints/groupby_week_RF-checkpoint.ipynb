{
 "cells": [
  {
   "cell_type": "code",
   "execution_count": null,
   "metadata": {},
   "outputs": [],
   "source": [
    "import pandas as pd\n",
    "import datetime as dt\n",
    "import matplotlib.pyplot as plt\n",
    "\n",
    "## Import observations here: --------------------------------------------------------------------------\n",
    "df = pd.read_csv('ISASimple_ICEMR_PRISM_cohort_RSRC_observations.txt', delimiter = '\\t')\n",
    "df = df[['Participant_Id', 'Visit date [EUPATH_0000091]']]\n",
    "df = df.dropna()\n",
    "df['Visit date [EUPATH_0000091]'] = pd.to_datetime(df['Visit date [EUPATH_0000091]'])\n",
    "\n",
    "## Create visit week column containing date on MONDAY of the week the visit took place in: -------------\n",
    "df['Visit week'] = df['Visit date [EUPATH_0000091]'].apply(lambda d: d-dt.timedelta(days=d.weekday()))\n",
    "#print(df)\n",
    "\n",
    "## Quick look at how this might smooth the data : ------------------------------------------------------\n",
    "# (regular appointment intervals are still clearly visible, wich is good)\n",
    "# totalperweek = df['Visit date [EUPATH_0000091]'].groupby(df['Visit week']).count().tolist()\n",
    "# print(totalperweek)\n",
    "# plt.plot(range(len(perweek)), perweek)\n",
    "# plt.title('Total number of visits made by week')\n",
    "# plt.show()\n",
    "\n",
    "## Group by participant then by visit week: -----------------------------------------------------------\n",
    "index = pd.MultiIndex.from_frame(df[['Participant_Id', 'Visit week']])\n",
    "df = df.set_index(index)\n",
    "df = df.drop(columns=['Participant_Id', 'Visit week'])\n",
    "df['counts'] = df.groupby(level=['Participant_Id', 'Visit week']).size()\n",
    "# print(df) # just to check\n",
    "# print('Most number of visits per week by a single participant: ', str(max(df['counts'])))\n",
    "# print(df.apply(pd.value_counts))\n",
    "# print(df['counts'].tolist()) # just to check the groupby is sensible\n",
    "\n",
    "## Visualise dist of number of visits per week as table and as bar chart: -------------------------------------------------------\n",
    "df['counts'] = pd.Categorical(df.counts) # make counts categorical\n",
    "count_freqs = df['counts'].value_counts().tolist()\n",
    "count_freqs[1] = count_freqs[1]/2\n",
    "count_freqs[2] = count_freqs[2]/3\n",
    "print('Instances of each number of visits per week (e.g. an individual who has 2 weeks with 3 visits adds 2 instances to the 3rd row of table): ')\n",
    "#print(count_freqs)\n",
    "\n",
    "ax = plt.subplot()\n",
    "plt.bar([1,2,3], count_freqs)\n",
    "ax.set_xticks([1,2,3])\n",
    "ax.set_xticklabels([1,2,3])\n",
    "plt.xlabel('Number of Visits in a Week (Monday start)')\n",
    "plt.ylabel('Instances')\n",
    "plt.title('Instances of Each Number of Visits per Week')\n",
    "plt.show()"
   ]
  }
 ],
 "metadata": {
  "kernelspec": {
   "display_name": "Python 3",
   "language": "python",
   "name": "python3"
  },
  "language_info": {
   "codemirror_mode": {
    "name": "ipython",
    "version": 3
   },
   "file_extension": ".py",
   "mimetype": "text/x-python",
   "name": "python",
   "nbconvert_exporter": "python",
   "pygments_lexer": "ipython3",
   "version": "3.7.6"
  }
 },
 "nbformat": 4,
 "nbformat_minor": 4
}
