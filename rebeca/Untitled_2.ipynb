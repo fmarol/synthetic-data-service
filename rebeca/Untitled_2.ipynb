{
 "cells": [
  {
   "cell_type": "code",
   "execution_count": null,
   "metadata": {},
   "outputs": [],
   "source": [
    "import pandas as pd\n",
    "import numpy as np\n",
    "import plotly as py\n",
    "#pd.options.plotting.backend = \"plotly\"\n",
    "##import tensorflow as tf\n",
    "import plotly.express as px\n",
    "#import plotly.graph_objects as go\n",
    "\n",
    "table2=pd.read_table(\"/Users/rebecafiadeiro/Documents/HDI/ISASimple_ICEMR_PRISM_cohort_RSRC_observations.txt\", sep=\"\\t\")\n",
    "\n",
    "#changing hospital dates to dtype dates\n",
    "table2['Hospital admission date [EUPATH_0000319]']=pd.to_datetime(table2['Hospital admission date [EUPATH_0000319]'])\n",
    "table2['Hospital discharge date [EUPATH_0000320]']=pd.to_datetime(table2['Hospital discharge date [EUPATH_0000320]'])\n",
    "table2['Visit date [EUPATH_0000091]']=pd.to_datetime(table2['Visit date [EUPATH_0000091]'])\n",
    "\n",
    "#new column with #days of hospital duration\n",
    "table2['Hospital_duration'] = (table2['Hospital discharge date [EUPATH_0000320]'] - table2['Hospital admission date [EUPATH_0000319]']).dt.days\n",
    "\n",
    "##this gives a timedelta\n",
    "##table2['Hospital_duration'] = (table2['Hospital discharge date [EUPATH_0000320]'] - table2['Hospital admission date [EUPATH_0000319]'])\n",
    "\n",
    "#New column with Temperature range\n",
    "bins=[0,37,38,39,40,np.inf]\n",
    "names=['<37','37-38','38-39','39-40','40+']\n",
    "table2['Temperature_range']=pd.cut(table2['Temperature (C) [EUPATH_0000110]'],bins,labels=names)\n",
    "\n",
    "#subtable for visits that resulted in hospital admission\n",
    "admitted_hospital_table2 = table2[table2[\"Hospital admission date [EUPATH_0000319]\"] .notna()]\n",
    "\n",
    "#subtable for people that weren't admitted to hospital - healthy people?\n",
    "not_admitted_hospital_table2 = table2[table2[\"Hospital admission date [EUPATH_0000319]\"] .isna()]\n",
    "\n",
    "#subtable for hospital admissions \n",
    "diagnosis_Malaria_table2 = table2[table2['Diagnosis at hospitalization [EUPATH_0000638]'].str.contains(\"Malaria\", na=False)]\n",
    "\n",
    "#subtable to look at meds and hospital stay duration for malaria diagnosis\n",
    "meds_duration_table2 = diagnosis_Malaria_table2[['Visit date [EUPATH_0000091]','Hospital admission date [EUPATH_0000319]',\"Hospital discharge date [EUPATH_0000320]\",\"Hospital_duration\", \"Malaria treatment [EUPATH_0000740]\",\"Non-malaria medication [EUPATH_0000059]\"]]\n",
    "meds_duration_table2=meds_duration_table2.sort_values(by=['Hospital_duration'])"
   ]
  },
  {
   "cell_type": "code",
   "execution_count": null,
   "metadata": {},
   "outputs": [],
   "source": []
  }
 ],
 "metadata": {
  "kernelspec": {
   "display_name": "Python 3",
   "language": "python",
   "name": "python3"
  },
  "language_info": {
   "codemirror_mode": {
    "name": "ipython",
    "version": 3
   },
   "file_extension": ".py",
   "mimetype": "text/x-python",
   "name": "python",
   "nbconvert_exporter": "python",
   "pygments_lexer": "ipython3",
   "version": "3.7.6"
  }
 },
 "nbformat": 4,
 "nbformat_minor": 4
}
